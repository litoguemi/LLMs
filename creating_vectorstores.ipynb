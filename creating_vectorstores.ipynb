{
  "cells": [
    {
      "cell_type": "markdown",
      "id": "Qk4Uw_iSr3Mc",
      "metadata": {
        "id": "Qk4Uw_iSr3Mc"
      },
      "source": [
        "<br>\n",
        "\n",
        "# <font color=\"#76b900\">Retrieval-Augmented Generation with Vector Stores</font>\n",
        "\n",
        "<br>\n",
        "\n",
        "This notebook will progress these ideas toward the retrieval model's intended use case and explore how to build chatbot systems that rely on *vector stores* to automatically save and retrieve information.\n",
        "\n",
        "<br>\n",
        "\n",
        "\n",
        "### **Environment Setup:**"
      ]
    },
    {
      "cell_type": "code",
      "execution_count": null,
      "id": "5XmeiiOWtuxC",
      "metadata": {
        "id": "5XmeiiOWtuxC"
      },
      "outputs": [],
      "source": [
        "# %%capture\n",
        "## ^^ Comment out if you want to see the pip install process\n",
        "\n",
        "##Necessary for Colab\n",
        "# %pip install -q langchain langchain-nvidia-ai-endpoints gradio rich\n",
        "# %pip install -q arxiv pymupdf faiss-cpu\n",
        "\n",
        "## If you encounter a typing-extensions issue, restart your runtime and try again\n",
        "# from langchain_nvidia_ai_endpoints import ChatNVIDIA\n",
        "# ChatNVIDIA.get_available_models()\n",
        "\n",
        "from functools import partial\n",
        "from rich.console import Console\n",
        "from rich.style import Style\n",
        "from rich.theme import Theme\n",
        "\n",
        "console = Console()\n",
        "base_style = Style(color=\"#76B900\", bold=True)\n",
        "pprint = partial(console.print, style=base_style)"
      ]
    },
    {
      "cell_type": "code",
      "execution_count": null,
      "id": "e37fe234-2bdb-4107-8483-efda9aa5e4ab",
      "metadata": {
        "id": "e37fe234-2bdb-4107-8483-efda9aa5e4ab"
      },
      "outputs": [],
      "source": [
        "from langchain_nvidia_ai_endpoints import ChatNVIDIA, NVIDIAEmbeddings\n",
        "\n",
        "# NVIDIAEmbeddings.get_available_models()\n",
        "embedder = NVIDIAEmbeddings(model=\"nvidia/nv-embed-v1\", truncate=\"END\")\n",
        "\n",
        "# ChatNVIDIA.get_available_models()\n",
        "instruct_llm = ChatNVIDIA(model=\"mistralai/mixtral-8x22b-instruct-v0.1\")"
      ]
    },
    {
      "cell_type": "markdown",
      "id": "XaZ20XoeSTD-",
      "metadata": {
        "id": "XaZ20XoeSTD-"
      },
      "source": [
        "----\n",
        "\n",
        "<br>\n",
        "\n",
        "## RAG for Conversation History\n",
        "\n",
        "\n",
        "<br>"
      ]
    },
    {
      "cell_type": "markdown",
      "id": "LRx0XUf_Sdxw",
      "metadata": {
        "id": "LRx0XUf_Sdxw"
      },
      "source": [
        "### **Step 1**: Getting A Conversation\n",
        "\n",
        "Consider a conversation crafted using Llama-13B between a chat agent and a blue bear named Beras. This dialogue, dense with details and potential diversions, provides a rich dataset for our study:\n"
      ]
    },
    {
      "cell_type": "code",
      "execution_count": null,
      "id": "IUfCuMkoShWI",
      "metadata": {
        "id": "IUfCuMkoShWI"
      },
      "outputs": [],
      "source": [
        "conversation = [  ## This conversation was generated partially by an AI system, and modified to exhibit desirable properties\n",
        "    \"[User]  Hello! My name is Beras, and I'm a big blue bear! Can you please tell me about the rocky mountains?\",\n",
        "    \"[Agent] The Rocky Mountains are a beautiful and majestic range of mountains that stretch across North America\",\n",
        "    \"[Beras] Wow, that sounds amazing! Ive never been to the Rocky Mountains before, but Ive heard many great things about them.\",\n",
        "    \"[Agent] I hope you get to visit them someday, Beras! It would be a great adventure for you!\"\n",
        "    \"[Beras] Thank you for the suggestion! Ill definitely keep it in mind for the future.\",\n",
        "    \"[Agent] In the meantime, you can learn more about the Rocky Mountains by doing some research online or watching documentaries about them.\"\n",
        "    \"[Beras] I live in the arctic, so I'm not used to the warm climate there. I was just curious, ya know!\",\n",
        "    \"[Agent] Absolutely! Lets continue the conversation and explore more about the Rocky Mountains and their significance!\"\n",
        "]"
      ]
    },
    {
      "cell_type": "markdown",
      "id": "5hIp943mSqGZ",
      "metadata": {
        "id": "5hIp943mSqGZ"
      },
      "source": [
        "### **Step 2:** Constructing Our Vector Store Retriever\n",
        "\n"
      ]
    },
    {
      "cell_type": "markdown",
      "id": "DwZUh6kgS5Ki",
      "metadata": {
        "id": "DwZUh6kgS5Ki"
      },
      "source": [
        "\n",
        "\n",
        "The following shows how you can construct a FAISS vector store and reinterpret it as a retriever using the LangChain `vectorstore` API:"
      ]
    },
    {
      "cell_type": "code",
      "execution_count": null,
      "id": "1kE2-ejoTKKU",
      "metadata": {
        "id": "1kE2-ejoTKKU",
        "outputId": "3d357a6f-f8bc-4b34-d49c-60ff1893e162"
      },
      "outputs": [
        {
          "name": "stdout",
          "output_type": "stream",
          "text": [
            "CPU times: user 63.3 ms, sys: 7.98 ms, total: 71.3 ms\n",
            "Wall time: 1.16 s\n"
          ]
        }
      ],
      "source": [
        "%%time\n",
        "## ^^ This cell will be timed to see how long the conversation embedding takes\n",
        "from langchain_nvidia_ai_endpoints import NVIDIAEmbeddings\n",
        "from langchain.vectorstores import FAISS\n",
        "\n",
        "## Streamlined from_texts FAISS vectorstore construction from text list\n",
        "convstore = FAISS.from_texts(conversation, embedding=embedder)\n",
        "retriever = convstore.as_retriever()"
      ]
    },
    {
      "cell_type": "markdown",
      "id": "muN66v5PW5dW",
      "metadata": {
        "id": "muN66v5PW5dW"
      },
      "source": [
        "The retriever can now be used like any other LangChain runnable to query the vector store for some relevant documents:"
      ]
    },
    {
      "cell_type": "code",
      "execution_count": null,
      "id": "kNZJTnlEWVYh",
      "metadata": {
        "id": "kNZJTnlEWVYh",
        "outputId": "5facfc0c-0931-4303-f172-84b144ce161d"
      },
      "outputs": [
        {
          "data": {
            "text/html": [
              "<pre style=\"white-space:pre;overflow-x:auto;line-height:normal;font-family:Menlo,'DejaVu Sans Mono',consolas,'Courier New',monospace\"><span style=\"color: #76b900; text-decoration-color: #76b900; font-weight: bold\">[</span>\n",
              "<span style=\"color: #76b900; text-decoration-color: #76b900; font-weight: bold\">    </span><span style=\"color: #800080; text-decoration-color: #800080; font-weight: bold\">Document</span><span style=\"color: #76b900; text-decoration-color: #76b900; font-weight: bold\">(</span>\n",
              "<span style=\"color: #76b900; text-decoration-color: #76b900; font-weight: bold\">        </span><span style=\"color: #808000; text-decoration-color: #808000; font-weight: bold\">page_content</span><span style=\"color: #76b900; text-decoration-color: #76b900; font-weight: bold\">=</span><span style=\"color: #008000; text-decoration-color: #008000\">\"[User]  Hello! My name is Beras, and I'm a big blue bear! Can you please tell me about the </span>\n",
              "<span style=\"color: #008000; text-decoration-color: #008000\">rocky mountains?\"</span>\n",
              "<span style=\"color: #76b900; text-decoration-color: #76b900; font-weight: bold\">    ),</span>\n",
              "<span style=\"color: #76b900; text-decoration-color: #76b900; font-weight: bold\">    </span><span style=\"color: #800080; text-decoration-color: #800080; font-weight: bold\">Document</span><span style=\"color: #76b900; text-decoration-color: #76b900; font-weight: bold\">(</span>\n",
              "<span style=\"color: #76b900; text-decoration-color: #76b900; font-weight: bold\">        </span><span style=\"color: #808000; text-decoration-color: #808000; font-weight: bold\">page_content</span><span style=\"color: #76b900; text-decoration-color: #76b900; font-weight: bold\">=</span><span style=\"color: #008000; text-decoration-color: #008000\">'[Agent] Absolutely! Lets continue the conversation and explore more about the Rocky Mountains</span>\n",
              "<span style=\"color: #008000; text-decoration-color: #008000\">and their significance!'</span>\n",
              "<span style=\"color: #76b900; text-decoration-color: #76b900; font-weight: bold\">    ),</span>\n",
              "<span style=\"color: #76b900; text-decoration-color: #76b900; font-weight: bold\">    </span><span style=\"color: #800080; text-decoration-color: #800080; font-weight: bold\">Document</span><span style=\"color: #76b900; text-decoration-color: #76b900; font-weight: bold\">(</span>\n",
              "<span style=\"color: #76b900; text-decoration-color: #76b900; font-weight: bold\">        </span><span style=\"color: #808000; text-decoration-color: #808000; font-weight: bold\">page_content</span><span style=\"color: #76b900; text-decoration-color: #76b900; font-weight: bold\">=</span><span style=\"color: #008000; text-decoration-color: #008000\">'[Agent] I hope you get to visit them someday, Beras! It would be a great adventure for </span>\n",
              "<span style=\"color: #008000; text-decoration-color: #008000\">you![Beras] Thank you for the suggestion! Ill definitely keep it in mind for the future.'</span>\n",
              "<span style=\"color: #76b900; text-decoration-color: #76b900; font-weight: bold\">    ),</span>\n",
              "<span style=\"color: #76b900; text-decoration-color: #76b900; font-weight: bold\">    </span><span style=\"color: #800080; text-decoration-color: #800080; font-weight: bold\">Document</span><span style=\"color: #76b900; text-decoration-color: #76b900; font-weight: bold\">(</span>\n",
              "<span style=\"color: #76b900; text-decoration-color: #76b900; font-weight: bold\">        </span><span style=\"color: #808000; text-decoration-color: #808000; font-weight: bold\">page_content</span><span style=\"color: #76b900; text-decoration-color: #76b900; font-weight: bold\">=</span><span style=\"color: #008000; text-decoration-color: #008000\">\"[Agent] In the meantime, you can learn more about the Rocky Mountains by doing some research </span>\n",
              "<span style=\"color: #008000; text-decoration-color: #008000\">online or watching documentaries about them.[Beras] I live in the arctic, so I'm not used to the warm climate </span>\n",
              "<span style=\"color: #008000; text-decoration-color: #008000\">there. I was just curious, ya know!\"</span>\n",
              "<span style=\"color: #76b900; text-decoration-color: #76b900; font-weight: bold\">    )</span>\n",
              "<span style=\"color: #76b900; text-decoration-color: #76b900; font-weight: bold\">]</span>\n",
              "</pre>\n"
            ],
            "text/plain": [
              "\u001b[1;38;2;118;185;0m[\u001b[0m\n",
              "\u001b[1;38;2;118;185;0m    \u001b[0m\u001b[1;35mDocument\u001b[0m\u001b[1;38;2;118;185;0m(\u001b[0m\n",
              "\u001b[1;38;2;118;185;0m        \u001b[0m\u001b[1;33mpage_content\u001b[0m\u001b[1;38;2;118;185;0m=\u001b[0m\u001b[32m\"\u001b[0m\u001b[32m[\u001b[0m\u001b[32mUser\u001b[0m\u001b[32m]\u001b[0m\u001b[32m  Hello! My name is Beras, and I'm a big blue bear! Can you please tell me about the \u001b[0m\n",
              "\u001b[32mrocky mountains?\"\u001b[0m\n",
              "\u001b[1;38;2;118;185;0m    \u001b[0m\u001b[1;38;2;118;185;0m)\u001b[0m\u001b[1;38;2;118;185;0m,\u001b[0m\n",
              "\u001b[1;38;2;118;185;0m    \u001b[0m\u001b[1;35mDocument\u001b[0m\u001b[1;38;2;118;185;0m(\u001b[0m\n",
              "\u001b[1;38;2;118;185;0m        \u001b[0m\u001b[1;33mpage_content\u001b[0m\u001b[1;38;2;118;185;0m=\u001b[0m\u001b[32m'\u001b[0m\u001b[32m[\u001b[0m\u001b[32mAgent\u001b[0m\u001b[32m]\u001b[0m\u001b[32m Absolutely! Lets continue the conversation and explore more about the Rocky Mountains\u001b[0m\n",
              "\u001b[32mand their significance!'\u001b[0m\n",
              "\u001b[1;38;2;118;185;0m    \u001b[0m\u001b[1;38;2;118;185;0m)\u001b[0m\u001b[1;38;2;118;185;0m,\u001b[0m\n",
              "\u001b[1;38;2;118;185;0m    \u001b[0m\u001b[1;35mDocument\u001b[0m\u001b[1;38;2;118;185;0m(\u001b[0m\n",
              "\u001b[1;38;2;118;185;0m        \u001b[0m\u001b[1;33mpage_content\u001b[0m\u001b[1;38;2;118;185;0m=\u001b[0m\u001b[32m'\u001b[0m\u001b[32m[\u001b[0m\u001b[32mAgent\u001b[0m\u001b[32m]\u001b[0m\u001b[32m I hope you get to visit them someday, Beras! It would be a great adventure for \u001b[0m\n",
              "\u001b[32myou!\u001b[0m\u001b[32m[\u001b[0m\u001b[32mBeras\u001b[0m\u001b[32m]\u001b[0m\u001b[32m Thank you for the suggestion! Ill definitely keep it in mind for the future.'\u001b[0m\n",
              "\u001b[1;38;2;118;185;0m    \u001b[0m\u001b[1;38;2;118;185;0m)\u001b[0m\u001b[1;38;2;118;185;0m,\u001b[0m\n",
              "\u001b[1;38;2;118;185;0m    \u001b[0m\u001b[1;35mDocument\u001b[0m\u001b[1;38;2;118;185;0m(\u001b[0m\n",
              "\u001b[1;38;2;118;185;0m        \u001b[0m\u001b[1;33mpage_content\u001b[0m\u001b[1;38;2;118;185;0m=\u001b[0m\u001b[32m\"\u001b[0m\u001b[32m[\u001b[0m\u001b[32mAgent\u001b[0m\u001b[32m]\u001b[0m\u001b[32m In the meantime, you can learn more about the Rocky Mountains by doing some research \u001b[0m\n",
              "\u001b[32monline or watching documentaries about them.\u001b[0m\u001b[32m[\u001b[0m\u001b[32mBeras\u001b[0m\u001b[32m]\u001b[0m\u001b[32m I live in the arctic, so I'm not used to the warm climate \u001b[0m\n",
              "\u001b[32mthere. I was just curious, ya know!\"\u001b[0m\n",
              "\u001b[1;38;2;118;185;0m    \u001b[0m\u001b[1;38;2;118;185;0m)\u001b[0m\n",
              "\u001b[1;38;2;118;185;0m]\u001b[0m\n"
            ]
          },
          "metadata": {},
          "output_type": "display_data"
        }
      ],
      "source": [
        "pprint(retriever.invoke(\"What is your name?\"))"
      ]
    },
    {
      "cell_type": "code",
      "execution_count": null,
      "id": "SE1eDZTEWScC",
      "metadata": {
        "id": "SE1eDZTEWScC",
        "outputId": "7d711606-e889-4ed3-b904-d229df5c79f1"
      },
      "outputs": [
        {
          "data": {
            "text/html": [
              "<pre style=\"white-space:pre;overflow-x:auto;line-height:normal;font-family:Menlo,'DejaVu Sans Mono',consolas,'Courier New',monospace\"><span style=\"color: #76b900; text-decoration-color: #76b900; font-weight: bold\">[</span>\n",
              "<span style=\"color: #76b900; text-decoration-color: #76b900; font-weight: bold\">    </span><span style=\"color: #800080; text-decoration-color: #800080; font-weight: bold\">Document</span><span style=\"color: #76b900; text-decoration-color: #76b900; font-weight: bold\">(</span>\n",
              "<span style=\"color: #76b900; text-decoration-color: #76b900; font-weight: bold\">        </span><span style=\"color: #808000; text-decoration-color: #808000; font-weight: bold\">page_content</span><span style=\"color: #76b900; text-decoration-color: #76b900; font-weight: bold\">=</span><span style=\"color: #008000; text-decoration-color: #008000\">'[Agent] The Rocky Mountains are a beautiful and majestic range of mountains that stretch </span>\n",
              "<span style=\"color: #008000; text-decoration-color: #008000\">across North America'</span>\n",
              "<span style=\"color: #76b900; text-decoration-color: #76b900; font-weight: bold\">    ),</span>\n",
              "<span style=\"color: #76b900; text-decoration-color: #76b900; font-weight: bold\">    </span><span style=\"color: #800080; text-decoration-color: #800080; font-weight: bold\">Document</span><span style=\"color: #76b900; text-decoration-color: #76b900; font-weight: bold\">(</span>\n",
              "<span style=\"color: #76b900; text-decoration-color: #76b900; font-weight: bold\">        </span><span style=\"color: #808000; text-decoration-color: #808000; font-weight: bold\">page_content</span><span style=\"color: #76b900; text-decoration-color: #76b900; font-weight: bold\">=</span><span style=\"color: #008000; text-decoration-color: #008000\">\"[Agent] In the meantime, you can learn more about the Rocky Mountains by doing some research </span>\n",
              "<span style=\"color: #008000; text-decoration-color: #008000\">online or watching documentaries about them.[Beras] I live in the arctic, so I'm not used to the warm climate </span>\n",
              "<span style=\"color: #008000; text-decoration-color: #008000\">there. I was just curious, ya know!\"</span>\n",
              "<span style=\"color: #76b900; text-decoration-color: #76b900; font-weight: bold\">    ),</span>\n",
              "<span style=\"color: #76b900; text-decoration-color: #76b900; font-weight: bold\">    </span><span style=\"color: #800080; text-decoration-color: #800080; font-weight: bold\">Document</span><span style=\"color: #76b900; text-decoration-color: #76b900; font-weight: bold\">(</span>\n",
              "<span style=\"color: #76b900; text-decoration-color: #76b900; font-weight: bold\">        </span><span style=\"color: #808000; text-decoration-color: #808000; font-weight: bold\">page_content</span><span style=\"color: #76b900; text-decoration-color: #76b900; font-weight: bold\">=</span><span style=\"color: #008000; text-decoration-color: #008000\">\"[User]  Hello! My name is Beras, and I'm a big blue bear! Can you please tell me about the </span>\n",
              "<span style=\"color: #008000; text-decoration-color: #008000\">rocky mountains?\"</span>\n",
              "<span style=\"color: #76b900; text-decoration-color: #76b900; font-weight: bold\">    ),</span>\n",
              "<span style=\"color: #76b900; text-decoration-color: #76b900; font-weight: bold\">    </span><span style=\"color: #800080; text-decoration-color: #800080; font-weight: bold\">Document</span><span style=\"color: #76b900; text-decoration-color: #76b900; font-weight: bold\">(</span>\n",
              "<span style=\"color: #76b900; text-decoration-color: #76b900; font-weight: bold\">        </span><span style=\"color: #808000; text-decoration-color: #808000; font-weight: bold\">page_content</span><span style=\"color: #76b900; text-decoration-color: #76b900; font-weight: bold\">=</span><span style=\"color: #008000; text-decoration-color: #008000\">'[Agent] Absolutely! Lets continue the conversation and explore more about the Rocky Mountains</span>\n",
              "<span style=\"color: #008000; text-decoration-color: #008000\">and their significance!'</span>\n",
              "<span style=\"color: #76b900; text-decoration-color: #76b900; font-weight: bold\">    )</span>\n",
              "<span style=\"color: #76b900; text-decoration-color: #76b900; font-weight: bold\">]</span>\n",
              "</pre>\n"
            ],
            "text/plain": [
              "\u001b[1;38;2;118;185;0m[\u001b[0m\n",
              "\u001b[1;38;2;118;185;0m    \u001b[0m\u001b[1;35mDocument\u001b[0m\u001b[1;38;2;118;185;0m(\u001b[0m\n",
              "\u001b[1;38;2;118;185;0m        \u001b[0m\u001b[1;33mpage_content\u001b[0m\u001b[1;38;2;118;185;0m=\u001b[0m\u001b[32m'\u001b[0m\u001b[32m[\u001b[0m\u001b[32mAgent\u001b[0m\u001b[32m]\u001b[0m\u001b[32m The Rocky Mountains are a beautiful and majestic range of mountains that stretch \u001b[0m\n",
              "\u001b[32macross North America'\u001b[0m\n",
              "\u001b[1;38;2;118;185;0m    \u001b[0m\u001b[1;38;2;118;185;0m)\u001b[0m\u001b[1;38;2;118;185;0m,\u001b[0m\n",
              "\u001b[1;38;2;118;185;0m    \u001b[0m\u001b[1;35mDocument\u001b[0m\u001b[1;38;2;118;185;0m(\u001b[0m\n",
              "\u001b[1;38;2;118;185;0m        \u001b[0m\u001b[1;33mpage_content\u001b[0m\u001b[1;38;2;118;185;0m=\u001b[0m\u001b[32m\"\u001b[0m\u001b[32m[\u001b[0m\u001b[32mAgent\u001b[0m\u001b[32m]\u001b[0m\u001b[32m In the meantime, you can learn more about the Rocky Mountains by doing some research \u001b[0m\n",
              "\u001b[32monline or watching documentaries about them.\u001b[0m\u001b[32m[\u001b[0m\u001b[32mBeras\u001b[0m\u001b[32m]\u001b[0m\u001b[32m I live in the arctic, so I'm not used to the warm climate \u001b[0m\n",
              "\u001b[32mthere. I was just curious, ya know!\"\u001b[0m\n",
              "\u001b[1;38;2;118;185;0m    \u001b[0m\u001b[1;38;2;118;185;0m)\u001b[0m\u001b[1;38;2;118;185;0m,\u001b[0m\n",
              "\u001b[1;38;2;118;185;0m    \u001b[0m\u001b[1;35mDocument\u001b[0m\u001b[1;38;2;118;185;0m(\u001b[0m\n",
              "\u001b[1;38;2;118;185;0m        \u001b[0m\u001b[1;33mpage_content\u001b[0m\u001b[1;38;2;118;185;0m=\u001b[0m\u001b[32m\"\u001b[0m\u001b[32m[\u001b[0m\u001b[32mUser\u001b[0m\u001b[32m]\u001b[0m\u001b[32m  Hello! My name is Beras, and I'm a big blue bear! Can you please tell me about the \u001b[0m\n",
              "\u001b[32mrocky mountains?\"\u001b[0m\n",
              "\u001b[1;38;2;118;185;0m    \u001b[0m\u001b[1;38;2;118;185;0m)\u001b[0m\u001b[1;38;2;118;185;0m,\u001b[0m\n",
              "\u001b[1;38;2;118;185;0m    \u001b[0m\u001b[1;35mDocument\u001b[0m\u001b[1;38;2;118;185;0m(\u001b[0m\n",
              "\u001b[1;38;2;118;185;0m        \u001b[0m\u001b[1;33mpage_content\u001b[0m\u001b[1;38;2;118;185;0m=\u001b[0m\u001b[32m'\u001b[0m\u001b[32m[\u001b[0m\u001b[32mAgent\u001b[0m\u001b[32m]\u001b[0m\u001b[32m Absolutely! Lets continue the conversation and explore more about the Rocky Mountains\u001b[0m\n",
              "\u001b[32mand their significance!'\u001b[0m\n",
              "\u001b[1;38;2;118;185;0m    \u001b[0m\u001b[1;38;2;118;185;0m)\u001b[0m\n",
              "\u001b[1;38;2;118;185;0m]\u001b[0m\n"
            ]
          },
          "metadata": {},
          "output_type": "display_data"
        }
      ],
      "source": [
        "pprint(retriever.invoke(\"Where are the Rocky Mountains?\"))"
      ]
    },
    {
      "cell_type": "markdown",
      "id": "ZEDEzpqmTYMv",
      "metadata": {
        "id": "ZEDEzpqmTYMv"
      },
      "source": [
        "### **Step 3:** Incorporating Conversation Retrieval Into Our Chain\n",
        "\n",
        "Now that we have our loaded retriever component as a chain, we can incorporate it into our existing chat system as before. Specifically, we can start with an ***always-on RAG formulation*** where:\n",
        "- **A retriever is always retrieving context by default**.\n",
        "- **A generator is acting on the retrieved context**."
      ]
    },
    {
      "cell_type": "code",
      "execution_count": null,
      "id": "64abe478-9bcb-4802-a26e-dc5a1756e313",
      "metadata": {
        "id": "64abe478-9bcb-4802-a26e-dc5a1756e313"
      },
      "outputs": [],
      "source": [
        "from langchain.document_transformers import LongContextReorder\n",
        "from langchain.prompts import ChatPromptTemplate\n",
        "from langchain.schema.output_parser import StrOutputParser\n",
        "from langchain.schema.runnable import RunnableLambda\n",
        "from langchain.schema.runnable.passthrough import RunnableAssign\n",
        "from langchain_nvidia_ai_endpoints import ChatNVIDIA, NVIDIAEmbeddings\n",
        "\n",
        "from functools import partial\n",
        "from operator import itemgetter\n",
        "\n",
        "########################################################################\n",
        "## Utility Runnables/Methods\n",
        "def RPrint(preface=\"\"):\n",
        "    \"\"\"Simple passthrough \"prints, then returns\" chain\"\"\"\n",
        "    def print_and_return(x, preface):\n",
        "        if preface: print(preface, end=\"\")\n",
        "        pprint(x)\n",
        "        return x\n",
        "    return RunnableLambda(partial(print_and_return, preface=preface))\n",
        "\n",
        "def docs2str(docs, title=\"Document\"):\n",
        "    \"\"\"Useful utility for making chunks into context string. Optional, but useful\"\"\"\n",
        "    out_str = \"\"\n",
        "    for doc in docs:\n",
        "        doc_name = getattr(doc, 'metadata', {}).get('Title', title)\n",
        "        if doc_name:\n",
        "            out_str += f\"[Quote from {doc_name}] \"\n",
        "        out_str += getattr(doc, 'page_content', str(doc)) + \"\\n\"\n",
        "    return out_str\n",
        "\n",
        "## Optional; Reorders longer documents to center of output text\n",
        "long_reorder = RunnableLambda(LongContextReorder().transform_documents)"
      ]
    },
    {
      "cell_type": "code",
      "execution_count": null,
      "id": "uue5UY3_TcvF",
      "metadata": {
        "id": "uue5UY3_TcvF",
        "outputId": "0c4cf4e4-bf3c-4680-a06c-024169a45316"
      },
      "outputs": [
        {
          "data": {
            "text/html": [
              "<pre style=\"white-space:pre;overflow-x:auto;line-height:normal;font-family:Menlo,'DejaVu Sans Mono',consolas,'Courier New',monospace\"><span style=\"color: #76b900; text-decoration-color: #76b900; font-weight: bold\">Based on the context provided, Beras lives in the Arctic. It seems like the Rocky Mountains are a fascinating place</span>\n",
              "<span style=\"color: #76b900; text-decoration-color: #76b900; font-weight: bold\">for Beras to explore, given that they live in a completely different climate.</span>\n",
              "</pre>\n"
            ],
            "text/plain": [
              "\u001b[1;38;2;118;185;0mBased on the context provided, Beras lives in the Arctic. It seems like the Rocky Mountains are a fascinating place\u001b[0m\n",
              "\u001b[1;38;2;118;185;0mfor Beras to explore, given that they live in a completely different climate.\u001b[0m\n"
            ]
          },
          "metadata": {},
          "output_type": "display_data"
        }
      ],
      "source": [
        "context_prompt = ChatPromptTemplate.from_template(\n",
        "    \"Answer the question using only the context\"\n",
        "    \"\\n\\nRetrieved Context: {context}\"\n",
        "    \"\\n\\nUser Question: {question}\"\n",
        "    \"\\nAnswer the user conversationally. User is not aware of context.\"\n",
        ")\n",
        "\n",
        "chain = (\n",
        "    {\n",
        "        'context': convstore.as_retriever() | long_reorder | docs2str,\n",
        "        'question': (lambda x:x)\n",
        "    }\n",
        "    | context_prompt\n",
        "    # | RPrint()\n",
        "    | instruct_llm\n",
        "    | StrOutputParser()\n",
        ")\n",
        "\n",
        "pprint(chain.invoke(\"Where does Beras live?\"))"
      ]
    },
    {
      "cell_type": "markdown",
      "id": "FSIqTMuuTjIh",
      "metadata": {
        "id": "FSIqTMuuTjIh"
      },
      "source": [
        "Take a second to try out some more invocations and see how the new setup performs. Regardless of your model choice, the following questions should serve as interesting starting points."
      ]
    },
    {
      "cell_type": "code",
      "execution_count": null,
      "id": "4jDJwrYpTmpd",
      "metadata": {
        "id": "4jDJwrYpTmpd",
        "outputId": "6b498a36-2681-4071-fdb3-3b5fe9e61ea4"
      },
      "outputs": [
        {
          "data": {
            "text/html": [
              "<pre style=\"white-space:pre;overflow-x:auto;line-height:normal;font-family:Menlo,'DejaVu Sans Mono',consolas,'Courier New',monospace\"><span style=\"color: #76b900; text-decoration-color: #76b900; font-weight: bold\">Hello there! The Rocky Mountains are a stunning range of mountains that span across North America. Unfortunately, </span>\n",
              "<span style=\"color: #76b900; text-decoration-color: #76b900; font-weight: bold\">without more context, I can't give you a precise location beyond that. However, you can find out more by doing some</span>\n",
              "<span style=\"color: #76b900; text-decoration-color: #76b900; font-weight: bold\">research online or watching documentaries about them. I hope you enjoy learning about the Rocky Mountains!</span>\n",
              "</pre>\n"
            ],
            "text/plain": [
              "\u001b[1;38;2;118;185;0mHello there! The Rocky Mountains are a stunning range of mountains that span across North America. Unfortunately, \u001b[0m\n",
              "\u001b[1;38;2;118;185;0mwithout more context, I can't give you a precise location beyond that. However, you can find out more by doing some\u001b[0m\n",
              "\u001b[1;38;2;118;185;0mresearch online or watching documentaries about them. I hope you enjoy learning about the Rocky Mountains!\u001b[0m\n"
            ]
          },
          "metadata": {},
          "output_type": "display_data"
        }
      ],
      "source": [
        "pprint(chain.invoke(\"Where are the Rocky Mountains?\"))"
      ]
    },
    {
      "cell_type": "code",
      "execution_count": null,
      "id": "-artagLfTpBy",
      "metadata": {
        "id": "-artagLfTpBy",
        "outputId": "175aec31-1e27-43a7-e18d-81de785975a6"
      },
      "outputs": [
        {
          "data": {
            "text/html": [
              "<pre style=\"white-space:pre;overflow-x:auto;line-height:normal;font-family:Menlo,'DejaVu Sans Mono',consolas,'Courier New',monospace\"><span style=\"color: #76b900; text-decoration-color: #76b900; font-weight: bold\">Hello there! The Rocky Mountains are a stunning range of mountains that span across North America. To answer your </span>\n",
              "<span style=\"color: #76b900; text-decoration-color: #76b900; font-weight: bold\">question about their location, they do not directly border California. In fact, they run north to south, starting </span>\n",
              "<span style=\"color: #76b900; text-decoration-color: #76b900; font-weight: bold\">from western Canada and stretching all the way down through the states of Montana, Idaho, Wyoming, Colorado, and </span>\n",
              "<span style=\"color: #76b900; text-decoration-color: #76b900; font-weight: bold\">into New Mexico. So, while they're not close to California, they do cover a significant portion of North America! </span>\n",
              "<span style=\"color: #76b900; text-decoration-color: #76b900; font-weight: bold\">Would you like to know more about the Rocky Mountains?</span>\n",
              "</pre>\n"
            ],
            "text/plain": [
              "\u001b[1;38;2;118;185;0mHello there! The Rocky Mountains are a stunning range of mountains that span across North America. To answer your \u001b[0m\n",
              "\u001b[1;38;2;118;185;0mquestion about their location, they do not directly border California. In fact, they run north to south, starting \u001b[0m\n",
              "\u001b[1;38;2;118;185;0mfrom western Canada and stretching all the way down through the states of Montana, Idaho, Wyoming, Colorado, and \u001b[0m\n",
              "\u001b[1;38;2;118;185;0minto New Mexico. So, while they're not close to California, they do cover a significant portion of North America! \u001b[0m\n",
              "\u001b[1;38;2;118;185;0mWould you like to know more about the Rocky Mountains?\u001b[0m\n"
            ]
          },
          "metadata": {},
          "output_type": "display_data"
        }
      ],
      "source": [
        "pprint(chain.invoke(\"Where are the Rocky Mountains? Are they close to California?\"))"
      ]
    },
    {
      "cell_type": "code",
      "execution_count": null,
      "id": "GDgjdfdpTrV5",
      "metadata": {
        "id": "GDgjdfdpTrV5",
        "outputId": "18bc6944-b3e6-4b33-e9f9-28d0e32b0044"
      },
      "outputs": [
        {
          "data": {
            "text/html": [
              "<pre style=\"white-space:pre;overflow-x:auto;line-height:normal;font-family:Menlo,'DejaVu Sans Mono',consolas,'Courier New',monospace\"><span style=\"color: #76b900; text-decoration-color: #76b900; font-weight: bold\">Unfortunately, the context doesn't provide information on Beras' exact location or distance from the Rocky </span>\n",
              "<span style=\"color: #76b900; text-decoration-color: #76b900; font-weight: bold\">Mountains. I can tell you, though, that the Rocky Mountains are a beautiful and majestic range of mountains </span>\n",
              "<span style=\"color: #76b900; text-decoration-color: #76b900; font-weight: bold\">stretching across North America. If you'd like, I can search for more information about their geographical location</span>\n",
              "<span style=\"color: #76b900; text-decoration-color: #76b900; font-weight: bold\">and specific details about their range.</span>\n",
              "</pre>\n"
            ],
            "text/plain": [
              "\u001b[1;38;2;118;185;0mUnfortunately, the context doesn't provide information on Beras' exact location or distance from the Rocky \u001b[0m\n",
              "\u001b[1;38;2;118;185;0mMountains. I can tell you, though, that the Rocky Mountains are a beautiful and majestic range of mountains \u001b[0m\n",
              "\u001b[1;38;2;118;185;0mstretching across North America. If you'd like, I can search for more information about their geographical location\u001b[0m\n",
              "\u001b[1;38;2;118;185;0mand specific details about their range.\u001b[0m\n"
            ]
          },
          "metadata": {},
          "output_type": "display_data"
        }
      ],
      "source": [
        "pprint(chain.invoke(\"How far away is Beras from the Rocky Mountains?\"))"
      ]
    },
    {
      "cell_type": "markdown",
      "id": "OnpOybOhUCTf",
      "metadata": {
        "id": "OnpOybOhUCTf"
      },
      "source": [
        "### **Step 4:** Automatic Conversation Storage\n",
        "\n",
        "Now that we see how our vector store memory unit should function, we can perform one last integration to allow our conversation to add new entries to our conversation: a runnable that calls the `add_texts` method for us to update the store state.\n"
      ]
    },
    {
      "cell_type": "code",
      "execution_count": null,
      "id": "FsK6-AtRVdcZ",
      "metadata": {
        "id": "FsK6-AtRVdcZ",
        "outputId": "8e727406-da57-444f-8d26-b864829eb05b"
      },
      "outputs": [
        {
          "data": {
            "text/html": [
              "<pre style=\"white-space:pre;overflow-x:auto;line-height:normal;font-family:Menlo,'DejaVu Sans Mono',consolas,'Courier New',monospace\"><span style=\"color: #76b900; text-decoration-color: #76b900; font-weight: bold\">While I'm sure the Rocky Mountains would provide a magnificent backdrop for enjoying ice cream, it's worth noting </span>\n",
              "<span style=\"color: #76b900; text-decoration-color: #76b900; font-weight: bold\">that the Rocky Mountains are known more for their stunning landscapes, diverse wildlife, and opportunities for </span>\n",
              "<span style=\"color: #76b900; text-decoration-color: #76b900; font-weight: bold\">outdoor activities like hiking, camping, and skiing. Even so, I'm glad you're excited about the possibility of </span>\n",
              "<span style=\"color: #76b900; text-decoration-color: #76b900; font-weight: bold\">visiting this beautiful place!</span>\n",
              "</pre>\n"
            ],
            "text/plain": [
              "\u001b[1;38;2;118;185;0mWhile I'm sure the Rocky Mountains would provide a magnificent backdrop for enjoying ice cream, it's worth noting \u001b[0m\n",
              "\u001b[1;38;2;118;185;0mthat the Rocky Mountains are known more for their stunning landscapes, diverse wildlife, and opportunities for \u001b[0m\n",
              "\u001b[1;38;2;118;185;0moutdoor activities like hiking, camping, and skiing. Even so, I'm glad you're excited about the possibility of \u001b[0m\n",
              "\u001b[1;38;2;118;185;0mvisiting this beautiful place!\u001b[0m\n"
            ]
          },
          "metadata": {},
          "output_type": "display_data"
        },
        {
          "name": "stdout",
          "output_type": "stream",
          "text": [
            "\n"
          ]
        },
        {
          "data": {
            "text/html": [
              "<pre style=\"white-space:pre;overflow-x:auto;line-height:normal;font-family:Menlo,'DejaVu Sans Mono',consolas,'Courier New',monospace\"><span style=\"color: #76b900; text-decoration-color: #76b900; font-weight: bold\">Well, based on our conversation, it seems like you have quite an affection for ice cream! In fact, you've mentioned</span>\n",
              "<span style=\"color: #76b900; text-decoration-color: #76b900; font-weight: bold\">it several times and even expressed your excitement about having some in the Rocky Mountains. So, I'd guess that </span>\n",
              "<span style=\"color: #76b900; text-decoration-color: #76b900; font-weight: bold\">ice cream might just be your favorite food, Beras!</span>\n",
              "</pre>\n"
            ],
            "text/plain": [
              "\u001b[1;38;2;118;185;0mWell, based on our conversation, it seems like you have quite an affection for ice cream! In fact, you've mentioned\u001b[0m\n",
              "\u001b[1;38;2;118;185;0mit several times and even expressed your excitement about having some in the Rocky Mountains. So, I'd guess that \u001b[0m\n",
              "\u001b[1;38;2;118;185;0mice cream might just be your favorite food, Beras!\u001b[0m\n"
            ]
          },
          "metadata": {},
          "output_type": "display_data"
        },
        {
          "name": "stdout",
          "output_type": "stream",
          "text": [
            "\n"
          ]
        },
        {
          "data": {
            "text/html": [
              "<pre style=\"white-space:pre;overflow-x:auto;line-height:normal;font-family:Menlo,'DejaVu Sans Mono',consolas,'Courier New',monospace\"><span style=\"color: #76b900; text-decoration-color: #76b900; font-weight: bold\">Well, Beras, it seems like there's been a bit of a misunderstanding! While our conversation did highlight your love</span>\n",
              "<span style=\"color: #76b900; text-decoration-color: #76b900; font-weight: bold\">for ice cream, especially in the context of the Rocky Mountains, it's wonderful to know that your favorite food is </span>\n",
              "<span style=\"color: #76b900; text-decoration-color: #76b900; font-weight: bold\">actually honey. I must say, your affection for honey is just as delightful! It's fascinating how certain foods can </span>\n",
              "<span style=\"color: #76b900; text-decoration-color: #76b900; font-weight: bold\">bring us so much joy. I'm sure you'd enjoy a sweet, golden drizzle of honey in the Rocky Mountains just as much as </span>\n",
              "<span style=\"color: #76b900; text-decoration-color: #76b900; font-weight: bold\">an ice cream.</span>\n",
              "</pre>\n"
            ],
            "text/plain": [
              "\u001b[1;38;2;118;185;0mWell, Beras, it seems like there's been a bit of a misunderstanding! While our conversation did highlight your love\u001b[0m\n",
              "\u001b[1;38;2;118;185;0mfor ice cream, especially in the context of the Rocky Mountains, it's wonderful to know that your favorite food is \u001b[0m\n",
              "\u001b[1;38;2;118;185;0mactually honey. I must say, your affection for honey is just as delightful! It's fascinating how certain foods can \u001b[0m\n",
              "\u001b[1;38;2;118;185;0mbring us so much joy. I'm sure you'd enjoy a sweet, golden drizzle of honey in the Rocky Mountains just as much as \u001b[0m\n",
              "\u001b[1;38;2;118;185;0man ice cream.\u001b[0m\n"
            ]
          },
          "metadata": {},
          "output_type": "display_data"
        },
        {
          "name": "stdout",
          "output_type": "stream",
          "text": [
            "\n"
          ]
        },
        {
          "data": {
            "text/html": [
              "<pre style=\"white-space:pre;overflow-x:auto;line-height:normal;font-family:Menlo,'DejaVu Sans Mono',consolas,'Courier New',monospace\"><span style=\"color: #76b900; text-decoration-color: #76b900; font-weight: bold\">Absolutely, Beras! I do believe I know your favorite food now. While we did chat about ice cream a lot and I may </span>\n",
              "<span style=\"color: #76b900; text-decoration-color: #76b900; font-weight: bold\">have gotten the impression that it's your favorite, you've delightfully clarified that it's actually honey! So yes,</span>\n",
              "<span style=\"color: #76b900; text-decoration-color: #76b900; font-weight: bold\">I'm well aware that your favorite food is the sweet, golden goodness of honey. It's fascinating how our tastes can </span>\n",
              "<span style=\"color: #76b900; text-decoration-color: #76b900; font-weight: bold\">surprise us, isn't it?</span>\n",
              "</pre>\n"
            ],
            "text/plain": [
              "\u001b[1;38;2;118;185;0mAbsolutely, Beras! I do believe I know your favorite food now. While we did chat about ice cream a lot and I may \u001b[0m\n",
              "\u001b[1;38;2;118;185;0mhave gotten the impression that it's your favorite, you've delightfully clarified that it's actually honey! So yes,\u001b[0m\n",
              "\u001b[1;38;2;118;185;0mI'm well aware that your favorite food is the sweet, golden goodness of honey. It's fascinating how our tastes can \u001b[0m\n",
              "\u001b[1;38;2;118;185;0msurprise us, isn't it?\u001b[0m\n"
            ]
          },
          "metadata": {},
          "output_type": "display_data"
        }
      ],
      "source": [
        "from langchain_core.prompts import ChatPromptTemplate\n",
        "from langchain_core.output_parsers import StrOutputParser\n",
        "from operator import itemgetter\n",
        "\n",
        "########################################################################\n",
        "## Reset knowledge base and define what it means to add more messages.\n",
        "convstore = FAISS.from_texts(conversation, embedding=embedder)\n",
        "\n",
        "def save_memory_and_get_output(d, vstore):\n",
        "    \"\"\"Accepts 'input'/'output' dictionary and saves to convstore\"\"\"\n",
        "    vstore.add_texts([f\"User said {d.get('input')}\", f\"Agent said {d.get('output')}\"])\n",
        "    return d.get('output')\n",
        "\n",
        "########################################################################\n",
        "\n",
        "# instruct_llm = ChatNVIDIA(model=\"mistralai/mixtral-8x22b-instruct-v0.1\")\n",
        "\n",
        "chat_prompt = ChatPromptTemplate.from_template(\n",
        "    \"Answer the question using only the context\"\n",
        "    \"\\n\\nRetrieved Context: {context}\"\n",
        "    \"\\n\\nUser Question: {input}\"\n",
        "    \"\\nAnswer the user conversationally. Make sure the conversation flows naturally.\\n\"\n",
        "    \"[Agent]\"\n",
        ")\n",
        "\n",
        "\n",
        "conv_chain = (\n",
        "    {\n",
        "        'context': convstore.as_retriever() | long_reorder | docs2str,\n",
        "        'input': (lambda x:x)\n",
        "    }\n",
        "    | RunnableAssign({'output' : chat_prompt | instruct_llm | StrOutputParser()})\n",
        "    | partial(save_memory_and_get_output, vstore=convstore)\n",
        ")\n",
        "\n",
        "pprint(conv_chain.invoke(\"I'm glad you agree! I can't wait to get some ice cream there! It's such a good food!\"))\n",
        "print()\n",
        "pprint(conv_chain.invoke(\"Can you guess what my favorite food is?\"))\n",
        "print()\n",
        "pprint(conv_chain.invoke(\"Actually, my favorite is honey! Not sure where you got that idea?\"))\n",
        "print()\n",
        "pprint(conv_chain.invoke(\"I see! Fair enough! Do you know my favorite food now?\"))"
      ]
    },
    {
      "cell_type": "markdown",
      "id": "9TPkh3SaLbqh",
      "metadata": {
        "id": "9TPkh3SaLbqh"
      },
      "source": [
        "----\n",
        "\n",
        "<br>\n",
        "\n",
        "## RAG For Document Chunk Retrieval\n",
        "<br>\n",
        "\n",
        "\n"
      ]
    },
    {
      "cell_type": "markdown",
      "id": "jSjfCtiQnj9e",
      "metadata": {
        "id": "jSjfCtiQnj9e"
      },
      "source": [
        "<br>\n",
        "\n",
        "### **Task 1**: Loading And Chunking Your Documents\n"
      ]
    },
    {
      "cell_type": "code",
      "execution_count": null,
      "id": "S-3FBdT_lhVT",
      "metadata": {
        "id": "S-3FBdT_lhVT",
        "outputId": "b7ab7130-9229-41c7-90a7-79162eb399e5"
      },
      "outputs": [
        {
          "name": "stdout",
          "output_type": "stream",
          "text": [
            "Loading Documents\n",
            "Chunking Documents\n"
          ]
        },
        {
          "data": {
            "text/html": [
              "<pre style=\"white-space:pre;overflow-x:auto;line-height:normal;font-family:Menlo,'DejaVu Sans Mono',consolas,'Courier New',monospace\"><span style=\"color: #76b900; text-decoration-color: #76b900; font-weight: bold\">Available Documents:</span>\n",
              "<span style=\"color: #76b900; text-decoration-color: #76b900; font-weight: bold\"> - Attention Is All You Need</span>\n",
              "<span style=\"color: #76b900; text-decoration-color: #76b900; font-weight: bold\"> - BERT: Pre-training of Deep Bidirectional Transformers for Language Understanding</span>\n",
              "<span style=\"color: #76b900; text-decoration-color: #76b900; font-weight: bold\"> - Retrieval-Augmented Generation for Knowledge-Intensive NLP Tasks</span>\n",
              "<span style=\"color: #76b900; text-decoration-color: #76b900; font-weight: bold\"> - MRKL Systems: A modular, neuro-symbolic architecture that combines large language models, external knowledge </span>\n",
              "<span style=\"color: #76b900; text-decoration-color: #76b900; font-weight: bold\">sources and discrete reasoning</span>\n",
              "<span style=\"color: #76b900; text-decoration-color: #76b900; font-weight: bold\"> - Mistral 7B</span>\n",
              "<span style=\"color: #76b900; text-decoration-color: #76b900; font-weight: bold\"> - Judging LLM-as-a-Judge with MT-Bench and Chatbot Arena</span>\n",
              "<span style=\"color: #76b900; text-decoration-color: #76b900; font-weight: bold\"> - Mamba or Transformer for Time Series Forecasting? Mixture of Universals (MoU) Is All You Need</span>\n",
              "<span style=\"color: #76b900; text-decoration-color: #76b900; font-weight: bold\"> - AI for Extreme Event Modeling and Understanding: Methodologies and Challenges</span>\n",
              "<span style=\"color: #76b900; text-decoration-color: #76b900; font-weight: bold\"> - Causal machine learning for sustainable agroecosystems</span>\n",
              "<span style=\"color: #76b900; text-decoration-color: #76b900; font-weight: bold\"> - Kilometer-Scale Convection Allowing Model Emulation using Generative Diffusion Modeling</span>\n",
              "<span style=\"color: #76b900; text-decoration-color: #76b900; font-weight: bold\"> - Decision-Focused Learning to Predict Action Costs for Planning </span>\n",
              "\n",
              "</pre>\n"
            ],
            "text/plain": [
              "\u001b[1;38;2;118;185;0mAvailable Documents:\u001b[0m\n",
              "\u001b[1;38;2;118;185;0m - Attention Is All You Need\u001b[0m\n",
              "\u001b[1;38;2;118;185;0m - BERT: Pre-training of Deep Bidirectional Transformers for Language Understanding\u001b[0m\n",
              "\u001b[1;38;2;118;185;0m - Retrieval-Augmented Generation for Knowledge-Intensive NLP Tasks\u001b[0m\n",
              "\u001b[1;38;2;118;185;0m - MRKL Systems: A modular, neuro-symbolic architecture that combines large language models, external knowledge \u001b[0m\n",
              "\u001b[1;38;2;118;185;0msources and discrete reasoning\u001b[0m\n",
              "\u001b[1;38;2;118;185;0m - Mistral 7B\u001b[0m\n",
              "\u001b[1;38;2;118;185;0m - Judging LLM-as-a-Judge with MT-Bench and Chatbot Arena\u001b[0m\n",
              "\u001b[1;38;2;118;185;0m - Mamba or Transformer for Time Series Forecasting? Mixture of Universals \u001b[0m\u001b[1;38;2;118;185;0m(\u001b[0m\u001b[1;38;2;118;185;0mMoU\u001b[0m\u001b[1;38;2;118;185;0m)\u001b[0m\u001b[1;38;2;118;185;0m Is All You Need\u001b[0m\n",
              "\u001b[1;38;2;118;185;0m - AI for Extreme Event Modeling and Understanding: Methodologies and Challenges\u001b[0m\n",
              "\u001b[1;38;2;118;185;0m - Causal machine learning for sustainable agroecosystems\u001b[0m\n",
              "\u001b[1;38;2;118;185;0m - Kilometer-Scale Convection Allowing Model Emulation using Generative Diffusion Modeling\u001b[0m\n",
              "\u001b[1;38;2;118;185;0m - Decision-Focused Learning to Predict Action Costs for Planning \u001b[0m\n",
              "\n"
            ]
          },
          "metadata": {},
          "output_type": "display_data"
        },
        {
          "name": "stdout",
          "output_type": "stream",
          "text": [
            "Document 0\n",
            " - # Chunks: 35\n",
            " - Metadata: \n"
          ]
        },
        {
          "data": {
            "text/html": [
              "<pre style=\"white-space:pre;overflow-x:auto;line-height:normal;font-family:Menlo,'DejaVu Sans Mono',consolas,'Courier New',monospace\"><span style=\"color: #76b900; text-decoration-color: #76b900; font-weight: bold\">{</span>\n",
              "<span style=\"color: #76b900; text-decoration-color: #76b900; font-weight: bold\">    </span><span style=\"color: #008000; text-decoration-color: #008000\">'Published'</span><span style=\"color: #76b900; text-decoration-color: #76b900; font-weight: bold\">: </span><span style=\"color: #008000; text-decoration-color: #008000\">'2023-08-02'</span><span style=\"color: #76b900; text-decoration-color: #76b900; font-weight: bold\">,</span>\n",
              "<span style=\"color: #76b900; text-decoration-color: #76b900; font-weight: bold\">    </span><span style=\"color: #008000; text-decoration-color: #008000\">'Title'</span><span style=\"color: #76b900; text-decoration-color: #76b900; font-weight: bold\">: </span><span style=\"color: #008000; text-decoration-color: #008000\">'Attention Is All You Need'</span><span style=\"color: #76b900; text-decoration-color: #76b900; font-weight: bold\">,</span>\n",
              "<span style=\"color: #76b900; text-decoration-color: #76b900; font-weight: bold\">    </span><span style=\"color: #008000; text-decoration-color: #008000\">'Authors'</span><span style=\"color: #76b900; text-decoration-color: #76b900; font-weight: bold\">: </span><span style=\"color: #008000; text-decoration-color: #008000\">'Ashish Vaswani, Noam Shazeer, Niki Parmar, Jakob Uszkoreit, Llion Jones, Aidan N. Gomez, Lukasz </span>\n",
              "<span style=\"color: #008000; text-decoration-color: #008000\">Kaiser, Illia Polosukhin'</span><span style=\"color: #76b900; text-decoration-color: #76b900; font-weight: bold\">,</span>\n",
              "<span style=\"color: #76b900; text-decoration-color: #76b900; font-weight: bold\">    </span><span style=\"color: #008000; text-decoration-color: #008000\">'Summary'</span><span style=\"color: #76b900; text-decoration-color: #76b900; font-weight: bold\">: </span><span style=\"color: #008000; text-decoration-color: #008000\">'The dominant sequence transduction models are based on complex recurrent or\\nconvolutional neural </span>\n",
              "<span style=\"color: #008000; text-decoration-color: #008000\">networks in an encoder-decoder configuration. The best\\nperforming models also connect the encoder and decoder </span>\n",
              "<span style=\"color: #008000; text-decoration-color: #008000\">through an attention\\nmechanism. We propose a new simple network architecture, the Transformer, based\\nsolely on </span>\n",
              "<span style=\"color: #008000; text-decoration-color: #008000\">attention mechanisms, dispensing with recurrence and convolutions\\nentirely. Experiments on two machine translation</span>\n",
              "<span style=\"color: #008000; text-decoration-color: #008000\">tasks show these models to be\\nsuperior in quality while being more parallelizable and requiring </span>\n",
              "<span style=\"color: #008000; text-decoration-color: #008000\">significantly\\nless time to train. Our model achieves 28.4 BLEU on the WMT 2014\\nEnglish-to-German translation </span>\n",
              "<span style=\"color: #008000; text-decoration-color: #008000\">task, improving over the existing best results,\\nincluding ensembles by over 2 BLEU. On the WMT 2014 </span>\n",
              "<span style=\"color: #008000; text-decoration-color: #008000\">English-to-French\\ntranslation task, our model establishes a new single-model state-of-the-art\\nBLEU score of 41.8 </span>\n",
              "<span style=\"color: #008000; text-decoration-color: #008000\">after training for 3.5 days on eight GPUs, a small fraction\\nof the training costs of the best models from the </span>\n",
              "<span style=\"color: #008000; text-decoration-color: #008000\">literature. We show that the\\nTransformer generalizes well to other tasks by applying it successfully to\\nEnglish </span>\n",
              "<span style=\"color: #008000; text-decoration-color: #008000\">constituency parsing both with large and limited training data.'</span>\n",
              "<span style=\"color: #76b900; text-decoration-color: #76b900; font-weight: bold\">}</span>\n",
              "</pre>\n"
            ],
            "text/plain": [
              "\u001b[1;38;2;118;185;0m{\u001b[0m\n",
              "\u001b[1;38;2;118;185;0m    \u001b[0m\u001b[32m'Published'\u001b[0m\u001b[1;38;2;118;185;0m: \u001b[0m\u001b[32m'2023-08-02'\u001b[0m\u001b[1;38;2;118;185;0m,\u001b[0m\n",
              "\u001b[1;38;2;118;185;0m    \u001b[0m\u001b[32m'Title'\u001b[0m\u001b[1;38;2;118;185;0m: \u001b[0m\u001b[32m'Attention Is All You Need'\u001b[0m\u001b[1;38;2;118;185;0m,\u001b[0m\n",
              "\u001b[1;38;2;118;185;0m    \u001b[0m\u001b[32m'Authors'\u001b[0m\u001b[1;38;2;118;185;0m: \u001b[0m\u001b[32m'Ashish Vaswani, Noam Shazeer, Niki Parmar, Jakob Uszkoreit, Llion Jones, Aidan N. Gomez, Lukasz \u001b[0m\n",
              "\u001b[32mKaiser, Illia Polosukhin'\u001b[0m\u001b[1;38;2;118;185;0m,\u001b[0m\n",
              "\u001b[1;38;2;118;185;0m    \u001b[0m\u001b[32m'Summary'\u001b[0m\u001b[1;38;2;118;185;0m: \u001b[0m\u001b[32m'The dominant sequence transduction models are based on complex recurrent or\\nconvolutional neural \u001b[0m\n",
              "\u001b[32mnetworks in an encoder-decoder configuration. The best\\nperforming models also connect the encoder and decoder \u001b[0m\n",
              "\u001b[32mthrough an attention\\nmechanism. We propose a new simple network architecture, the Transformer, based\\nsolely on \u001b[0m\n",
              "\u001b[32mattention mechanisms, dispensing with recurrence and convolutions\\nentirely. Experiments on two machine translation\u001b[0m\n",
              "\u001b[32mtasks show these models to be\\nsuperior in quality while being more parallelizable and requiring \u001b[0m\n",
              "\u001b[32msignificantly\\nless time to train. Our model achieves 28.4 BLEU on the WMT 2014\\nEnglish-to-German translation \u001b[0m\n",
              "\u001b[32mtask, improving over the existing best results,\\nincluding ensembles by over 2 BLEU. On the WMT 2014 \u001b[0m\n",
              "\u001b[32mEnglish-to-French\\ntranslation task, our model establishes a new single-model state-of-the-art\\nBLEU score of 41.8 \u001b[0m\n",
              "\u001b[32mafter training for 3.5 days on eight GPUs, a small fraction\\nof the training costs of the best models from the \u001b[0m\n",
              "\u001b[32mliterature. We show that the\\nTransformer generalizes well to other tasks by applying it successfully to\\nEnglish \u001b[0m\n",
              "\u001b[32mconstituency parsing both with large and limited training data.'\u001b[0m\n",
              "\u001b[1;38;2;118;185;0m}\u001b[0m\n"
            ]
          },
          "metadata": {},
          "output_type": "display_data"
        },
        {
          "name": "stdout",
          "output_type": "stream",
          "text": [
            "\n",
            "Document 1\n",
            " - # Chunks: 45\n",
            " - Metadata: \n"
          ]
        },
        {
          "data": {
            "text/html": [
              "<pre style=\"white-space:pre;overflow-x:auto;line-height:normal;font-family:Menlo,'DejaVu Sans Mono',consolas,'Courier New',monospace\"><span style=\"color: #76b900; text-decoration-color: #76b900; font-weight: bold\">{</span>\n",
              "<span style=\"color: #76b900; text-decoration-color: #76b900; font-weight: bold\">    </span><span style=\"color: #008000; text-decoration-color: #008000\">'Published'</span><span style=\"color: #76b900; text-decoration-color: #76b900; font-weight: bold\">: </span><span style=\"color: #008000; text-decoration-color: #008000\">'2019-05-24'</span><span style=\"color: #76b900; text-decoration-color: #76b900; font-weight: bold\">,</span>\n",
              "<span style=\"color: #76b900; text-decoration-color: #76b900; font-weight: bold\">    </span><span style=\"color: #008000; text-decoration-color: #008000\">'Title'</span><span style=\"color: #76b900; text-decoration-color: #76b900; font-weight: bold\">: </span><span style=\"color: #008000; text-decoration-color: #008000\">'BERT: Pre-training of Deep Bidirectional Transformers for Language Understanding'</span><span style=\"color: #76b900; text-decoration-color: #76b900; font-weight: bold\">,</span>\n",
              "<span style=\"color: #76b900; text-decoration-color: #76b900; font-weight: bold\">    </span><span style=\"color: #008000; text-decoration-color: #008000\">'Authors'</span><span style=\"color: #76b900; text-decoration-color: #76b900; font-weight: bold\">: </span><span style=\"color: #008000; text-decoration-color: #008000\">'Jacob Devlin, Ming-Wei Chang, Kenton Lee, Kristina Toutanova'</span><span style=\"color: #76b900; text-decoration-color: #76b900; font-weight: bold\">,</span>\n",
              "<span style=\"color: #76b900; text-decoration-color: #76b900; font-weight: bold\">    </span><span style=\"color: #008000; text-decoration-color: #008000\">'Summary'</span><span style=\"color: #76b900; text-decoration-color: #76b900; font-weight: bold\">: </span><span style=\"color: #008000; text-decoration-color: #008000\">'We introduce a new language representation model called BERT, which stands\\nfor Bidirectional </span>\n",
              "<span style=\"color: #008000; text-decoration-color: #008000\">Encoder Representations from Transformers. Unlike recent\\nlanguage representation models, BERT is designed to </span>\n",
              "<span style=\"color: #008000; text-decoration-color: #008000\">pre-train deep\\nbidirectional representations from unlabeled text by jointly conditioning on\\nboth left and right </span>\n",
              "<span style=\"color: #008000; text-decoration-color: #008000\">context in all layers. As a result, the pre-trained BERT\\nmodel can be fine-tuned with just one additional output </span>\n",
              "<span style=\"color: #008000; text-decoration-color: #008000\">layer to create\\nstate-of-the-art models for a wide range of tasks, such as question answering\\nand language </span>\n",
              "<span style=\"color: #008000; text-decoration-color: #008000\">inference, without substantial task-specific architecture\\nmodifications.\\n  BERT is conceptually simple and </span>\n",
              "<span style=\"color: #008000; text-decoration-color: #008000\">empirically powerful. It obtains new\\nstate-of-the-art results on eleven natural language processing tasks, </span>\n",
              "<span style=\"color: #008000; text-decoration-color: #008000\">including\\npushing the GLUE score to 80.5% (7.7% point absolute improvement), MultiNLI\\naccuracy to 86.7% (4.6% </span>\n",
              "<span style=\"color: #008000; text-decoration-color: #008000\">absolute improvement), SQuAD v1.1 question answering\\nTest F1 to 93.2 (1.5 point absolute improvement) and SQuAD </span>\n",
              "<span style=\"color: #008000; text-decoration-color: #008000\">v2.0 Test F1 to 83.1\\n(5.1 point absolute improvement).'</span>\n",
              "<span style=\"color: #76b900; text-decoration-color: #76b900; font-weight: bold\">}</span>\n",
              "</pre>\n"
            ],
            "text/plain": [
              "\u001b[1;38;2;118;185;0m{\u001b[0m\n",
              "\u001b[1;38;2;118;185;0m    \u001b[0m\u001b[32m'Published'\u001b[0m\u001b[1;38;2;118;185;0m: \u001b[0m\u001b[32m'2019-05-24'\u001b[0m\u001b[1;38;2;118;185;0m,\u001b[0m\n",
              "\u001b[1;38;2;118;185;0m    \u001b[0m\u001b[32m'Title'\u001b[0m\u001b[1;38;2;118;185;0m: \u001b[0m\u001b[32m'BERT: Pre-training of Deep Bidirectional Transformers for Language Understanding'\u001b[0m\u001b[1;38;2;118;185;0m,\u001b[0m\n",
              "\u001b[1;38;2;118;185;0m    \u001b[0m\u001b[32m'Authors'\u001b[0m\u001b[1;38;2;118;185;0m: \u001b[0m\u001b[32m'Jacob Devlin, Ming-Wei Chang, Kenton Lee, Kristina Toutanova'\u001b[0m\u001b[1;38;2;118;185;0m,\u001b[0m\n",
              "\u001b[1;38;2;118;185;0m    \u001b[0m\u001b[32m'Summary'\u001b[0m\u001b[1;38;2;118;185;0m: \u001b[0m\u001b[32m'We introduce a new language representation model called BERT, which stands\\nfor Bidirectional \u001b[0m\n",
              "\u001b[32mEncoder Representations from Transformers. Unlike recent\\nlanguage representation models, BERT is designed to \u001b[0m\n",
              "\u001b[32mpre-train deep\\nbidirectional representations from unlabeled text by jointly conditioning on\\nboth left and right \u001b[0m\n",
              "\u001b[32mcontext in all layers. As a result, the pre-trained BERT\\nmodel can be fine-tuned with just one additional output \u001b[0m\n",
              "\u001b[32mlayer to create\\nstate-of-the-art models for a wide range of tasks, such as question answering\\nand language \u001b[0m\n",
              "\u001b[32minference, without substantial task-specific architecture\\nmodifications.\\n  BERT is conceptually simple and \u001b[0m\n",
              "\u001b[32mempirically powerful. It obtains new\\nstate-of-the-art results on eleven natural language processing tasks, \u001b[0m\n",
              "\u001b[32mincluding\\npushing the GLUE score to 80.5% \u001b[0m\u001b[32m(\u001b[0m\u001b[32m7.7% point absolute improvement\u001b[0m\u001b[32m)\u001b[0m\u001b[32m, MultiNLI\\naccuracy to 86.7% \u001b[0m\u001b[32m(\u001b[0m\u001b[32m4.6% \u001b[0m\n",
              "\u001b[32mabsolute improvement\u001b[0m\u001b[32m)\u001b[0m\u001b[32m, SQuAD v1.1 question answering\\nTest F1 to 93.2 \u001b[0m\u001b[32m(\u001b[0m\u001b[32m1.5 point absolute improvement\u001b[0m\u001b[32m)\u001b[0m\u001b[32m and SQuAD \u001b[0m\n",
              "\u001b[32mv2.0 Test F1 to 83.1\\n\u001b[0m\u001b[32m(\u001b[0m\u001b[32m5.1 point absolute improvement\u001b[0m\u001b[32m)\u001b[0m\u001b[32m.'\u001b[0m\n",
              "\u001b[1;38;2;118;185;0m}\u001b[0m\n"
            ]
          },
          "metadata": {},
          "output_type": "display_data"
        },
        {
          "name": "stdout",
          "output_type": "stream",
          "text": [
            "\n",
            "Document 2\n",
            " - # Chunks: 46\n",
            " - Metadata: \n"
          ]
        },
        {
          "data": {
            "text/html": [
              "<pre style=\"white-space:pre;overflow-x:auto;line-height:normal;font-family:Menlo,'DejaVu Sans Mono',consolas,'Courier New',monospace\"><span style=\"color: #76b900; text-decoration-color: #76b900; font-weight: bold\">{</span>\n",
              "<span style=\"color: #76b900; text-decoration-color: #76b900; font-weight: bold\">    </span><span style=\"color: #008000; text-decoration-color: #008000\">'Published'</span><span style=\"color: #76b900; text-decoration-color: #76b900; font-weight: bold\">: </span><span style=\"color: #008000; text-decoration-color: #008000\">'2021-04-12'</span><span style=\"color: #76b900; text-decoration-color: #76b900; font-weight: bold\">,</span>\n",
              "<span style=\"color: #76b900; text-decoration-color: #76b900; font-weight: bold\">    </span><span style=\"color: #008000; text-decoration-color: #008000\">'Title'</span><span style=\"color: #76b900; text-decoration-color: #76b900; font-weight: bold\">: </span><span style=\"color: #008000; text-decoration-color: #008000\">'Retrieval-Augmented Generation for Knowledge-Intensive NLP Tasks'</span><span style=\"color: #76b900; text-decoration-color: #76b900; font-weight: bold\">,</span>\n",
              "<span style=\"color: #76b900; text-decoration-color: #76b900; font-weight: bold\">    </span><span style=\"color: #008000; text-decoration-color: #008000\">'Authors'</span><span style=\"color: #76b900; text-decoration-color: #76b900; font-weight: bold\">: </span><span style=\"color: #008000; text-decoration-color: #008000\">'Patrick Lewis, Ethan Perez, Aleksandra Piktus, Fabio Petroni, Vladimir Karpukhin, Naman Goyal, </span>\n",
              "<span style=\"color: #008000; text-decoration-color: #008000\">Heinrich Küttler, Mike Lewis, Wen-tau Yih, Tim Rocktäschel, Sebastian Riedel, Douwe Kiela'</span><span style=\"color: #76b900; text-decoration-color: #76b900; font-weight: bold\">,</span>\n",
              "<span style=\"color: #76b900; text-decoration-color: #76b900; font-weight: bold\">    </span><span style=\"color: #008000; text-decoration-color: #008000\">'Summary'</span><span style=\"color: #76b900; text-decoration-color: #76b900; font-weight: bold\">: </span><span style=\"color: #008000; text-decoration-color: #008000\">'Large pre-trained language models have been shown to store factual knowledge\\nin their parameters, </span>\n",
              "<span style=\"color: #008000; text-decoration-color: #008000\">and achieve state-of-the-art results when fine-tuned on\\ndownstream NLP tasks. However, their ability to access and</span>\n",
              "<span style=\"color: #008000; text-decoration-color: #008000\">precisely manipulate\\nknowledge is still limited, and hence on knowledge-intensive tasks, their\\nperformance lags </span>\n",
              "<span style=\"color: #008000; text-decoration-color: #008000\">behind task-specific architectures. Additionally, providing\\nprovenance for their decisions and updating their </span>\n",
              "<span style=\"color: #008000; text-decoration-color: #008000\">world knowledge remain open\\nresearch problems. Pre-trained models with a differentiable access mechanism </span>\n",
              "<span style=\"color: #008000; text-decoration-color: #008000\">to\\nexplicit non-parametric memory can overcome this issue, but have so far been\\nonly investigated for extractive </span>\n",
              "<span style=\"color: #008000; text-decoration-color: #008000\">downstream tasks. We explore a general-purpose\\nfine-tuning recipe for retrieval-augmented generation (RAG) -- </span>\n",
              "<span style=\"color: #008000; text-decoration-color: #008000\">models which\\ncombine pre-trained parametric and non-parametric memory for language\\ngeneration. We introduce RAG </span>\n",
              "<span style=\"color: #008000; text-decoration-color: #008000\">models where the parametric memory is a\\npre-trained seq2seq model and the non-parametric memory is a dense vector </span>\n",
              "<span style=\"color: #008000; text-decoration-color: #008000\">index\\nof Wikipedia, accessed with a pre-trained neural retriever. We compare two RAG\\nformulations, one which </span>\n",
              "<span style=\"color: #008000; text-decoration-color: #008000\">conditions on the same retrieved passages across the\\nwhole generated sequence, the other can use different </span>\n",
              "<span style=\"color: #008000; text-decoration-color: #008000\">passages per token. We\\nfine-tune and evaluate our models on a wide range of knowledge-intensive NLP\\ntasks and set</span>\n",
              "<span style=\"color: #008000; text-decoration-color: #008000\">the state-of-the-art on three open domain QA tasks, outperforming\\nparametric seq2seq models and task-specific </span>\n",
              "<span style=\"color: #008000; text-decoration-color: #008000\">retrieve-and-extract architectures.\\nFor language generation tasks, we find that RAG models generate more </span>\n",
              "<span style=\"color: #008000; text-decoration-color: #008000\">specific,\\ndiverse and factual language than a state-of-the-art parametric-only seq2seq\\nbaseline.'</span>\n",
              "<span style=\"color: #76b900; text-decoration-color: #76b900; font-weight: bold\">}</span>\n",
              "</pre>\n"
            ],
            "text/plain": [
              "\u001b[1;38;2;118;185;0m{\u001b[0m\n",
              "\u001b[1;38;2;118;185;0m    \u001b[0m\u001b[32m'Published'\u001b[0m\u001b[1;38;2;118;185;0m: \u001b[0m\u001b[32m'2021-04-12'\u001b[0m\u001b[1;38;2;118;185;0m,\u001b[0m\n",
              "\u001b[1;38;2;118;185;0m    \u001b[0m\u001b[32m'Title'\u001b[0m\u001b[1;38;2;118;185;0m: \u001b[0m\u001b[32m'Retrieval-Augmented Generation for Knowledge-Intensive NLP Tasks'\u001b[0m\u001b[1;38;2;118;185;0m,\u001b[0m\n",
              "\u001b[1;38;2;118;185;0m    \u001b[0m\u001b[32m'Authors'\u001b[0m\u001b[1;38;2;118;185;0m: \u001b[0m\u001b[32m'Patrick Lewis, Ethan Perez, Aleksandra Piktus, Fabio Petroni, Vladimir Karpukhin, Naman Goyal, \u001b[0m\n",
              "\u001b[32mHeinrich Küttler, Mike Lewis, Wen-tau Yih, Tim Rocktäschel, Sebastian Riedel, Douwe Kiela'\u001b[0m\u001b[1;38;2;118;185;0m,\u001b[0m\n",
              "\u001b[1;38;2;118;185;0m    \u001b[0m\u001b[32m'Summary'\u001b[0m\u001b[1;38;2;118;185;0m: \u001b[0m\u001b[32m'Large pre-trained language models have been shown to store factual knowledge\\nin their parameters, \u001b[0m\n",
              "\u001b[32mand achieve state-of-the-art results when fine-tuned on\\ndownstream NLP tasks. However, their ability to access and\u001b[0m\n",
              "\u001b[32mprecisely manipulate\\nknowledge is still limited, and hence on knowledge-intensive tasks, their\\nperformance lags \u001b[0m\n",
              "\u001b[32mbehind task-specific architectures. Additionally, providing\\nprovenance for their decisions and updating their \u001b[0m\n",
              "\u001b[32mworld knowledge remain open\\nresearch problems. Pre-trained models with a differentiable access mechanism \u001b[0m\n",
              "\u001b[32mto\\nexplicit non-parametric memory can overcome this issue, but have so far been\\nonly investigated for extractive \u001b[0m\n",
              "\u001b[32mdownstream tasks. We explore a general-purpose\\nfine-tuning recipe for retrieval-augmented generation \u001b[0m\u001b[32m(\u001b[0m\u001b[32mRAG\u001b[0m\u001b[32m)\u001b[0m\u001b[32m -- \u001b[0m\n",
              "\u001b[32mmodels which\\ncombine pre-trained parametric and non-parametric memory for language\\ngeneration. We introduce RAG \u001b[0m\n",
              "\u001b[32mmodels where the parametric memory is a\\npre-trained seq2seq model and the non-parametric memory is a dense vector \u001b[0m\n",
              "\u001b[32mindex\\nof Wikipedia, accessed with a pre-trained neural retriever. We compare two RAG\\nformulations, one which \u001b[0m\n",
              "\u001b[32mconditions on the same retrieved passages across the\\nwhole generated sequence, the other can use different \u001b[0m\n",
              "\u001b[32mpassages per token. We\\nfine-tune and evaluate our models on a wide range of knowledge-intensive NLP\\ntasks and set\u001b[0m\n",
              "\u001b[32mthe state-of-the-art on three open domain QA tasks, outperforming\\nparametric seq2seq models and task-specific \u001b[0m\n",
              "\u001b[32mretrieve-and-extract architectures.\\nFor language generation tasks, we find that RAG models generate more \u001b[0m\n",
              "\u001b[32mspecific,\\ndiverse and factual language than a state-of-the-art parametric-only seq2seq\\nbaseline.'\u001b[0m\n",
              "\u001b[1;38;2;118;185;0m}\u001b[0m\n"
            ]
          },
          "metadata": {},
          "output_type": "display_data"
        },
        {
          "name": "stdout",
          "output_type": "stream",
          "text": [
            "\n",
            "Document 3\n",
            " - # Chunks: 40\n",
            " - Metadata: \n"
          ]
        },
        {
          "data": {
            "text/html": [
              "<pre style=\"white-space:pre;overflow-x:auto;line-height:normal;font-family:Menlo,'DejaVu Sans Mono',consolas,'Courier New',monospace\"><span style=\"color: #76b900; text-decoration-color: #76b900; font-weight: bold\">{</span>\n",
              "<span style=\"color: #76b900; text-decoration-color: #76b900; font-weight: bold\">    </span><span style=\"color: #008000; text-decoration-color: #008000\">'Published'</span><span style=\"color: #76b900; text-decoration-color: #76b900; font-weight: bold\">: </span><span style=\"color: #008000; text-decoration-color: #008000\">'2022-05-01'</span><span style=\"color: #76b900; text-decoration-color: #76b900; font-weight: bold\">,</span>\n",
              "<span style=\"color: #76b900; text-decoration-color: #76b900; font-weight: bold\">    </span><span style=\"color: #008000; text-decoration-color: #008000\">'Title'</span><span style=\"color: #76b900; text-decoration-color: #76b900; font-weight: bold\">: </span><span style=\"color: #008000; text-decoration-color: #008000\">'MRKL Systems: A modular, neuro-symbolic architecture that combines large language models, external </span>\n",
              "<span style=\"color: #008000; text-decoration-color: #008000\">knowledge sources and discrete reasoning'</span><span style=\"color: #76b900; text-decoration-color: #76b900; font-weight: bold\">,</span>\n",
              "<span style=\"color: #76b900; text-decoration-color: #76b900; font-weight: bold\">    </span><span style=\"color: #008000; text-decoration-color: #008000\">'Authors'</span><span style=\"color: #76b900; text-decoration-color: #76b900; font-weight: bold\">: </span><span style=\"color: #008000; text-decoration-color: #008000\">'Ehud Karpas, Omri Abend, Yonatan Belinkov, Barak Lenz, Opher Lieber, Nir Ratner, Yoav Shoham, Hofit</span>\n",
              "<span style=\"color: #008000; text-decoration-color: #008000\">Bata, Yoav Levine, Kevin Leyton-Brown, Dor Muhlgay, Noam Rozen, Erez Schwartz, Gal Shachaf, Shai Shalev-Shwartz, </span>\n",
              "<span style=\"color: #008000; text-decoration-color: #008000\">Amnon Shashua, Moshe Tenenholtz'</span><span style=\"color: #76b900; text-decoration-color: #76b900; font-weight: bold\">,</span>\n",
              "<span style=\"color: #76b900; text-decoration-color: #76b900; font-weight: bold\">    </span><span style=\"color: #008000; text-decoration-color: #008000\">'Summary'</span><span style=\"color: #76b900; text-decoration-color: #76b900; font-weight: bold\">: </span><span style=\"color: #008000; text-decoration-color: #008000\">'Huge language models (LMs) have ushered in a new era for AI, serving as a\\ngateway to </span>\n",
              "<span style=\"color: #008000; text-decoration-color: #008000\">natural-language-based knowledge tasks. Although an essential\\nelement of modern AI, LMs are also inherently </span>\n",
              "<span style=\"color: #008000; text-decoration-color: #008000\">limited in a number of ways. We\\ndiscuss these limitations and how they can be avoided by adopting a </span>\n",
              "<span style=\"color: #008000; text-decoration-color: #008000\">systems\\napproach. Conceptualizing the challenge as one that involves knowledge and\\nreasoning in addition to </span>\n",
              "<span style=\"color: #008000; text-decoration-color: #008000\">linguistic processing, we define a flexible\\narchitecture with multiple neural models, complemented by discrete </span>\n",
              "<span style=\"color: #008000; text-decoration-color: #008000\">knowledge\\nand reasoning modules. We describe this neuro-symbolic architecture, dubbed the\\nModular Reasoning, </span>\n",
              "<span style=\"color: #008000; text-decoration-color: #008000\">Knowledge and Language (MRKL, pronounced \"miracle\") system,\\nsome of the technical challenges in implementing it, </span>\n",
              "<span style=\"color: #008000; text-decoration-color: #008000\">and Jurassic-X, AI21 Labs\\'\\nMRKL system implementation.'</span>\n",
              "<span style=\"color: #76b900; text-decoration-color: #76b900; font-weight: bold\">}</span>\n",
              "</pre>\n"
            ],
            "text/plain": [
              "\u001b[1;38;2;118;185;0m{\u001b[0m\n",
              "\u001b[1;38;2;118;185;0m    \u001b[0m\u001b[32m'Published'\u001b[0m\u001b[1;38;2;118;185;0m: \u001b[0m\u001b[32m'2022-05-01'\u001b[0m\u001b[1;38;2;118;185;0m,\u001b[0m\n",
              "\u001b[1;38;2;118;185;0m    \u001b[0m\u001b[32m'Title'\u001b[0m\u001b[1;38;2;118;185;0m: \u001b[0m\u001b[32m'MRKL Systems: A modular, neuro-symbolic architecture that combines large language models, external \u001b[0m\n",
              "\u001b[32mknowledge sources and discrete reasoning'\u001b[0m\u001b[1;38;2;118;185;0m,\u001b[0m\n",
              "\u001b[1;38;2;118;185;0m    \u001b[0m\u001b[32m'Authors'\u001b[0m\u001b[1;38;2;118;185;0m: \u001b[0m\u001b[32m'Ehud Karpas, Omri Abend, Yonatan Belinkov, Barak Lenz, Opher Lieber, Nir Ratner, Yoav Shoham, Hofit\u001b[0m\n",
              "\u001b[32mBata, Yoav Levine, Kevin Leyton-Brown, Dor Muhlgay, Noam Rozen, Erez Schwartz, Gal Shachaf, Shai Shalev-Shwartz, \u001b[0m\n",
              "\u001b[32mAmnon Shashua, Moshe Tenenholtz'\u001b[0m\u001b[1;38;2;118;185;0m,\u001b[0m\n",
              "\u001b[1;38;2;118;185;0m    \u001b[0m\u001b[32m'Summary'\u001b[0m\u001b[1;38;2;118;185;0m: \u001b[0m\u001b[32m'Huge language models \u001b[0m\u001b[32m(\u001b[0m\u001b[32mLMs\u001b[0m\u001b[32m)\u001b[0m\u001b[32m have ushered in a new era for AI, serving as a\\ngateway to \u001b[0m\n",
              "\u001b[32mnatural-language-based knowledge tasks. Although an essential\\nelement of modern AI, LMs are also inherently \u001b[0m\n",
              "\u001b[32mlimited in a number of ways. We\\ndiscuss these limitations and how they can be avoided by adopting a \u001b[0m\n",
              "\u001b[32msystems\\napproach. Conceptualizing the challenge as one that involves knowledge and\\nreasoning in addition to \u001b[0m\n",
              "\u001b[32mlinguistic processing, we define a flexible\\narchitecture with multiple neural models, complemented by discrete \u001b[0m\n",
              "\u001b[32mknowledge\\nand reasoning modules. We describe this neuro-symbolic architecture, dubbed the\\nModular Reasoning, \u001b[0m\n",
              "\u001b[32mKnowledge and Language \u001b[0m\u001b[32m(\u001b[0m\u001b[32mMRKL, pronounced \"miracle\"\u001b[0m\u001b[32m)\u001b[0m\u001b[32m system,\\nsome of the technical challenges in implementing it, \u001b[0m\n",
              "\u001b[32mand Jurassic-X, AI21 Labs\\'\\nMRKL system implementation.'\u001b[0m\n",
              "\u001b[1;38;2;118;185;0m}\u001b[0m\n"
            ]
          },
          "metadata": {},
          "output_type": "display_data"
        },
        {
          "name": "stdout",
          "output_type": "stream",
          "text": [
            "\n",
            "Document 4\n",
            " - # Chunks: 21\n",
            " - Metadata: \n"
          ]
        },
        {
          "data": {
            "text/html": [
              "<pre style=\"white-space:pre;overflow-x:auto;line-height:normal;font-family:Menlo,'DejaVu Sans Mono',consolas,'Courier New',monospace\"><span style=\"color: #76b900; text-decoration-color: #76b900; font-weight: bold\">{</span>\n",
              "<span style=\"color: #76b900; text-decoration-color: #76b900; font-weight: bold\">    </span><span style=\"color: #008000; text-decoration-color: #008000\">'Published'</span><span style=\"color: #76b900; text-decoration-color: #76b900; font-weight: bold\">: </span><span style=\"color: #008000; text-decoration-color: #008000\">'2023-10-10'</span><span style=\"color: #76b900; text-decoration-color: #76b900; font-weight: bold\">,</span>\n",
              "<span style=\"color: #76b900; text-decoration-color: #76b900; font-weight: bold\">    </span><span style=\"color: #008000; text-decoration-color: #008000\">'Title'</span><span style=\"color: #76b900; text-decoration-color: #76b900; font-weight: bold\">: </span><span style=\"color: #008000; text-decoration-color: #008000\">'Mistral 7B'</span><span style=\"color: #76b900; text-decoration-color: #76b900; font-weight: bold\">,</span>\n",
              "<span style=\"color: #76b900; text-decoration-color: #76b900; font-weight: bold\">    </span><span style=\"color: #008000; text-decoration-color: #008000\">'Authors'</span><span style=\"color: #76b900; text-decoration-color: #76b900; font-weight: bold\">: </span><span style=\"color: #008000; text-decoration-color: #008000\">'Albert Q. Jiang, Alexandre Sablayrolles, Arthur Mensch, Chris Bamford, Devendra Singh Chaplot, </span>\n",
              "<span style=\"color: #008000; text-decoration-color: #008000\">Diego de las Casas, Florian Bressand, Gianna Lengyel, Guillaume Lample, Lucile Saulnier, Lélio Renard Lavaud, </span>\n",
              "<span style=\"color: #008000; text-decoration-color: #008000\">Marie-Anne Lachaux, Pierre Stock, Teven Le Scao, Thibaut Lavril, Thomas Wang, Timothée Lacroix, William El Sayed'</span><span style=\"color: #76b900; text-decoration-color: #76b900; font-weight: bold\">,</span>\n",
              "<span style=\"color: #76b900; text-decoration-color: #76b900; font-weight: bold\">    </span><span style=\"color: #008000; text-decoration-color: #008000\">'Summary'</span><span style=\"color: #76b900; text-decoration-color: #76b900; font-weight: bold\">: </span><span style=\"color: #008000; text-decoration-color: #008000\">'We introduce Mistral 7B v0.1, a 7-billion-parameter language model engineered\\nfor superior </span>\n",
              "<span style=\"color: #008000; text-decoration-color: #008000\">performance and efficiency. Mistral 7B outperforms Llama 2 13B\\nacross all evaluated benchmarks, and Llama 1 34B in</span>\n",
              "<span style=\"color: #008000; text-decoration-color: #008000\">reasoning, mathematics, and\\ncode generation. Our model leverages grouped-query attention (GQA) for </span>\n",
              "<span style=\"color: #008000; text-decoration-color: #008000\">faster\\ninference, coupled with sliding window attention (SWA) to effectively handle\\nsequences of arbitrary length</span>\n",
              "<span style=\"color: #008000; text-decoration-color: #008000\">with a reduced inference cost. We also provide a\\nmodel fine-tuned to follow instructions, Mistral 7B -- Instruct, </span>\n",
              "<span style=\"color: #008000; text-decoration-color: #008000\">that surpasses\\nthe Llama 2 13B -- Chat model both on human and automated benchmarks. Our\\nmodels are released </span>\n",
              "<span style=\"color: #008000; text-decoration-color: #008000\">under the Apache 2.0 license.'</span>\n",
              "<span style=\"color: #76b900; text-decoration-color: #76b900; font-weight: bold\">}</span>\n",
              "</pre>\n"
            ],
            "text/plain": [
              "\u001b[1;38;2;118;185;0m{\u001b[0m\n",
              "\u001b[1;38;2;118;185;0m    \u001b[0m\u001b[32m'Published'\u001b[0m\u001b[1;38;2;118;185;0m: \u001b[0m\u001b[32m'2023-10-10'\u001b[0m\u001b[1;38;2;118;185;0m,\u001b[0m\n",
              "\u001b[1;38;2;118;185;0m    \u001b[0m\u001b[32m'Title'\u001b[0m\u001b[1;38;2;118;185;0m: \u001b[0m\u001b[32m'Mistral 7B'\u001b[0m\u001b[1;38;2;118;185;0m,\u001b[0m\n",
              "\u001b[1;38;2;118;185;0m    \u001b[0m\u001b[32m'Authors'\u001b[0m\u001b[1;38;2;118;185;0m: \u001b[0m\u001b[32m'Albert Q. Jiang, Alexandre Sablayrolles, Arthur Mensch, Chris Bamford, Devendra Singh Chaplot, \u001b[0m\n",
              "\u001b[32mDiego de las Casas, Florian Bressand, Gianna Lengyel, Guillaume Lample, Lucile Saulnier, Lélio Renard Lavaud, \u001b[0m\n",
              "\u001b[32mMarie-Anne Lachaux, Pierre Stock, Teven Le Scao, Thibaut Lavril, Thomas Wang, Timothée Lacroix, William El Sayed'\u001b[0m\u001b[1;38;2;118;185;0m,\u001b[0m\n",
              "\u001b[1;38;2;118;185;0m    \u001b[0m\u001b[32m'Summary'\u001b[0m\u001b[1;38;2;118;185;0m: \u001b[0m\u001b[32m'We introduce Mistral 7B v0.1, a 7-billion-parameter language model engineered\\nfor superior \u001b[0m\n",
              "\u001b[32mperformance and efficiency. Mistral 7B outperforms Llama 2 13B\\nacross all evaluated benchmarks, and Llama 1 34B in\u001b[0m\n",
              "\u001b[32mreasoning, mathematics, and\\ncode generation. Our model leverages grouped-query attention \u001b[0m\u001b[32m(\u001b[0m\u001b[32mGQA\u001b[0m\u001b[32m)\u001b[0m\u001b[32m for \u001b[0m\n",
              "\u001b[32mfaster\\ninference, coupled with sliding window attention \u001b[0m\u001b[32m(\u001b[0m\u001b[32mSWA\u001b[0m\u001b[32m)\u001b[0m\u001b[32m to effectively handle\\nsequences of arbitrary length\u001b[0m\n",
              "\u001b[32mwith a reduced inference cost. We also provide a\\nmodel fine-tuned to follow instructions, Mistral 7B -- Instruct, \u001b[0m\n",
              "\u001b[32mthat surpasses\\nthe Llama 2 13B -- Chat model both on human and automated benchmarks. Our\\nmodels are released \u001b[0m\n",
              "\u001b[32munder the Apache 2.0 license.'\u001b[0m\n",
              "\u001b[1;38;2;118;185;0m}\u001b[0m\n"
            ]
          },
          "metadata": {},
          "output_type": "display_data"
        },
        {
          "name": "stdout",
          "output_type": "stream",
          "text": [
            "\n",
            "Document 5\n",
            " - # Chunks: 44\n",
            " - Metadata: \n"
          ]
        },
        {
          "data": {
            "text/html": [
              "<pre style=\"white-space:pre;overflow-x:auto;line-height:normal;font-family:Menlo,'DejaVu Sans Mono',consolas,'Courier New',monospace\"><span style=\"color: #76b900; text-decoration-color: #76b900; font-weight: bold\">{</span>\n",
              "<span style=\"color: #76b900; text-decoration-color: #76b900; font-weight: bold\">    </span><span style=\"color: #008000; text-decoration-color: #008000\">'Published'</span><span style=\"color: #76b900; text-decoration-color: #76b900; font-weight: bold\">: </span><span style=\"color: #008000; text-decoration-color: #008000\">'2023-12-24'</span><span style=\"color: #76b900; text-decoration-color: #76b900; font-weight: bold\">,</span>\n",
              "<span style=\"color: #76b900; text-decoration-color: #76b900; font-weight: bold\">    </span><span style=\"color: #008000; text-decoration-color: #008000\">'Title'</span><span style=\"color: #76b900; text-decoration-color: #76b900; font-weight: bold\">: </span><span style=\"color: #008000; text-decoration-color: #008000\">'Judging LLM-as-a-Judge with MT-Bench and Chatbot Arena'</span><span style=\"color: #76b900; text-decoration-color: #76b900; font-weight: bold\">,</span>\n",
              "<span style=\"color: #76b900; text-decoration-color: #76b900; font-weight: bold\">    </span><span style=\"color: #008000; text-decoration-color: #008000\">'Authors'</span><span style=\"color: #76b900; text-decoration-color: #76b900; font-weight: bold\">: </span><span style=\"color: #008000; text-decoration-color: #008000\">'Lianmin Zheng, Wei-Lin Chiang, Ying Sheng, Siyuan Zhuang, Zhanghao Wu, Yonghao Zhuang, Zi Lin, </span>\n",
              "<span style=\"color: #008000; text-decoration-color: #008000\">Zhuohan Li, Dacheng Li, Eric P. Xing, Hao Zhang, Joseph E. Gonzalez, Ion Stoica'</span><span style=\"color: #76b900; text-decoration-color: #76b900; font-weight: bold\">,</span>\n",
              "<span style=\"color: #76b900; text-decoration-color: #76b900; font-weight: bold\">    </span><span style=\"color: #008000; text-decoration-color: #008000\">'Summary'</span><span style=\"color: #76b900; text-decoration-color: #76b900; font-weight: bold\">: </span><span style=\"color: #008000; text-decoration-color: #008000\">'Evaluating large language model (LLM) based chat assistants is challenging\\ndue to their broad </span>\n",
              "<span style=\"color: #008000; text-decoration-color: #008000\">capabilities and the inadequacy of existing benchmarks in\\nmeasuring human preferences. To address this, we explore</span>\n",
              "<span style=\"color: #008000; text-decoration-color: #008000\">using strong LLMs as\\njudges to evaluate these models on more open-ended questions. We examine the\\nusage and </span>\n",
              "<span style=\"color: #008000; text-decoration-color: #008000\">limitations of LLM-as-a-judge, including position, verbosity, and\\nself-enhancement biases, as well as limited </span>\n",
              "<span style=\"color: #008000; text-decoration-color: #008000\">reasoning ability, and propose\\nsolutions to mitigate some of them. We then verify the agreement between </span>\n",
              "<span style=\"color: #008000; text-decoration-color: #008000\">LLM\\njudges and human preferences by introducing two benchmarks: MT-bench, a\\nmulti-turn question set; and Chatbot </span>\n",
              "<span style=\"color: #008000; text-decoration-color: #008000\">Arena, a crowdsourced battle platform. Our\\nresults reveal that strong LLM judges like GPT-4 can match both </span>\n",
              "<span style=\"color: #008000; text-decoration-color: #008000\">controlled and\\ncrowdsourced human preferences well, achieving over 80% agreement, the same\\nlevel of agreement </span>\n",
              "<span style=\"color: #008000; text-decoration-color: #008000\">between humans. Hence, LLM-as-a-judge is a scalable and\\nexplainable way to approximate human preferences, which </span>\n",
              "<span style=\"color: #008000; text-decoration-color: #008000\">are otherwise very\\nexpensive to obtain. Additionally, we show our benchmark and traditional\\nbenchmarks complement</span>\n",
              "<span style=\"color: #008000; text-decoration-color: #008000\">each other by evaluating several variants of LLaMA and\\nVicuna. The MT-bench questions, 3K expert votes, and 30K </span>\n",
              "<span style=\"color: #008000; text-decoration-color: #008000\">conversations with\\nhuman preferences are publicly available </span>\n",
              "<span style=\"color: #008000; text-decoration-color: #008000\">at\\nhttps://github.com/lm-sys/FastChat/tree/main/fastchat/llm_judge.'</span>\n",
              "<span style=\"color: #76b900; text-decoration-color: #76b900; font-weight: bold\">}</span>\n",
              "</pre>\n"
            ],
            "text/plain": [
              "\u001b[1;38;2;118;185;0m{\u001b[0m\n",
              "\u001b[1;38;2;118;185;0m    \u001b[0m\u001b[32m'Published'\u001b[0m\u001b[1;38;2;118;185;0m: \u001b[0m\u001b[32m'2023-12-24'\u001b[0m\u001b[1;38;2;118;185;0m,\u001b[0m\n",
              "\u001b[1;38;2;118;185;0m    \u001b[0m\u001b[32m'Title'\u001b[0m\u001b[1;38;2;118;185;0m: \u001b[0m\u001b[32m'Judging LLM-as-a-Judge with MT-Bench and Chatbot Arena'\u001b[0m\u001b[1;38;2;118;185;0m,\u001b[0m\n",
              "\u001b[1;38;2;118;185;0m    \u001b[0m\u001b[32m'Authors'\u001b[0m\u001b[1;38;2;118;185;0m: \u001b[0m\u001b[32m'Lianmin Zheng, Wei-Lin Chiang, Ying Sheng, Siyuan Zhuang, Zhanghao Wu, Yonghao Zhuang, Zi Lin, \u001b[0m\n",
              "\u001b[32mZhuohan Li, Dacheng Li, Eric P. Xing, Hao Zhang, Joseph E. Gonzalez, Ion Stoica'\u001b[0m\u001b[1;38;2;118;185;0m,\u001b[0m\n",
              "\u001b[1;38;2;118;185;0m    \u001b[0m\u001b[32m'Summary'\u001b[0m\u001b[1;38;2;118;185;0m: \u001b[0m\u001b[32m'Evaluating large language model \u001b[0m\u001b[32m(\u001b[0m\u001b[32mLLM\u001b[0m\u001b[32m)\u001b[0m\u001b[32m based chat assistants is challenging\\ndue to their broad \u001b[0m\n",
              "\u001b[32mcapabilities and the inadequacy of existing benchmarks in\\nmeasuring human preferences. To address this, we explore\u001b[0m\n",
              "\u001b[32musing strong LLMs as\\njudges to evaluate these models on more open-ended questions. We examine the\\nusage and \u001b[0m\n",
              "\u001b[32mlimitations of LLM-as-a-judge, including position, verbosity, and\\nself-enhancement biases, as well as limited \u001b[0m\n",
              "\u001b[32mreasoning ability, and propose\\nsolutions to mitigate some of them. We then verify the agreement between \u001b[0m\n",
              "\u001b[32mLLM\\njudges and human preferences by introducing two benchmarks: MT-bench, a\\nmulti-turn question set; and Chatbot \u001b[0m\n",
              "\u001b[32mArena, a crowdsourced battle platform. Our\\nresults reveal that strong LLM judges like GPT-4 can match both \u001b[0m\n",
              "\u001b[32mcontrolled and\\ncrowdsourced human preferences well, achieving over 80% agreement, the same\\nlevel of agreement \u001b[0m\n",
              "\u001b[32mbetween humans. Hence, LLM-as-a-judge is a scalable and\\nexplainable way to approximate human preferences, which \u001b[0m\n",
              "\u001b[32mare otherwise very\\nexpensive to obtain. Additionally, we show our benchmark and traditional\\nbenchmarks complement\u001b[0m\n",
              "\u001b[32meach other by evaluating several variants of LLaMA and\\nVicuna. The MT-bench questions, 3K expert votes, and 30K \u001b[0m\n",
              "\u001b[32mconversations with\\nhuman preferences are publicly available \u001b[0m\n",
              "\u001b[32mat\\nhttps://github.com/lm-sys/FastChat/tree/main/fastchat/llm_judge.'\u001b[0m\n",
              "\u001b[1;38;2;118;185;0m}\u001b[0m\n"
            ]
          },
          "metadata": {},
          "output_type": "display_data"
        },
        {
          "name": "stdout",
          "output_type": "stream",
          "text": [
            "\n",
            "Document 6\n",
            " - # Chunks: 44\n",
            " - Metadata: \n"
          ]
        },
        {
          "data": {
            "text/html": [
              "<pre style=\"white-space:pre;overflow-x:auto;line-height:normal;font-family:Menlo,'DejaVu Sans Mono',consolas,'Courier New',monospace\"><span style=\"color: #76b900; text-decoration-color: #76b900; font-weight: bold\">{</span>\n",
              "<span style=\"color: #76b900; text-decoration-color: #76b900; font-weight: bold\">    </span><span style=\"color: #008000; text-decoration-color: #008000\">'Published'</span><span style=\"color: #76b900; text-decoration-color: #76b900; font-weight: bold\">: </span><span style=\"color: #008000; text-decoration-color: #008000\">'2024-08-28'</span><span style=\"color: #76b900; text-decoration-color: #76b900; font-weight: bold\">,</span>\n",
              "<span style=\"color: #76b900; text-decoration-color: #76b900; font-weight: bold\">    </span><span style=\"color: #008000; text-decoration-color: #008000\">'Title'</span><span style=\"color: #76b900; text-decoration-color: #76b900; font-weight: bold\">: </span><span style=\"color: #008000; text-decoration-color: #008000\">'Mamba or Transformer for Time Series Forecasting? Mixture of Universals (MoU) Is All You Need'</span><span style=\"color: #76b900; text-decoration-color: #76b900; font-weight: bold\">,</span>\n",
              "<span style=\"color: #76b900; text-decoration-color: #76b900; font-weight: bold\">    </span><span style=\"color: #008000; text-decoration-color: #008000\">'Authors'</span><span style=\"color: #76b900; text-decoration-color: #76b900; font-weight: bold\">: </span><span style=\"color: #008000; text-decoration-color: #008000\">'Sijia Peng, Yun Xiong, Yangyong Zhu, Zhiqiang Shen'</span><span style=\"color: #76b900; text-decoration-color: #76b900; font-weight: bold\">,</span>\n",
              "<span style=\"color: #76b900; text-decoration-color: #76b900; font-weight: bold\">    </span><span style=\"color: #008000; text-decoration-color: #008000\">'Summary'</span><span style=\"color: #76b900; text-decoration-color: #76b900; font-weight: bold\">: </span><span style=\"color: #008000; text-decoration-color: #008000\">'Time series forecasting requires balancing short-term and long-term\\ndependencies for accurate </span>\n",
              "<span style=\"color: #008000; text-decoration-color: #008000\">predictions. Existing methods mainly focus on\\nlong-term dependency modeling, neglecting the complexities of </span>\n",
              "<span style=\"color: #008000; text-decoration-color: #008000\">short-term\\ndynamics, which may hinder performance. Transformers are superior in modeling\\nlong-term dependencies </span>\n",
              "<span style=\"color: #008000; text-decoration-color: #008000\">but are criticized for their quadratic computational\\ncost. Mamba provides a near-linear alternative but is </span>\n",
              "<span style=\"color: #008000; text-decoration-color: #008000\">reported less effective\\nin time series longterm forecasting due to potential information loss. </span>\n",
              "<span style=\"color: #008000; text-decoration-color: #008000\">Current\\narchitectures fall short in offering both high efficiency and strong\\nperformance for long-term dependency</span>\n",
              "<span style=\"color: #008000; text-decoration-color: #008000\">modeling. To address these challenges, we\\nintroduce Mixture of Universals (MoU), a versatile model to capture </span>\n",
              "<span style=\"color: #008000; text-decoration-color: #008000\">both\\nshort-term and long-term dependencies for enhancing performance in time series\\nforecasting. MoU is composed </span>\n",
              "<span style=\"color: #008000; text-decoration-color: #008000\">of two novel designs: Mixture of Feature\\nExtractors (MoF), an adaptive method designed to improve time series </span>\n",
              "<span style=\"color: #008000; text-decoration-color: #008000\">patch\\nrepresentations for short-term dependency, and Mixture of Architectures (MoA),\\nwhich hierarchically </span>\n",
              "<span style=\"color: #008000; text-decoration-color: #008000\">integrates Mamba, FeedForward, Convolution, and\\nSelf-Attention architectures in a specialized order to model </span>\n",
              "<span style=\"color: #008000; text-decoration-color: #008000\">long-term\\ndependency from a hybrid perspective. The proposed approach achieves\\nstate-of-the-art performance while</span>\n",
              "<span style=\"color: #008000; text-decoration-color: #008000\">maintaining relatively low computational\\ncosts. Extensive experiments on seven real-world datasets demonstrate </span>\n",
              "<span style=\"color: #008000; text-decoration-color: #008000\">the\\nsuperiority of MoU. Code is available at https://github.com/lunaaa95/mou/.'</span>\n",
              "<span style=\"color: #76b900; text-decoration-color: #76b900; font-weight: bold\">}</span>\n",
              "</pre>\n"
            ],
            "text/plain": [
              "\u001b[1;38;2;118;185;0m{\u001b[0m\n",
              "\u001b[1;38;2;118;185;0m    \u001b[0m\u001b[32m'Published'\u001b[0m\u001b[1;38;2;118;185;0m: \u001b[0m\u001b[32m'2024-08-28'\u001b[0m\u001b[1;38;2;118;185;0m,\u001b[0m\n",
              "\u001b[1;38;2;118;185;0m    \u001b[0m\u001b[32m'Title'\u001b[0m\u001b[1;38;2;118;185;0m: \u001b[0m\u001b[32m'Mamba or Transformer for Time Series Forecasting? Mixture of Universals \u001b[0m\u001b[32m(\u001b[0m\u001b[32mMoU\u001b[0m\u001b[32m)\u001b[0m\u001b[32m Is All You Need'\u001b[0m\u001b[1;38;2;118;185;0m,\u001b[0m\n",
              "\u001b[1;38;2;118;185;0m    \u001b[0m\u001b[32m'Authors'\u001b[0m\u001b[1;38;2;118;185;0m: \u001b[0m\u001b[32m'Sijia Peng, Yun Xiong, Yangyong Zhu, Zhiqiang Shen'\u001b[0m\u001b[1;38;2;118;185;0m,\u001b[0m\n",
              "\u001b[1;38;2;118;185;0m    \u001b[0m\u001b[32m'Summary'\u001b[0m\u001b[1;38;2;118;185;0m: \u001b[0m\u001b[32m'Time series forecasting requires balancing short-term and long-term\\ndependencies for accurate \u001b[0m\n",
              "\u001b[32mpredictions. Existing methods mainly focus on\\nlong-term dependency modeling, neglecting the complexities of \u001b[0m\n",
              "\u001b[32mshort-term\\ndynamics, which may hinder performance. Transformers are superior in modeling\\nlong-term dependencies \u001b[0m\n",
              "\u001b[32mbut are criticized for their quadratic computational\\ncost. Mamba provides a near-linear alternative but is \u001b[0m\n",
              "\u001b[32mreported less effective\\nin time series longterm forecasting due to potential information loss. \u001b[0m\n",
              "\u001b[32mCurrent\\narchitectures fall short in offering both high efficiency and strong\\nperformance for long-term dependency\u001b[0m\n",
              "\u001b[32mmodeling. To address these challenges, we\\nintroduce Mixture of Universals \u001b[0m\u001b[32m(\u001b[0m\u001b[32mMoU\u001b[0m\u001b[32m)\u001b[0m\u001b[32m, a versatile model to capture \u001b[0m\n",
              "\u001b[32mboth\\nshort-term and long-term dependencies for enhancing performance in time series\\nforecasting. MoU is composed \u001b[0m\n",
              "\u001b[32mof two novel designs: Mixture of Feature\\nExtractors \u001b[0m\u001b[32m(\u001b[0m\u001b[32mMoF\u001b[0m\u001b[32m)\u001b[0m\u001b[32m, an adaptive method designed to improve time series \u001b[0m\n",
              "\u001b[32mpatch\\nrepresentations for short-term dependency, and Mixture of Architectures \u001b[0m\u001b[32m(\u001b[0m\u001b[32mMoA\u001b[0m\u001b[32m)\u001b[0m\u001b[32m,\\nwhich hierarchically \u001b[0m\n",
              "\u001b[32mintegrates Mamba, FeedForward, Convolution, and\\nSelf-Attention architectures in a specialized order to model \u001b[0m\n",
              "\u001b[32mlong-term\\ndependency from a hybrid perspective. The proposed approach achieves\\nstate-of-the-art performance while\u001b[0m\n",
              "\u001b[32mmaintaining relatively low computational\\ncosts. Extensive experiments on seven real-world datasets demonstrate \u001b[0m\n",
              "\u001b[32mthe\\nsuperiority of MoU. Code is available at https://github.com/lunaaa95/mou/.'\u001b[0m\n",
              "\u001b[1;38;2;118;185;0m}\u001b[0m\n"
            ]
          },
          "metadata": {},
          "output_type": "display_data"
        },
        {
          "name": "stdout",
          "output_type": "stream",
          "text": [
            "\n",
            "Document 7\n",
            " - # Chunks: 63\n",
            " - Metadata: \n"
          ]
        },
        {
          "data": {
            "text/html": [
              "<pre style=\"white-space:pre;overflow-x:auto;line-height:normal;font-family:Menlo,'DejaVu Sans Mono',consolas,'Courier New',monospace\"><span style=\"color: #76b900; text-decoration-color: #76b900; font-weight: bold\">{</span>\n",
              "<span style=\"color: #76b900; text-decoration-color: #76b900; font-weight: bold\">    </span><span style=\"color: #008000; text-decoration-color: #008000\">'Published'</span><span style=\"color: #76b900; text-decoration-color: #76b900; font-weight: bold\">: </span><span style=\"color: #008000; text-decoration-color: #008000\">'2024-06-28'</span><span style=\"color: #76b900; text-decoration-color: #76b900; font-weight: bold\">,</span>\n",
              "<span style=\"color: #76b900; text-decoration-color: #76b900; font-weight: bold\">    </span><span style=\"color: #008000; text-decoration-color: #008000\">'Title'</span><span style=\"color: #76b900; text-decoration-color: #76b900; font-weight: bold\">: </span><span style=\"color: #008000; text-decoration-color: #008000\">'AI for Extreme Event Modeling and Understanding: Methodologies and Challenges'</span><span style=\"color: #76b900; text-decoration-color: #76b900; font-weight: bold\">,</span>\n",
              "<span style=\"color: #76b900; text-decoration-color: #76b900; font-weight: bold\">    </span><span style=\"color: #008000; text-decoration-color: #008000\">'Authors'</span><span style=\"color: #76b900; text-decoration-color: #76b900; font-weight: bold\">: </span><span style=\"color: #008000; text-decoration-color: #008000\">'Gustau Camps-Valls, Miguel-Ángel Fernández-Torres, Kai-Hendrik Cohrs, Adrian Höhl, Andrea </span>\n",
              "<span style=\"color: #008000; text-decoration-color: #008000\">Castelletti, Aytac Pacal, Claire Robin, Francesco Martinuzzi, Ioannis Papoutsis, Ioannis Prapas, Jorge </span>\n",
              "<span style=\"color: #008000; text-decoration-color: #008000\">Pérez-Aracil, Katja Weigel, Maria Gonzalez-Calabuig, Markus Reichstein, Martin Rabel, Matteo Giuliani, Miguel </span>\n",
              "<span style=\"color: #008000; text-decoration-color: #008000\">Mahecha, Oana-Iuliana Popescu, Oscar J. Pellicer-Valero, Said Ouala, Sancho Salcedo-Sanz, Sebastian Sippel, Spyros </span>\n",
              "<span style=\"color: #008000; text-decoration-color: #008000\">Kondylatos, Tamara Happé, Tristan Williams'</span><span style=\"color: #76b900; text-decoration-color: #76b900; font-weight: bold\">,</span>\n",
              "<span style=\"color: #76b900; text-decoration-color: #76b900; font-weight: bold\">    </span><span style=\"color: #008000; text-decoration-color: #008000\">'Summary'</span><span style=\"color: #76b900; text-decoration-color: #76b900; font-weight: bold\">: </span><span style=\"color: #008000; text-decoration-color: #008000\">'In recent years, artificial intelligence (AI) has deeply impacted various\\nfields, including Earth </span>\n",
              "<span style=\"color: #008000; text-decoration-color: #008000\">system sciences. Here, AI improved weather forecasting,\\nmodel emulation, parameter estimation, and the prediction </span>\n",
              "<span style=\"color: #008000; text-decoration-color: #008000\">of extreme events.\\nHowever, the latter comes with specific challenges, such as developing accurate\\npredictors </span>\n",
              "<span style=\"color: #008000; text-decoration-color: #008000\">from noisy, heterogeneous and limited annotated data. This paper\\nreviews how AI is being used to analyze extreme </span>\n",
              "<span style=\"color: #008000; text-decoration-color: #008000\">events (like floods, droughts,\\nwildfires and heatwaves), highlighting the importance of creating </span>\n",
              "<span style=\"color: #008000; text-decoration-color: #008000\">accurate,\\ntransparent, and reliable AI models. We discuss the hurdles of dealing with\\nlimited data, integrating </span>\n",
              "<span style=\"color: #008000; text-decoration-color: #008000\">information in real-time, deploying models, and\\nmaking them understandable, all crucial for gaining the trust of </span>\n",
              "<span style=\"color: #008000; text-decoration-color: #008000\">stakeholders\\nand meeting regulatory needs. We provide an overview of how AI can help\\nidentify and explain extreme</span>\n",
              "<span style=\"color: #008000; text-decoration-color: #008000\">events more effectively, improving disaster\\nresponse and communication. We emphasize the need for collaboration </span>\n",
              "<span style=\"color: #008000; text-decoration-color: #008000\">across\\ndifferent fields to create AI solutions that are practical, understandable, and\\ntrustworthy for analyzing </span>\n",
              "<span style=\"color: #008000; text-decoration-color: #008000\">and predicting extreme events. Such collaborative\\nefforts aim to enhance disaster readiness and disaster risk </span>\n",
              "<span style=\"color: #008000; text-decoration-color: #008000\">reduction.'</span>\n",
              "<span style=\"color: #76b900; text-decoration-color: #76b900; font-weight: bold\">}</span>\n",
              "</pre>\n"
            ],
            "text/plain": [
              "\u001b[1;38;2;118;185;0m{\u001b[0m\n",
              "\u001b[1;38;2;118;185;0m    \u001b[0m\u001b[32m'Published'\u001b[0m\u001b[1;38;2;118;185;0m: \u001b[0m\u001b[32m'2024-06-28'\u001b[0m\u001b[1;38;2;118;185;0m,\u001b[0m\n",
              "\u001b[1;38;2;118;185;0m    \u001b[0m\u001b[32m'Title'\u001b[0m\u001b[1;38;2;118;185;0m: \u001b[0m\u001b[32m'AI for Extreme Event Modeling and Understanding: Methodologies and Challenges'\u001b[0m\u001b[1;38;2;118;185;0m,\u001b[0m\n",
              "\u001b[1;38;2;118;185;0m    \u001b[0m\u001b[32m'Authors'\u001b[0m\u001b[1;38;2;118;185;0m: \u001b[0m\u001b[32m'Gustau Camps-Valls, Miguel-Ángel Fernández-Torres, Kai-Hendrik Cohrs, Adrian Höhl, Andrea \u001b[0m\n",
              "\u001b[32mCastelletti, Aytac Pacal, Claire Robin, Francesco Martinuzzi, Ioannis Papoutsis, Ioannis Prapas, Jorge \u001b[0m\n",
              "\u001b[32mPérez-Aracil, Katja Weigel, Maria Gonzalez-Calabuig, Markus Reichstein, Martin Rabel, Matteo Giuliani, Miguel \u001b[0m\n",
              "\u001b[32mMahecha, Oana-Iuliana Popescu, Oscar J. Pellicer-Valero, Said Ouala, Sancho Salcedo-Sanz, Sebastian Sippel, Spyros \u001b[0m\n",
              "\u001b[32mKondylatos, Tamara Happé, Tristan Williams'\u001b[0m\u001b[1;38;2;118;185;0m,\u001b[0m\n",
              "\u001b[1;38;2;118;185;0m    \u001b[0m\u001b[32m'Summary'\u001b[0m\u001b[1;38;2;118;185;0m: \u001b[0m\u001b[32m'In recent years, artificial intelligence \u001b[0m\u001b[32m(\u001b[0m\u001b[32mAI\u001b[0m\u001b[32m)\u001b[0m\u001b[32m has deeply impacted various\\nfields, including Earth \u001b[0m\n",
              "\u001b[32msystem sciences. Here, AI improved weather forecasting,\\nmodel emulation, parameter estimation, and the prediction \u001b[0m\n",
              "\u001b[32mof extreme events.\\nHowever, the latter comes with specific challenges, such as developing accurate\\npredictors \u001b[0m\n",
              "\u001b[32mfrom noisy, heterogeneous and limited annotated data. This paper\\nreviews how AI is being used to analyze extreme \u001b[0m\n",
              "\u001b[32mevents \u001b[0m\u001b[32m(\u001b[0m\u001b[32mlike floods, droughts,\\nwildfires and heatwaves\u001b[0m\u001b[32m)\u001b[0m\u001b[32m, highlighting the importance of creating \u001b[0m\n",
              "\u001b[32maccurate,\\ntransparent, and reliable AI models. We discuss the hurdles of dealing with\\nlimited data, integrating \u001b[0m\n",
              "\u001b[32minformation in real-time, deploying models, and\\nmaking them understandable, all crucial for gaining the trust of \u001b[0m\n",
              "\u001b[32mstakeholders\\nand meeting regulatory needs. We provide an overview of how AI can help\\nidentify and explain extreme\u001b[0m\n",
              "\u001b[32mevents more effectively, improving disaster\\nresponse and communication. We emphasize the need for collaboration \u001b[0m\n",
              "\u001b[32macross\\ndifferent fields to create AI solutions that are practical, understandable, and\\ntrustworthy for analyzing \u001b[0m\n",
              "\u001b[32mand predicting extreme events. Such collaborative\\nefforts aim to enhance disaster readiness and disaster risk \u001b[0m\n",
              "\u001b[32mreduction.'\u001b[0m\n",
              "\u001b[1;38;2;118;185;0m}\u001b[0m\n"
            ]
          },
          "metadata": {},
          "output_type": "display_data"
        },
        {
          "name": "stdout",
          "output_type": "stream",
          "text": [
            "\n",
            "Document 8\n",
            " - # Chunks: 41\n",
            " - Metadata: \n"
          ]
        },
        {
          "data": {
            "text/html": [
              "<pre style=\"white-space:pre;overflow-x:auto;line-height:normal;font-family:Menlo,'DejaVu Sans Mono',consolas,'Courier New',monospace\"><span style=\"color: #76b900; text-decoration-color: #76b900; font-weight: bold\">{</span>\n",
              "<span style=\"color: #76b900; text-decoration-color: #76b900; font-weight: bold\">    </span><span style=\"color: #008000; text-decoration-color: #008000\">'Published'</span><span style=\"color: #76b900; text-decoration-color: #76b900; font-weight: bold\">: </span><span style=\"color: #008000; text-decoration-color: #008000\">'2024-08-23'</span><span style=\"color: #76b900; text-decoration-color: #76b900; font-weight: bold\">,</span>\n",
              "<span style=\"color: #76b900; text-decoration-color: #76b900; font-weight: bold\">    </span><span style=\"color: #008000; text-decoration-color: #008000\">'Title'</span><span style=\"color: #76b900; text-decoration-color: #76b900; font-weight: bold\">: </span><span style=\"color: #008000; text-decoration-color: #008000\">'Causal machine learning for sustainable agroecosystems'</span><span style=\"color: #76b900; text-decoration-color: #76b900; font-weight: bold\">,</span>\n",
              "<span style=\"color: #76b900; text-decoration-color: #76b900; font-weight: bold\">    </span><span style=\"color: #008000; text-decoration-color: #008000\">'Authors'</span><span style=\"color: #76b900; text-decoration-color: #76b900; font-weight: bold\">: </span><span style=\"color: #008000; text-decoration-color: #008000\">'Vasileios Sitokonstantinou, Emiliano Díaz Salas Porras, Jordi Cerdà Bautista, Maria Piles, Ioannis </span>\n",
              "<span style=\"color: #008000; text-decoration-color: #008000\">Athanasiadis, Hannah Kerner, Giulia Martini, Lily-belle Sweet, Ilias Tsoumas, Jakob Zscheischler, Gustau </span>\n",
              "<span style=\"color: #008000; text-decoration-color: #008000\">Camps-Valls'</span><span style=\"color: #76b900; text-decoration-color: #76b900; font-weight: bold\">,</span>\n",
              "<span style=\"color: #76b900; text-decoration-color: #76b900; font-weight: bold\">    </span><span style=\"color: #008000; text-decoration-color: #008000\">'Summary'</span><span style=\"color: #76b900; text-decoration-color: #76b900; font-weight: bold\">: </span><span style=\"color: #008000; text-decoration-color: #008000\">\"In a changing climate, sustainable agriculture is essential for food security\\nand environmental </span>\n",
              "<span style=\"color: #008000; text-decoration-color: #008000\">health. However, it is challenging to understand the complex\\ninteractions among its biophysical, social, and </span>\n",
              "<span style=\"color: #008000; text-decoration-color: #008000\">economic components. Predictive\\nmachine learning (ML), with its capacity to learn from data, is leveraged </span>\n",
              "<span style=\"color: #008000; text-decoration-color: #008000\">in\\nsustainable agriculture for applications like yield prediction and weather\\nforecasting. Nevertheless, it </span>\n",
              "<span style=\"color: #008000; text-decoration-color: #008000\">cannot explain causal mechanisms and remains\\ndescriptive rather than prescriptive. To address this gap, we propose</span>\n",
              "<span style=\"color: #008000; text-decoration-color: #008000\">causal\\nML, which merges ML's data processing with causality's ability to reason about\\nchange. This facilitates </span>\n",
              "<span style=\"color: #008000; text-decoration-color: #008000\">quantifying intervention impacts for evidence-based\\ndecision-making and enhances predictive model robustness. We </span>\n",
              "<span style=\"color: #008000; text-decoration-color: #008000\">showcase causal ML\\nthrough eight diverse applications that benefit stakeholders across the\\nagri-food chain, </span>\n",
              "<span style=\"color: #008000; text-decoration-color: #008000\">including farmers, policymakers, and researchers.\"</span>\n",
              "<span style=\"color: #76b900; text-decoration-color: #76b900; font-weight: bold\">}</span>\n",
              "</pre>\n"
            ],
            "text/plain": [
              "\u001b[1;38;2;118;185;0m{\u001b[0m\n",
              "\u001b[1;38;2;118;185;0m    \u001b[0m\u001b[32m'Published'\u001b[0m\u001b[1;38;2;118;185;0m: \u001b[0m\u001b[32m'2024-08-23'\u001b[0m\u001b[1;38;2;118;185;0m,\u001b[0m\n",
              "\u001b[1;38;2;118;185;0m    \u001b[0m\u001b[32m'Title'\u001b[0m\u001b[1;38;2;118;185;0m: \u001b[0m\u001b[32m'Causal machine learning for sustainable agroecosystems'\u001b[0m\u001b[1;38;2;118;185;0m,\u001b[0m\n",
              "\u001b[1;38;2;118;185;0m    \u001b[0m\u001b[32m'Authors'\u001b[0m\u001b[1;38;2;118;185;0m: \u001b[0m\u001b[32m'Vasileios Sitokonstantinou, Emiliano Díaz Salas Porras, Jordi Cerdà Bautista, Maria Piles, Ioannis \u001b[0m\n",
              "\u001b[32mAthanasiadis, Hannah Kerner, Giulia Martini, Lily-belle Sweet, Ilias Tsoumas, Jakob Zscheischler, Gustau \u001b[0m\n",
              "\u001b[32mCamps-Valls'\u001b[0m\u001b[1;38;2;118;185;0m,\u001b[0m\n",
              "\u001b[1;38;2;118;185;0m    \u001b[0m\u001b[32m'Summary'\u001b[0m\u001b[1;38;2;118;185;0m: \u001b[0m\u001b[32m\"In a changing climate, sustainable agriculture is essential for food security\\nand environmental \u001b[0m\n",
              "\u001b[32mhealth. However, it is challenging to understand the complex\\ninteractions among its biophysical, social, and \u001b[0m\n",
              "\u001b[32meconomic components. Predictive\\nmachine learning \u001b[0m\u001b[32m(\u001b[0m\u001b[32mML\u001b[0m\u001b[32m)\u001b[0m\u001b[32m, with its capacity to learn from data, is leveraged \u001b[0m\n",
              "\u001b[32min\\nsustainable agriculture for applications like yield prediction and weather\\nforecasting. Nevertheless, it \u001b[0m\n",
              "\u001b[32mcannot explain causal mechanisms and remains\\ndescriptive rather than prescriptive. To address this gap, we propose\u001b[0m\n",
              "\u001b[32mcausal\\nML, which merges ML's data processing with causality's ability to reason about\\nchange. This facilitates \u001b[0m\n",
              "\u001b[32mquantifying intervention impacts for evidence-based\\ndecision-making and enhances predictive model robustness. We \u001b[0m\n",
              "\u001b[32mshowcase causal ML\\nthrough eight diverse applications that benefit stakeholders across the\\nagri-food chain, \u001b[0m\n",
              "\u001b[32mincluding farmers, policymakers, and researchers.\"\u001b[0m\n",
              "\u001b[1;38;2;118;185;0m}\u001b[0m\n"
            ]
          },
          "metadata": {},
          "output_type": "display_data"
        },
        {
          "name": "stdout",
          "output_type": "stream",
          "text": [
            "\n",
            "Document 9\n",
            " - # Chunks: 59\n",
            " - Metadata: \n"
          ]
        },
        {
          "data": {
            "text/html": [
              "<pre style=\"white-space:pre;overflow-x:auto;line-height:normal;font-family:Menlo,'DejaVu Sans Mono',consolas,'Courier New',monospace\"><span style=\"color: #76b900; text-decoration-color: #76b900; font-weight: bold\">{</span>\n",
              "<span style=\"color: #76b900; text-decoration-color: #76b900; font-weight: bold\">    </span><span style=\"color: #008000; text-decoration-color: #008000\">'Published'</span><span style=\"color: #76b900; text-decoration-color: #76b900; font-weight: bold\">: </span><span style=\"color: #008000; text-decoration-color: #008000\">'2024-08-20'</span><span style=\"color: #76b900; text-decoration-color: #76b900; font-weight: bold\">,</span>\n",
              "<span style=\"color: #76b900; text-decoration-color: #76b900; font-weight: bold\">    </span><span style=\"color: #008000; text-decoration-color: #008000\">'Title'</span><span style=\"color: #76b900; text-decoration-color: #76b900; font-weight: bold\">: </span><span style=\"color: #008000; text-decoration-color: #008000\">'Kilometer-Scale Convection Allowing Model Emulation using Generative Diffusion Modeling'</span><span style=\"color: #76b900; text-decoration-color: #76b900; font-weight: bold\">,</span>\n",
              "<span style=\"color: #76b900; text-decoration-color: #76b900; font-weight: bold\">    </span><span style=\"color: #008000; text-decoration-color: #008000\">'Authors'</span><span style=\"color: #76b900; text-decoration-color: #76b900; font-weight: bold\">: </span><span style=\"color: #008000; text-decoration-color: #008000\">'Jaideep Pathak, Yair Cohen, Piyush Garg, Peter Harrington, Noah Brenowitz, Dale Durran, Morteza </span>\n",
              "<span style=\"color: #008000; text-decoration-color: #008000\">Mardani, Arash Vahdat, Shaoming Xu, Karthik Kashinath, Michael Pritchard'</span><span style=\"color: #76b900; text-decoration-color: #76b900; font-weight: bold\">,</span>\n",
              "<span style=\"color: #76b900; text-decoration-color: #76b900; font-weight: bold\">    </span><span style=\"color: #008000; text-decoration-color: #008000\">'Summary'</span><span style=\"color: #76b900; text-decoration-color: #76b900; font-weight: bold\">: </span><span style=\"color: #008000; text-decoration-color: #008000\">\"Storm-scale convection-allowing models (CAMs) are an important tool for\\npredicting the evolution </span>\n",
              "<span style=\"color: #008000; text-decoration-color: #008000\">of thunderstorms and mesoscale convective systems that\\nresult in damaging extreme weather. By explicitly resolving</span>\n",
              "<span style=\"color: #008000; text-decoration-color: #008000\">convective dynamics\\nwithin the atmosphere they afford meteorologists the nuance needed to provide\\noutlook on </span>\n",
              "<span style=\"color: #008000; text-decoration-color: #008000\">hazard. Deep learning models have thus far not proven skilful at\\nkm-scale atmospheric simulation, despite being </span>\n",
              "<span style=\"color: #008000; text-decoration-color: #008000\">competitive at coarser\\nresolution with state-of-the-art global, medium-range weather forecasting. We\\npresent a </span>\n",
              "<span style=\"color: #008000; text-decoration-color: #008000\">generative diffusion model called StormCast, which emulates the\\nhigh-resolution rapid refresh (HRRR) model-NOAA's </span>\n",
              "<span style=\"color: #008000; text-decoration-color: #008000\">state-of-the-art 3km\\noperational CAM. StormCast autoregressively predicts 99 state variables at km\\nscale using a </span>\n",
              "<span style=\"color: #008000; text-decoration-color: #008000\">1-hour time step, with dense vertical resolution in the\\natmospheric boundary layer, conditioned on 26 synoptic </span>\n",
              "<span style=\"color: #008000; text-decoration-color: #008000\">variables. We present\\nevidence of successfully learnt km-scale dynamics including competitive 1-6\\nhour forecast </span>\n",
              "<span style=\"color: #008000; text-decoration-color: #008000\">skill for composite radar reflectivity alongside physically\\nrealistic convective cluster evolution, moist </span>\n",
              "<span style=\"color: #008000; text-decoration-color: #008000\">updrafts, and cold pool\\nmorphology. StormCast predictions maintain realistic power spectra for multiple\\npredicted</span>\n",
              "<span style=\"color: #008000; text-decoration-color: #008000\">variables across multi-hour forecasts. Together, these results\\nestablish the potential for autoregressive ML to </span>\n",
              "<span style=\"color: #008000; text-decoration-color: #008000\">emulate CAMs -- opening up new\\nkm-scale frontiers for regional ML weather prediction and future climate </span>\n",
              "<span style=\"color: #008000; text-decoration-color: #008000\">hazard\\ndynamical downscaling.\"</span>\n",
              "<span style=\"color: #76b900; text-decoration-color: #76b900; font-weight: bold\">}</span>\n",
              "</pre>\n"
            ],
            "text/plain": [
              "\u001b[1;38;2;118;185;0m{\u001b[0m\n",
              "\u001b[1;38;2;118;185;0m    \u001b[0m\u001b[32m'Published'\u001b[0m\u001b[1;38;2;118;185;0m: \u001b[0m\u001b[32m'2024-08-20'\u001b[0m\u001b[1;38;2;118;185;0m,\u001b[0m\n",
              "\u001b[1;38;2;118;185;0m    \u001b[0m\u001b[32m'Title'\u001b[0m\u001b[1;38;2;118;185;0m: \u001b[0m\u001b[32m'Kilometer-Scale Convection Allowing Model Emulation using Generative Diffusion Modeling'\u001b[0m\u001b[1;38;2;118;185;0m,\u001b[0m\n",
              "\u001b[1;38;2;118;185;0m    \u001b[0m\u001b[32m'Authors'\u001b[0m\u001b[1;38;2;118;185;0m: \u001b[0m\u001b[32m'Jaideep Pathak, Yair Cohen, Piyush Garg, Peter Harrington, Noah Brenowitz, Dale Durran, Morteza \u001b[0m\n",
              "\u001b[32mMardani, Arash Vahdat, Shaoming Xu, Karthik Kashinath, Michael Pritchard'\u001b[0m\u001b[1;38;2;118;185;0m,\u001b[0m\n",
              "\u001b[1;38;2;118;185;0m    \u001b[0m\u001b[32m'Summary'\u001b[0m\u001b[1;38;2;118;185;0m: \u001b[0m\u001b[32m\"Storm-scale convection-allowing models \u001b[0m\u001b[32m(\u001b[0m\u001b[32mCAMs\u001b[0m\u001b[32m)\u001b[0m\u001b[32m are an important tool for\\npredicting the evolution \u001b[0m\n",
              "\u001b[32mof thunderstorms and mesoscale convective systems that\\nresult in damaging extreme weather. By explicitly resolving\u001b[0m\n",
              "\u001b[32mconvective dynamics\\nwithin the atmosphere they afford meteorologists the nuance needed to provide\\noutlook on \u001b[0m\n",
              "\u001b[32mhazard. Deep learning models have thus far not proven skilful at\\nkm-scale atmospheric simulation, despite being \u001b[0m\n",
              "\u001b[32mcompetitive at coarser\\nresolution with state-of-the-art global, medium-range weather forecasting. We\\npresent a \u001b[0m\n",
              "\u001b[32mgenerative diffusion model called StormCast, which emulates the\\nhigh-resolution rapid refresh \u001b[0m\u001b[32m(\u001b[0m\u001b[32mHRRR\u001b[0m\u001b[32m)\u001b[0m\u001b[32m model-NOAA's \u001b[0m\n",
              "\u001b[32mstate-of-the-art 3km\\noperational CAM. StormCast autoregressively predicts 99 state variables at km\\nscale using a \u001b[0m\n",
              "\u001b[32m1-hour time step, with dense vertical resolution in the\\natmospheric boundary layer, conditioned on 26 synoptic \u001b[0m\n",
              "\u001b[32mvariables. We present\\nevidence of successfully learnt km-scale dynamics including competitive 1-6\\nhour forecast \u001b[0m\n",
              "\u001b[32mskill for composite radar reflectivity alongside physically\\nrealistic convective cluster evolution, moist \u001b[0m\n",
              "\u001b[32mupdrafts, and cold pool\\nmorphology. StormCast predictions maintain realistic power spectra for multiple\\npredicted\u001b[0m\n",
              "\u001b[32mvariables across multi-hour forecasts. Together, these results\\nestablish the potential for autoregressive ML to \u001b[0m\n",
              "\u001b[32memulate CAMs -- opening up new\\nkm-scale frontiers for regional ML weather prediction and future climate \u001b[0m\n",
              "\u001b[32mhazard\\ndynamical downscaling.\"\u001b[0m\n",
              "\u001b[1;38;2;118;185;0m}\u001b[0m\n"
            ]
          },
          "metadata": {},
          "output_type": "display_data"
        },
        {
          "name": "stdout",
          "output_type": "stream",
          "text": [
            "\n",
            "Document 10\n",
            " - # Chunks: 55\n",
            " - Metadata: \n"
          ]
        },
        {
          "data": {
            "text/html": [
              "<pre style=\"white-space:pre;overflow-x:auto;line-height:normal;font-family:Menlo,'DejaVu Sans Mono',consolas,'Courier New',monospace\"><span style=\"color: #76b900; text-decoration-color: #76b900; font-weight: bold\">{</span>\n",
              "<span style=\"color: #76b900; text-decoration-color: #76b900; font-weight: bold\">    </span><span style=\"color: #008000; text-decoration-color: #008000\">'Published'</span><span style=\"color: #76b900; text-decoration-color: #76b900; font-weight: bold\">: </span><span style=\"color: #008000; text-decoration-color: #008000\">'2024-08-26'</span><span style=\"color: #76b900; text-decoration-color: #76b900; font-weight: bold\">,</span>\n",
              "<span style=\"color: #76b900; text-decoration-color: #76b900; font-weight: bold\">    </span><span style=\"color: #008000; text-decoration-color: #008000\">'Title'</span><span style=\"color: #76b900; text-decoration-color: #76b900; font-weight: bold\">: </span><span style=\"color: #008000; text-decoration-color: #008000\">'Decision-Focused Learning to Predict Action Costs for Planning'</span><span style=\"color: #76b900; text-decoration-color: #76b900; font-weight: bold\">,</span>\n",
              "<span style=\"color: #76b900; text-decoration-color: #76b900; font-weight: bold\">    </span><span style=\"color: #008000; text-decoration-color: #008000\">'Authors'</span><span style=\"color: #76b900; text-decoration-color: #76b900; font-weight: bold\">: </span><span style=\"color: #008000; text-decoration-color: #008000\">'Jayanta Mandi, Marco Foschini, Daniel Holler, Sylvie Thiebaux, Jorg Hoffmann, Tias Guns'</span><span style=\"color: #76b900; text-decoration-color: #76b900; font-weight: bold\">,</span>\n",
              "<span style=\"color: #76b900; text-decoration-color: #76b900; font-weight: bold\">    </span><span style=\"color: #008000; text-decoration-color: #008000\">'Summary'</span><span style=\"color: #76b900; text-decoration-color: #76b900; font-weight: bold\">: </span><span style=\"color: #008000; text-decoration-color: #008000\">'In many automated planning applications, action costs can be hard to specify.\\nAn example is the </span>\n",
              "<span style=\"color: #008000; text-decoration-color: #008000\">time needed to travel through a certain road segment, which\\ndepends on many factors, such as the current weather </span>\n",
              "<span style=\"color: #008000; text-decoration-color: #008000\">conditions. A natural way\\nto address this issue is to learn to predict these parameters based on input\\nfeatures </span>\n",
              "<span style=\"color: #008000; text-decoration-color: #008000\">(e.g., weather forecasts) and use the predicted action costs in\\nautomated planning afterward. Decision-Focused </span>\n",
              "<span style=\"color: #008000; text-decoration-color: #008000\">Learning (DFL) has been\\nsuccessful in learning to predict the parameters of combinatorial optimization\\nproblems </span>\n",
              "<span style=\"color: #008000; text-decoration-color: #008000\">in a way that optimizes solution quality rather than prediction\\nquality. This approach yields better results than </span>\n",
              "<span style=\"color: #008000; text-decoration-color: #008000\">treating prediction and\\noptimization as separate tasks. In this paper, we investigate for the first\\ntime the </span>\n",
              "<span style=\"color: #008000; text-decoration-color: #008000\">challenges of implementing DFL for automated planning in order to\\nlearn to predict the action costs. There are two</span>\n",
              "<span style=\"color: #008000; text-decoration-color: #008000\">main challenges to overcome:\\n(1) planning systems are called during gradient descent learning, to solve\\nplanning </span>\n",
              "<span style=\"color: #008000; text-decoration-color: #008000\">problems with negative action costs, which are not supported in\\nplanning. We propose novel methods for gradient </span>\n",
              "<span style=\"color: #008000; text-decoration-color: #008000\">computation to avoid this\\nissue. (2) DFL requires repeated planner calls during training, which can limit\\nthe </span>\n",
              "<span style=\"color: #008000; text-decoration-color: #008000\">scalability of the method. We experiment with different methods\\napproximating the optimal plan as well as an </span>\n",
              "<span style=\"color: #008000; text-decoration-color: #008000\">easy-to-implement caching\\nmechanism to speed up the learning process. As the first work that addresses\\nDFL for </span>\n",
              "<span style=\"color: #008000; text-decoration-color: #008000\">automated planning, we demonstrate that the proposed gradient\\ncomputation consistently yields significantly better</span>\n",
              "<span style=\"color: #008000; text-decoration-color: #008000\">plans than predictions\\naimed at minimizing prediction error; and that caching can temper the\\ncomputation </span>\n",
              "<span style=\"color: #008000; text-decoration-color: #008000\">requirements.'</span>\n",
              "<span style=\"color: #76b900; text-decoration-color: #76b900; font-weight: bold\">}</span>\n",
              "</pre>\n"
            ],
            "text/plain": [
              "\u001b[1;38;2;118;185;0m{\u001b[0m\n",
              "\u001b[1;38;2;118;185;0m    \u001b[0m\u001b[32m'Published'\u001b[0m\u001b[1;38;2;118;185;0m: \u001b[0m\u001b[32m'2024-08-26'\u001b[0m\u001b[1;38;2;118;185;0m,\u001b[0m\n",
              "\u001b[1;38;2;118;185;0m    \u001b[0m\u001b[32m'Title'\u001b[0m\u001b[1;38;2;118;185;0m: \u001b[0m\u001b[32m'Decision-Focused Learning to Predict Action Costs for Planning'\u001b[0m\u001b[1;38;2;118;185;0m,\u001b[0m\n",
              "\u001b[1;38;2;118;185;0m    \u001b[0m\u001b[32m'Authors'\u001b[0m\u001b[1;38;2;118;185;0m: \u001b[0m\u001b[32m'Jayanta Mandi, Marco Foschini, Daniel Holler, Sylvie Thiebaux, Jorg Hoffmann, Tias Guns'\u001b[0m\u001b[1;38;2;118;185;0m,\u001b[0m\n",
              "\u001b[1;38;2;118;185;0m    \u001b[0m\u001b[32m'Summary'\u001b[0m\u001b[1;38;2;118;185;0m: \u001b[0m\u001b[32m'In many automated planning applications, action costs can be hard to specify.\\nAn example is the \u001b[0m\n",
              "\u001b[32mtime needed to travel through a certain road segment, which\\ndepends on many factors, such as the current weather \u001b[0m\n",
              "\u001b[32mconditions. A natural way\\nto address this issue is to learn to predict these parameters based on input\\nfeatures \u001b[0m\n",
              "\u001b[32m(\u001b[0m\u001b[32me.g., weather forecasts\u001b[0m\u001b[32m)\u001b[0m\u001b[32m and use the predicted action costs in\\nautomated planning afterward. Decision-Focused \u001b[0m\n",
              "\u001b[32mLearning \u001b[0m\u001b[32m(\u001b[0m\u001b[32mDFL\u001b[0m\u001b[32m)\u001b[0m\u001b[32m has been\\nsuccessful in learning to predict the parameters of combinatorial optimization\\nproblems \u001b[0m\n",
              "\u001b[32min a way that optimizes solution quality rather than prediction\\nquality. This approach yields better results than \u001b[0m\n",
              "\u001b[32mtreating prediction and\\noptimization as separate tasks. In this paper, we investigate for the first\\ntime the \u001b[0m\n",
              "\u001b[32mchallenges of implementing DFL for automated planning in order to\\nlearn to predict the action costs. There are two\u001b[0m\n",
              "\u001b[32mmain challenges to overcome:\\n\u001b[0m\u001b[32m(\u001b[0m\u001b[32m1\u001b[0m\u001b[32m)\u001b[0m\u001b[32m planning systems are called during gradient descent learning, to solve\\nplanning \u001b[0m\n",
              "\u001b[32mproblems with negative action costs, which are not supported in\\nplanning. We propose novel methods for gradient \u001b[0m\n",
              "\u001b[32mcomputation to avoid this\\nissue. \u001b[0m\u001b[32m(\u001b[0m\u001b[32m2\u001b[0m\u001b[32m)\u001b[0m\u001b[32m DFL requires repeated planner calls during training, which can limit\\nthe \u001b[0m\n",
              "\u001b[32mscalability of the method. We experiment with different methods\\napproximating the optimal plan as well as an \u001b[0m\n",
              "\u001b[32measy-to-implement caching\\nmechanism to speed up the learning process. As the first work that addresses\\nDFL for \u001b[0m\n",
              "\u001b[32mautomated planning, we demonstrate that the proposed gradient\\ncomputation consistently yields significantly better\u001b[0m\n",
              "\u001b[32mplans than predictions\\naimed at minimizing prediction error; and that caching can temper the\\ncomputation \u001b[0m\n",
              "\u001b[32mrequirements.'\u001b[0m\n",
              "\u001b[1;38;2;118;185;0m}\u001b[0m\n"
            ]
          },
          "metadata": {},
          "output_type": "display_data"
        },
        {
          "name": "stdout",
          "output_type": "stream",
          "text": [
            "\n"
          ]
        }
      ],
      "source": [
        "import json\n",
        "from langchain_nvidia_ai_endpoints import ChatNVIDIA, NVIDIAEmbeddings\n",
        "\n",
        "from langchain_community.vectorstores import FAISS\n",
        "from langchain.text_splitter import RecursiveCharacterTextSplitter\n",
        "from langchain.document_loaders import ArxivLoader\n",
        "\n",
        "text_splitter = RecursiveCharacterTextSplitter(\n",
        "    chunk_size=1000, chunk_overlap=100,\n",
        "    separators=[\"\\n\\n\", \"\\n\", \".\", \";\", \",\", \" \"],\n",
        ")\n",
        "\n",
        "## TODO: Please pick some papers and add them to the list as you'd like\n",
        "## NOTE: To re-use for the final assessment, make sure at least one paper is < 1 month old\n",
        "print(\"Loading Documents\")\n",
        "docs = [\n",
        "    ArxivLoader(query=\"1706.03762\").load(),  ## Attention Is All You Need Paper\n",
        "    ArxivLoader(query=\"1810.04805\").load(),  ## BERT Paper\n",
        "    ArxivLoader(query=\"2005.11401\").load(),  ## RAG Paper\n",
        "    ArxivLoader(query=\"2205.00445\").load(),  ## MRKL Paper\n",
        "    ArxivLoader(query=\"2310.06825\").load(),  ## Mistral Paper\n",
        "    ArxivLoader(query=\"2306.05685\").load(),  ## LLM-as-a-Judge\n",
        "    ArxivLoader(query=\"2408.15997\").load(),  ##\n",
        "    ArxivLoader(query=\"2406.20080\").load(),  ##\n",
        "    ArxivLoader(query=\"2408.13155\").load(),  ##\n",
        "    ArxivLoader(query=\"2408.10958\").load(),  ##\n",
        "    ArxivLoader(query=\"2408.06876\").load(),  ##\n",
        "\n",
        "    ## Some longer papers\n",
        "    # ArxivLoader(query=\"2210.03629\").load(),  ## ReAct Paper\n",
        "    # ArxivLoader(query=\"2112.10752\").load(),  ## Latent Stable Diffusion Paper\n",
        "    # ArxivLoader(query=\"2103.00020\").load(),  ## CLIP Paper\n",
        "    ## TODO: Feel free to add more\n",
        "]\n",
        "\n",
        "## Cut the paper short if references is included.\n",
        "## This is a standard string in papers.\n",
        "for doc in docs:\n",
        "    content = json.dumps(doc[0].page_content)\n",
        "    if \"References\" in content:\n",
        "        doc[0].page_content = content[:content.index(\"References\")]\n",
        "\n",
        "## Split the documents and also filter out stubs (overly short chunks)\n",
        "print(\"Chunking Documents\")\n",
        "docs_chunks = [text_splitter.split_documents(doc) for doc in docs]\n",
        "docs_chunks = [[c for c in dchunks if len(c.page_content) > 200] for dchunks in docs_chunks]\n",
        "\n",
        "## Make some custom Chunks to give big-picture details\n",
        "doc_string = \"Available Documents:\"\n",
        "doc_metadata = []\n",
        "for chunks in docs_chunks:\n",
        "    metadata = getattr(chunks[0], 'metadata', {})\n",
        "    doc_string += \"\\n - \" + metadata.get('Title')\n",
        "    doc_metadata += [str(metadata)]\n",
        "\n",
        "extra_chunks = [doc_string] + doc_metadata\n",
        "\n",
        "## Printing out some summary information for reference\n",
        "pprint(doc_string, '\\n')\n",
        "for i, chunks in enumerate(docs_chunks):\n",
        "    print(f\"Document {i}\")\n",
        "    print(f\" - # Chunks: {len(chunks)}\")\n",
        "    print(f\" - Metadata: \")\n",
        "    pprint(chunks[0].metadata)\n",
        "    print()"
      ]
    },
    {
      "cell_type": "markdown",
      "id": "4pWU_OOnnrsT",
      "metadata": {
        "id": "4pWU_OOnnrsT"
      },
      "source": [
        "<br>\n",
        "\n",
        "### **Task 2**: Construct Your Document Vector Stores\n",
        "\n",
        "Now that we have all of the components, we can go ahead and create indices surrounding them:"
      ]
    },
    {
      "cell_type": "code",
      "execution_count": null,
      "id": "lwwmr3aptwCg",
      "metadata": {
        "id": "lwwmr3aptwCg",
        "outputId": "38b4118d-6997-4904-cbee-a3a59ff01919"
      },
      "outputs": [
        {
          "name": "stdout",
          "output_type": "stream",
          "text": [
            "Constructing Vector Stores\n",
            "CPU times: user 1.62 s, sys: 94.8 ms, total: 1.72 s\n",
            "Wall time: 1min 7s\n"
          ]
        }
      ],
      "source": [
        "%%time\n",
        "print(\"Constructing Vector Stores\")\n",
        "vecstores = [FAISS.from_texts(extra_chunks, embedder)]\n",
        "vecstores += [FAISS.from_documents(doc_chunks, embedder) for doc_chunks in docs_chunks]"
      ]
    },
    {
      "cell_type": "markdown",
      "id": "j39JwCKubto0",
      "metadata": {
        "id": "j39JwCKubto0"
      },
      "source": [
        "<br>\n",
        "\n",
        "From there, we can combine our indices into a single one using the following utility:"
      ]
    },
    {
      "cell_type": "code",
      "execution_count": null,
      "id": "Q7us66iPVc70",
      "metadata": {
        "id": "Q7us66iPVc70",
        "outputId": "72eb76bd-dbab-4073-9243-5aa4d80bf995"
      },
      "outputs": [
        {
          "name": "stdout",
          "output_type": "stream",
          "text": [
            "Constructed aggregate docstore with 505 chunks\n"
          ]
        }
      ],
      "source": [
        "from faiss import IndexFlatL2\n",
        "from langchain_community.docstore.in_memory import InMemoryDocstore\n",
        "\n",
        "embed_dims = len(embedder.embed_query(\"test\"))\n",
        "def default_FAISS():\n",
        "    '''Useful utility for making an empty FAISS vectorstore'''\n",
        "    return FAISS(\n",
        "        embedding_function=embedder,\n",
        "        index=IndexFlatL2(embed_dims),\n",
        "        docstore=InMemoryDocstore(),\n",
        "        index_to_docstore_id={},\n",
        "        normalize_L2=False\n",
        "    )\n",
        "\n",
        "def aggregate_vstores(vectorstores):\n",
        "    ## Initialize an empty FAISS Index and merge others into it\n",
        "    ## We'll use default_faiss for simplicity, though it's tied to your embedder by reference\n",
        "    agg_vstore = default_FAISS()\n",
        "    for vstore in vectorstores:\n",
        "        agg_vstore.merge_from(vstore)\n",
        "    return agg_vstore\n",
        "\n",
        "## Unintuitive optimization; merge_from seems to optimize constituent vector stores away\n",
        "docstore = aggregate_vstores(vecstores)\n",
        "\n",
        "print(f\"Constructed aggregate docstore with {len(docstore.docstore._dict)} chunks\")"
      ]
    },
    {
      "cell_type": "markdown",
      "id": "VU_VEx2mqJUK",
      "metadata": {
        "id": "VU_VEx2mqJUK"
      },
      "source": [
        "<br>\n",
        "\n",
        "### **Task 3: ** Implement Your RAG Chain\n",
        "\n",
        "Finally, all the puzzle pieces are in place to implement the RAG pipeline! As a review, we now have:\n",
        "\n",
        "- A way to construct a from-scratch vector store for conversational memory (and a way to initialize an empty one with `default_FAISS()`)\n",
        "\n",
        "- A vector store pre-loaded with useful document information from our `ArxivLoader` utility (stored in `docstore`).\n",
        "\n",
        "With the help of a couple more utilities, you're finally ready to integrate your chain! A few additional convenience utilities are provided (`doc2str` and the now-common `RPrint`) but are optional to use. Additionally, some starter prompts and structures are also defined.\n",
        "\n",
        "> **Given all of this:** Please implement the `retrieval_chain`."
      ]
    },
    {
      "cell_type": "code",
      "execution_count": null,
      "id": "-RXSrb1GcNff",
      "metadata": {
        "id": "-RXSrb1GcNff",
        "outputId": "296612f0-a864-4fd6-985e-b99235ae8c12"
      },
      "outputs": [
        {
          "data": {
            "text/html": [
              "<pre style=\"white-space:pre;overflow-x:auto;line-height:normal;font-family:Menlo,'DejaVu Sans Mono',consolas,'Courier New',monospace\"><span style=\"color: #76b900; text-decoration-color: #76b900; font-weight: bold\">{</span>\n",
              "<span style=\"color: #76b900; text-decoration-color: #76b900; font-weight: bold\">    </span><span style=\"color: #008000; text-decoration-color: #008000\">'input'</span><span style=\"color: #76b900; text-decoration-color: #76b900; font-weight: bold\">: </span><span style=\"color: #008000; text-decoration-color: #008000\">'Tell me about events prediction!'</span><span style=\"color: #76b900; text-decoration-color: #76b900; font-weight: bold\">,</span>\n",
              "<span style=\"color: #76b900; text-decoration-color: #76b900; font-weight: bold\">    </span><span style=\"color: #008000; text-decoration-color: #008000\">'history'</span><span style=\"color: #76b900; text-decoration-color: #76b900; font-weight: bold\">: </span><span style=\"color: #008000; text-decoration-color: #008000\">''</span><span style=\"color: #76b900; text-decoration-color: #76b900; font-weight: bold\">,</span>\n",
              "<span style=\"color: #76b900; text-decoration-color: #76b900; font-weight: bold\">    </span><span style=\"color: #008000; text-decoration-color: #008000\">'context'</span><span style=\"color: #76b900; text-decoration-color: #76b900; font-weight: bold\">: </span><span style=\"color: #008000; text-decoration-color: #008000\">'[Quote from AI for Extreme Event Modeling and Understanding: Methodologies and Challenges] . Here, </span>\n",
              "<span style=\"color: #008000; text-decoration-color: #008000\">for example, the vegetation\\\\nresponse under extreme drought conditions is modeled as a video predic-\\\\ntion task </span>\n",
              "<span style=\"color: #008000; text-decoration-color: #008000\">of the satellite imagery while conditioning on the climate variables.\\\\nAnother common approach is to directly </span>\n",
              "<span style=\"color: #008000; text-decoration-color: #008000\">estimate an indicator that defines\\\\nthe extreme event, e.g. flood risk maps [29] or drought indices [30]. The </span>\n",
              "<span style=\"color: #008000; text-decoration-color: #008000\">esti-\\\\nmated variables can cover different lead times depending on the characteristics\\\\nof the extreme, spanning </span>\n",
              "<span style=\"color: #008000; text-decoration-color: #008000\">from short-term prediction to seasonal prediction\\\\n[31]. Recently, DL-based prediction techniques have gained </span>\n",
              "<span style=\"color: #008000; text-decoration-color: #008000\">popularity for their\\\\nability to process large data volumes, capture complex nonlinear relationships,\\\\nand reduce</span>\n",
              "<span style=\"color: #008000; text-decoration-color: #008000\">manual feature engineering. These benefits have led to the creation\\\\nof global models that generalize across </span>\n",
              "<span style=\"color: #008000; text-decoration-color: #008000\">various locations, as seen in flood [32]\\\\nand wildfire [33] predictions.\\\\nProbabilistic models, unlike </span>\n",
              "<span style=\"color: #008000; text-decoration-color: #008000\">deterministic ones, focus on predicting the\\\\nprobability distribution of future variable states\\n[Quote from AI </span>\n",
              "<span style=\"color: #008000; text-decoration-color: #008000\">for Extreme Event Modeling and Understanding: Methodologies and Challenges] . We provide an overview of how AI can </span>\n",
              "<span style=\"color: #008000; text-decoration-color: #008000\">help identify and\\\\nexplain extreme events more effectively, improving disaster response and\\\\ncommunication. We </span>\n",
              "<span style=\"color: #008000; text-decoration-color: #008000\">emphasize the need for collaboration across different\\\\nfields to create AI solutions that are practical, </span>\n",
              "<span style=\"color: #008000; text-decoration-color: #008000\">understandable, and trust-\\\\nworthy for analyzing and predicting extreme events. Such collaborative\\\\nefforts aim </span>\n",
              "<span style=\"color: #008000; text-decoration-color: #008000\">to enhance disaster readiness and disaster risk reduction.\\\\nKeywords: Artificial intelligence, extreme events, </span>\n",
              "<span style=\"color: #008000; text-decoration-color: #008000\">droughts, heatwaves,\\\\nfloods, detection, forecasting, modeling, understanding, attribution,\\\\nexplainable AI, </span>\n",
              "<span style=\"color: #008000; text-decoration-color: #008000\">causal inference, communication of risk\\\\nContents\\\\n1\\\\nIntroduction\\\\n3\\\\n2\\\\nReview of AI </span>\n",
              "<span style=\"color: #008000; text-decoration-color: #008000\">methods\\\\n4\\\\n2.1\\\\nExtreme Event Modeling . . . . . . . . . . . . . . . . . . . . . .\\\\n4\\\\n2.1.1\\\\nDetection . . </span>\n",
              "<span style=\"color: #008000; text-decoration-color: #008000\">. . . . . . . . . . . . . . . . . . . . . . . .\\\\n5\\\\n2.1.2\\\\nPrediction . . . . . . . . . . . . . . . . . . . . . </span>\n",
              "<span style=\"color: #008000; text-decoration-color: #008000\">. . . . .\\\\n6\\\\n2.1.3\\\\nImpact Assessment . . . . . . . . . . . . . . . . . . . . .\\\\n6\\\\n2\\n[Quote from AI for </span>\n",
              "<span style=\"color: #008000; text-decoration-color: #008000\">Extreme Event Modeling and Understanding: Methodologies and Challenges] . 2 Components in an AI pipeline for </span>\n",
              "<span style=\"color: #008000; text-decoration-color: #008000\">extreme events. AI mainly exploits spatio-\\\\ntemporal Earth observation, reanalysis, and climate data to answer </span>\n",
              "<span style=\"color: #008000; text-decoration-color: #008000\">\\\\u201cwhat\\\\u2019-questions (top\\\\nrow): detection of events, prediction, and impact assessment. AI can also be </span>\n",
              "<span style=\"color: #008000; text-decoration-color: #008000\">used for under-\\\\nstanding events and thus answer \\\\u201cwhat if,\\\\u201d \\\\u201cwhy,\\\\u201d and \\\\u201chow </span>\n",
              "<span style=\"color: #008000; text-decoration-color: #008000\">sure\\\\u201d questions (middle row)\\\\nand makes use of explainable AI (XAI) to identify relevant drivers of events, </span>\n",
              "<span style=\"color: #008000; text-decoration-color: #008000\">causality to\\\\nunderstanding the system, estimate causal effects and impacts, and imagine counterfac-\\\\ntual </span>\n",
              "<span style=\"color: #008000; text-decoration-color: #008000\">scenarios for attribution and uncertainty estimation to quantify trust and robustness\\\\nfor decision-making. </span>\n",
              "<span style=\"color: #008000; text-decoration-color: #008000\">Communicating extreme events and their impacts can benefit from\\\\nstatistical/machine learning (bottom row) by </span>\n",
              "<span style=\"color: #008000; text-decoration-color: #008000\">improving operationalization, ensuring fair\\\\nand equitable narratives, and integrating language models in </span>\n",
              "<span style=\"color: #008000; text-decoration-color: #008000\">situation rooms for enhanced\\\\ndecision-making\\n[Quote from AI for Extreme Event Modeling and Understanding: </span>\n",
              "<span style=\"color: #008000; text-decoration-color: #008000\">Methodologies and Challenges] .\\\\nAlternative probabilistic (ML) models have relied on surrogate </span>\n",
              "<span style=\"color: #008000; text-decoration-color: #008000\">meteorological\\\\nand hydrological seasonal re-forecasts [24], Gaussian processes and nonlinear\\\\ndependence </span>\n",
              "<span style=\"color: #008000; text-decoration-color: #008000\">measures [25] and multivariate Gaussianization [26].\\\\n2.1.2 Prediction\\\\nDesigning predictive systems that </span>\n",
              "<span style=\"color: #008000; text-decoration-color: #008000\">accurately model extreme events is essen-\\\\ntial to anticipating the effects of future extreme events and providing</span>\n",
              "<span style=\"color: #008000; text-decoration-color: #008000\">critical\\\\ninformation for decision-makers to prevent damages. Spatial and temporal\\\\npredictions aim to provide a </span>\n",
              "<span style=\"color: #008000; text-decoration-color: #008000\">quantitative estimate of the future value of the\\\\nEarth\\\\u2019s state (Table 1).\\\\nMany ML algorithms have been </span>\n",
              "<span style=\"color: #008000; text-decoration-color: #008000\">proposed for deterministic extreme event\\\\nprediction, but most are only applied to small regions and specific use </span>\n",
              "<span style=\"color: #008000; text-decoration-color: #008000\">cases,\\\\nthough. Prediction can be performed using climate variables alone [27] or\\\\nin combination with satellite </span>\n",
              "<span style=\"color: #008000; text-decoration-color: #008000\">imagery [28]\\n'</span>\n",
              "<span style=\"color: #76b900; text-decoration-color: #76b900; font-weight: bold\">}</span>\n",
              "</pre>\n"
            ],
            "text/plain": [
              "\u001b[1;38;2;118;185;0m{\u001b[0m\n",
              "\u001b[1;38;2;118;185;0m    \u001b[0m\u001b[32m'input'\u001b[0m\u001b[1;38;2;118;185;0m: \u001b[0m\u001b[32m'Tell me about events prediction!'\u001b[0m\u001b[1;38;2;118;185;0m,\u001b[0m\n",
              "\u001b[1;38;2;118;185;0m    \u001b[0m\u001b[32m'history'\u001b[0m\u001b[1;38;2;118;185;0m: \u001b[0m\u001b[32m''\u001b[0m\u001b[1;38;2;118;185;0m,\u001b[0m\n",
              "\u001b[1;38;2;118;185;0m    \u001b[0m\u001b[32m'context'\u001b[0m\u001b[1;38;2;118;185;0m: \u001b[0m\u001b[32m'\u001b[0m\u001b[32m[\u001b[0m\u001b[32mQuote from AI for Extreme Event Modeling and Understanding: Methodologies and Challenges\u001b[0m\u001b[32m]\u001b[0m\u001b[32m . Here, \u001b[0m\n",
              "\u001b[32mfor example, the vegetation\\\\nresponse under extreme drought conditions is modeled as a video predic-\\\\ntion task \u001b[0m\n",
              "\u001b[32mof the satellite imagery while conditioning on the climate variables.\\\\nAnother common approach is to directly \u001b[0m\n",
              "\u001b[32mestimate an indicator that defines\\\\nthe extreme event, e.g. flood risk maps \u001b[0m\u001b[32m[\u001b[0m\u001b[32m29\u001b[0m\u001b[32m]\u001b[0m\u001b[32m or drought indices \u001b[0m\u001b[32m[\u001b[0m\u001b[32m30\u001b[0m\u001b[32m]\u001b[0m\u001b[32m. The \u001b[0m\n",
              "\u001b[32mesti-\\\\nmated variables can cover different lead times depending on the characteristics\\\\nof the extreme, spanning \u001b[0m\n",
              "\u001b[32mfrom short-term prediction to seasonal prediction\\\\n\u001b[0m\u001b[32m[\u001b[0m\u001b[32m31\u001b[0m\u001b[32m]\u001b[0m\u001b[32m. Recently, DL-based prediction techniques have gained \u001b[0m\n",
              "\u001b[32mpopularity for their\\\\nability to process large data volumes, capture complex nonlinear relationships,\\\\nand reduce\u001b[0m\n",
              "\u001b[32mmanual feature engineering. These benefits have led to the creation\\\\nof global models that generalize across \u001b[0m\n",
              "\u001b[32mvarious locations, as seen in flood \u001b[0m\u001b[32m[\u001b[0m\u001b[32m32\u001b[0m\u001b[32m]\u001b[0m\u001b[32m\\\\nand wildfire \u001b[0m\u001b[32m[\u001b[0m\u001b[32m33\u001b[0m\u001b[32m]\u001b[0m\u001b[32m predictions.\\\\nProbabilistic models, unlike \u001b[0m\n",
              "\u001b[32mdeterministic ones, focus on predicting the\\\\nprobability distribution of future variable states\\n\u001b[0m\u001b[32m[\u001b[0m\u001b[32mQuote from AI \u001b[0m\n",
              "\u001b[32mfor Extreme Event Modeling and Understanding: Methodologies and Challenges\u001b[0m\u001b[32m]\u001b[0m\u001b[32m . We provide an overview of how AI can \u001b[0m\n",
              "\u001b[32mhelp identify and\\\\nexplain extreme events more effectively, improving disaster response and\\\\ncommunication. We \u001b[0m\n",
              "\u001b[32memphasize the need for collaboration across different\\\\nfields to create AI solutions that are practical, \u001b[0m\n",
              "\u001b[32munderstandable, and trust-\\\\nworthy for analyzing and predicting extreme events. Such collaborative\\\\nefforts aim \u001b[0m\n",
              "\u001b[32mto enhance disaster readiness and disaster risk reduction.\\\\nKeywords: Artificial intelligence, extreme events, \u001b[0m\n",
              "\u001b[32mdroughts, heatwaves,\\\\nfloods, detection, forecasting, modeling, understanding, attribution,\\\\nexplainable AI, \u001b[0m\n",
              "\u001b[32mcausal inference, communication of risk\\\\nContents\\\\n1\\\\nIntroduction\\\\n3\\\\n2\\\\nReview of AI \u001b[0m\n",
              "\u001b[32mmethods\\\\n4\\\\n2.1\\\\nExtreme Event Modeling . . . . . . . . . . . . . . . . . . . . . .\\\\n4\\\\n2.1.1\\\\nDetection . . \u001b[0m\n",
              "\u001b[32m. . . . . . . . . . . . . . . . . . . . . . . .\\\\n5\\\\n2.1.2\\\\nPrediction . . . . . . . . . . . . . . . . . . . . . \u001b[0m\n",
              "\u001b[32m. . . . .\\\\n6\\\\n2.1.3\\\\nImpact Assessment . . . . . . . . . . . . . . . . . . . . .\\\\n6\\\\n2\\n\u001b[0m\u001b[32m[\u001b[0m\u001b[32mQuote from AI for \u001b[0m\n",
              "\u001b[32mExtreme Event Modeling and Understanding: Methodologies and Challenges\u001b[0m\u001b[32m]\u001b[0m\u001b[32m . 2 Components in an AI pipeline for \u001b[0m\n",
              "\u001b[32mextreme events. AI mainly exploits spatio-\\\\ntemporal Earth observation, reanalysis, and climate data to answer \u001b[0m\n",
              "\u001b[32m\\\\u201cwhat\\\\u2019-questions \u001b[0m\u001b[32m(\u001b[0m\u001b[32mtop\\\\nrow\u001b[0m\u001b[32m)\u001b[0m\u001b[32m: detection of events, prediction, and impact assessment. AI can also be \u001b[0m\n",
              "\u001b[32mused for under-\\\\nstanding events and thus answer \\\\u201cwhat if,\\\\u201d \\\\u201cwhy,\\\\u201d and \\\\u201chow \u001b[0m\n",
              "\u001b[32msure\\\\u201d questions \u001b[0m\u001b[32m(\u001b[0m\u001b[32mmiddle row\u001b[0m\u001b[32m)\u001b[0m\u001b[32m\\\\nand makes use of explainable AI \u001b[0m\u001b[32m(\u001b[0m\u001b[32mXAI\u001b[0m\u001b[32m)\u001b[0m\u001b[32m to identify relevant drivers of events, \u001b[0m\n",
              "\u001b[32mcausality to\\\\nunderstanding the system, estimate causal effects and impacts, and imagine counterfac-\\\\ntual \u001b[0m\n",
              "\u001b[32mscenarios for attribution and uncertainty estimation to quantify trust and robustness\\\\nfor decision-making. \u001b[0m\n",
              "\u001b[32mCommunicating extreme events and their impacts can benefit from\\\\nstatistical/machine learning \u001b[0m\u001b[32m(\u001b[0m\u001b[32mbottom row\u001b[0m\u001b[32m)\u001b[0m\u001b[32m by \u001b[0m\n",
              "\u001b[32mimproving operationalization, ensuring fair\\\\nand equitable narratives, and integrating language models in \u001b[0m\n",
              "\u001b[32msituation rooms for enhanced\\\\ndecision-making\\n\u001b[0m\u001b[32m[\u001b[0m\u001b[32mQuote from AI for Extreme Event Modeling and Understanding: \u001b[0m\n",
              "\u001b[32mMethodologies and Challenges\u001b[0m\u001b[32m]\u001b[0m\u001b[32m .\\\\nAlternative probabilistic \u001b[0m\u001b[32m(\u001b[0m\u001b[32mML\u001b[0m\u001b[32m)\u001b[0m\u001b[32m models have relied on surrogate \u001b[0m\n",
              "\u001b[32mmeteorological\\\\nand hydrological seasonal re-forecasts \u001b[0m\u001b[32m[\u001b[0m\u001b[32m24\u001b[0m\u001b[32m]\u001b[0m\u001b[32m, Gaussian processes and nonlinear\\\\ndependence \u001b[0m\n",
              "\u001b[32mmeasures \u001b[0m\u001b[32m[\u001b[0m\u001b[32m25\u001b[0m\u001b[32m]\u001b[0m\u001b[32m and multivariate Gaussianization \u001b[0m\u001b[32m[\u001b[0m\u001b[32m26\u001b[0m\u001b[32m]\u001b[0m\u001b[32m.\\\\n2.1.2 Prediction\\\\nDesigning predictive systems that \u001b[0m\n",
              "\u001b[32maccurately model extreme events is essen-\\\\ntial to anticipating the effects of future extreme events and providing\u001b[0m\n",
              "\u001b[32mcritical\\\\ninformation for decision-makers to prevent damages. Spatial and temporal\\\\npredictions aim to provide a \u001b[0m\n",
              "\u001b[32mquantitative estimate of the future value of the\\\\nEarth\\\\u2019s state \u001b[0m\u001b[32m(\u001b[0m\u001b[32mTable 1\u001b[0m\u001b[32m)\u001b[0m\u001b[32m.\\\\nMany ML algorithms have been \u001b[0m\n",
              "\u001b[32mproposed for deterministic extreme event\\\\nprediction, but most are only applied to small regions and specific use \u001b[0m\n",
              "\u001b[32mcases,\\\\nthough. Prediction can be performed using climate variables alone \u001b[0m\u001b[32m[\u001b[0m\u001b[32m27\u001b[0m\u001b[32m]\u001b[0m\u001b[32m or\\\\nin combination with satellite \u001b[0m\n",
              "\u001b[32mimagery \u001b[0m\u001b[32m[\u001b[0m\u001b[32m28\u001b[0m\u001b[32m]\u001b[0m\u001b[32m\\n'\u001b[0m\n",
              "\u001b[1;38;2;118;185;0m}\u001b[0m\n"
            ]
          },
          "metadata": {},
          "output_type": "display_data"
        },
        {
          "data": {
            "text/html": [
              "<pre style=\"white-space:pre;overflow-x:auto;line-height:normal;font-family:Menlo,'DejaVu Sans Mono',consolas,'Courier New',monospace\"><span style=\"color: #800080; text-decoration-color: #800080; font-weight: bold\">ChatPromptValue</span><span style=\"color: #76b900; text-decoration-color: #76b900; font-weight: bold\">(</span>\n",
              "<span style=\"color: #76b900; text-decoration-color: #76b900; font-weight: bold\">    </span><span style=\"color: #808000; text-decoration-color: #808000; font-weight: bold\">messages</span><span style=\"color: #76b900; text-decoration-color: #76b900; font-weight: bold\">=[</span>\n",
              "<span style=\"color: #76b900; text-decoration-color: #76b900; font-weight: bold\">        </span><span style=\"color: #800080; text-decoration-color: #800080; font-weight: bold\">SystemMessage</span><span style=\"color: #76b900; text-decoration-color: #76b900; font-weight: bold\">(</span>\n",
              "<span style=\"color: #76b900; text-decoration-color: #76b900; font-weight: bold\">            </span><span style=\"color: #808000; text-decoration-color: #808000; font-weight: bold\">content</span><span style=\"color: #76b900; text-decoration-color: #76b900; font-weight: bold\">=</span><span style=\"color: #008000; text-decoration-color: #008000\">'You are a document chatbot. Help the user as they ask questions about documents. User messaged</span>\n",
              "<span style=\"color: #008000; text-decoration-color: #008000\">just asked: Tell me about events prediction!\\n\\n From this, we have retrieved the following potentially-useful </span>\n",
              "<span style=\"color: #008000; text-decoration-color: #008000\">info:  Conversation History Retrieval:\\n\\n\\n Document Retrieval:\\n[Quote from AI for Extreme Event Modeling and </span>\n",
              "<span style=\"color: #008000; text-decoration-color: #008000\">Understanding: Methodologies and Challenges] . Here, for example, the vegetation\\\\nresponse under extreme drought </span>\n",
              "<span style=\"color: #008000; text-decoration-color: #008000\">conditions is modeled as a video predic-\\\\ntion task of the satellite imagery while conditioning on the climate </span>\n",
              "<span style=\"color: #008000; text-decoration-color: #008000\">variables.\\\\nAnother common approach is to directly estimate an indicator that defines\\\\nthe extreme event, e.g. </span>\n",
              "<span style=\"color: #008000; text-decoration-color: #008000\">flood risk maps [29] or drought indices [30]. The esti-\\\\nmated variables can cover different lead times depending </span>\n",
              "<span style=\"color: #008000; text-decoration-color: #008000\">on the characteristics\\\\nof the extreme, spanning from short-term prediction to seasonal prediction\\\\n[31]. </span>\n",
              "<span style=\"color: #008000; text-decoration-color: #008000\">Recently, DL-based prediction techniques have gained popularity for their\\\\nability to process large data volumes, </span>\n",
              "<span style=\"color: #008000; text-decoration-color: #008000\">capture complex nonlinear relationships,\\\\nand reduce manual feature engineering. These benefits have led to the </span>\n",
              "<span style=\"color: #008000; text-decoration-color: #008000\">creation\\\\nof global models that generalize across various locations, as seen in flood [32]\\\\nand wildfire [33] </span>\n",
              "<span style=\"color: #008000; text-decoration-color: #008000\">predictions.\\\\nProbabilistic models, unlike deterministic ones, focus on predicting the\\\\nprobability distribution </span>\n",
              "<span style=\"color: #008000; text-decoration-color: #008000\">of future variable states\\n[Quote from AI for Extreme Event Modeling and Understanding: Methodologies and </span>\n",
              "<span style=\"color: #008000; text-decoration-color: #008000\">Challenges] . We provide an overview of how AI can help identify and\\\\nexplain extreme events more effectively, </span>\n",
              "<span style=\"color: #008000; text-decoration-color: #008000\">improving disaster response and\\\\ncommunication. We emphasize the need for collaboration across different\\\\nfields </span>\n",
              "<span style=\"color: #008000; text-decoration-color: #008000\">to create AI solutions that are practical, understandable, and trust-\\\\nworthy for analyzing and predicting extreme</span>\n",
              "<span style=\"color: #008000; text-decoration-color: #008000\">events. Such collaborative\\\\nefforts aim to enhance disaster readiness and disaster risk reduction.\\\\nKeywords: </span>\n",
              "<span style=\"color: #008000; text-decoration-color: #008000\">Artificial intelligence, extreme events, droughts, heatwaves,\\\\nfloods, detection, forecasting, modeling, </span>\n",
              "<span style=\"color: #008000; text-decoration-color: #008000\">understanding, attribution,\\\\nexplainable AI, causal inference, communication of </span>\n",
              "<span style=\"color: #008000; text-decoration-color: #008000\">risk\\\\nContents\\\\n1\\\\nIntroduction\\\\n3\\\\n2\\\\nReview of AI methods\\\\n4\\\\n2.1\\\\nExtreme Event Modeling . . . . . . . </span>\n",
              "<span style=\"color: #008000; text-decoration-color: #008000\">. . . . . . . . . . . . . . .\\\\n4\\\\n2.1.1\\\\nDetection . . . . . . . . . . . . . . . . . . . . . . . . . </span>\n",
              "<span style=\"color: #008000; text-decoration-color: #008000\">.\\\\n5\\\\n2.1.2\\\\nPrediction . . . . . . . . . . . . . . . . . . . . . . . . . .\\\\n6\\\\n2.1.3\\\\nImpact Assessment . . </span>\n",
              "<span style=\"color: #008000; text-decoration-color: #008000\">. . . . . . . . . . . . . . . . . . .\\\\n6\\\\n2\\n[Quote from AI for Extreme Event Modeling and Understanding: </span>\n",
              "<span style=\"color: #008000; text-decoration-color: #008000\">Methodologies and Challenges] . 2 Components in an AI pipeline for extreme events. AI mainly exploits </span>\n",
              "<span style=\"color: #008000; text-decoration-color: #008000\">spatio-\\\\ntemporal Earth observation, reanalysis, and climate data to answer \\\\u201cwhat\\\\u2019-questions </span>\n",
              "<span style=\"color: #008000; text-decoration-color: #008000\">(top\\\\nrow): detection of events, prediction, and impact assessment. AI can also be used for under-\\\\nstanding </span>\n",
              "<span style=\"color: #008000; text-decoration-color: #008000\">events and thus answer \\\\u201cwhat if,\\\\u201d \\\\u201cwhy,\\\\u201d and \\\\u201chow sure\\\\u201d questions (middle </span>\n",
              "<span style=\"color: #008000; text-decoration-color: #008000\">row)\\\\nand makes use of explainable AI (XAI) to identify relevant drivers of events, causality to\\\\nunderstanding </span>\n",
              "<span style=\"color: #008000; text-decoration-color: #008000\">the system, estimate causal effects and impacts, and imagine counterfac-\\\\ntual scenarios for attribution and </span>\n",
              "<span style=\"color: #008000; text-decoration-color: #008000\">uncertainty estimation to quantify trust and robustness\\\\nfor decision-making. Communicating extreme events and </span>\n",
              "<span style=\"color: #008000; text-decoration-color: #008000\">their impacts can benefit from\\\\nstatistical/machine learning (bottom row) by improving operationalization, </span>\n",
              "<span style=\"color: #008000; text-decoration-color: #008000\">ensuring fair\\\\nand equitable narratives, and integrating language models in situation rooms for </span>\n",
              "<span style=\"color: #008000; text-decoration-color: #008000\">enhanced\\\\ndecision-making\\n[Quote from AI for Extreme Event Modeling and Understanding: Methodologies and </span>\n",
              "<span style=\"color: #008000; text-decoration-color: #008000\">Challenges] .\\\\nAlternative probabilistic (ML) models have relied on surrogate meteorological\\\\nand hydrological </span>\n",
              "<span style=\"color: #008000; text-decoration-color: #008000\">seasonal re-forecasts [24], Gaussian processes and nonlinear\\\\ndependence measures [25] and multivariate </span>\n",
              "<span style=\"color: #008000; text-decoration-color: #008000\">Gaussianization [26].\\\\n2.1.2 Prediction\\\\nDesigning predictive systems that accurately model extreme events is </span>\n",
              "<span style=\"color: #008000; text-decoration-color: #008000\">essen-\\\\ntial to anticipating the effects of future extreme events and providing critical\\\\ninformation for </span>\n",
              "<span style=\"color: #008000; text-decoration-color: #008000\">decision-makers to prevent damages. Spatial and temporal\\\\npredictions aim to provide a quantitative estimate of </span>\n",
              "<span style=\"color: #008000; text-decoration-color: #008000\">the future value of the\\\\nEarth\\\\u2019s state (Table 1).\\\\nMany ML algorithms have been proposed for deterministic </span>\n",
              "<span style=\"color: #008000; text-decoration-color: #008000\">extreme event\\\\nprediction, but most are only applied to small regions and specific use cases,\\\\nthough. Prediction</span>\n",
              "<span style=\"color: #008000; text-decoration-color: #008000\">can be performed using climate variables alone [27] or\\\\nin combination with satellite imagery [28]\\n\\n\\n (Answer </span>\n",
              "<span style=\"color: #008000; text-decoration-color: #008000\">only from retrieval. Only cite sources that are used. Make your response conversational.)'</span>\n",
              "<span style=\"color: #76b900; text-decoration-color: #76b900; font-weight: bold\">        ),</span>\n",
              "<span style=\"color: #76b900; text-decoration-color: #76b900; font-weight: bold\">        </span><span style=\"color: #800080; text-decoration-color: #800080; font-weight: bold\">HumanMessage</span><span style=\"color: #76b900; text-decoration-color: #76b900; font-weight: bold\">(</span><span style=\"color: #808000; text-decoration-color: #808000; font-weight: bold\">content</span><span style=\"color: #76b900; text-decoration-color: #76b900; font-weight: bold\">=</span><span style=\"color: #008000; text-decoration-color: #008000\">'Tell me about events prediction!'</span><span style=\"color: #76b900; text-decoration-color: #76b900; font-weight: bold\">)</span>\n",
              "<span style=\"color: #76b900; text-decoration-color: #76b900; font-weight: bold\">    ]</span>\n",
              "<span style=\"color: #76b900; text-decoration-color: #76b900; font-weight: bold\">)</span>\n",
              "</pre>\n"
            ],
            "text/plain": [
              "\u001b[1;35mChatPromptValue\u001b[0m\u001b[1;38;2;118;185;0m(\u001b[0m\n",
              "\u001b[1;38;2;118;185;0m    \u001b[0m\u001b[1;33mmessages\u001b[0m\u001b[1;38;2;118;185;0m=\u001b[0m\u001b[1;38;2;118;185;0m[\u001b[0m\n",
              "\u001b[1;38;2;118;185;0m        \u001b[0m\u001b[1;35mSystemMessage\u001b[0m\u001b[1;38;2;118;185;0m(\u001b[0m\n",
              "\u001b[1;38;2;118;185;0m            \u001b[0m\u001b[1;33mcontent\u001b[0m\u001b[1;38;2;118;185;0m=\u001b[0m\u001b[32m'You are a document chatbot. Help the user as they ask questions about documents. User messaged\u001b[0m\n",
              "\u001b[32mjust asked: Tell me about events prediction!\\n\\n From this, we have retrieved the following potentially-useful \u001b[0m\n",
              "\u001b[32minfo:  Conversation History Retrieval:\\n\\n\\n Document Retrieval:\\n\u001b[0m\u001b[32m[\u001b[0m\u001b[32mQuote from AI for Extreme Event Modeling and \u001b[0m\n",
              "\u001b[32mUnderstanding: Methodologies and Challenges\u001b[0m\u001b[32m]\u001b[0m\u001b[32m . Here, for example, the vegetation\\\\nresponse under extreme drought \u001b[0m\n",
              "\u001b[32mconditions is modeled as a video predic-\\\\ntion task of the satellite imagery while conditioning on the climate \u001b[0m\n",
              "\u001b[32mvariables.\\\\nAnother common approach is to directly estimate an indicator that defines\\\\nthe extreme event, e.g. \u001b[0m\n",
              "\u001b[32mflood risk maps \u001b[0m\u001b[32m[\u001b[0m\u001b[32m29\u001b[0m\u001b[32m]\u001b[0m\u001b[32m or drought indices \u001b[0m\u001b[32m[\u001b[0m\u001b[32m30\u001b[0m\u001b[32m]\u001b[0m\u001b[32m. The esti-\\\\nmated variables can cover different lead times depending \u001b[0m\n",
              "\u001b[32mon the characteristics\\\\nof the extreme, spanning from short-term prediction to seasonal prediction\\\\n\u001b[0m\u001b[32m[\u001b[0m\u001b[32m31\u001b[0m\u001b[32m]\u001b[0m\u001b[32m. \u001b[0m\n",
              "\u001b[32mRecently, DL-based prediction techniques have gained popularity for their\\\\nability to process large data volumes, \u001b[0m\n",
              "\u001b[32mcapture complex nonlinear relationships,\\\\nand reduce manual feature engineering. These benefits have led to the \u001b[0m\n",
              "\u001b[32mcreation\\\\nof global models that generalize across various locations, as seen in flood \u001b[0m\u001b[32m[\u001b[0m\u001b[32m32\u001b[0m\u001b[32m]\u001b[0m\u001b[32m\\\\nand wildfire \u001b[0m\u001b[32m[\u001b[0m\u001b[32m33\u001b[0m\u001b[32m]\u001b[0m\u001b[32m \u001b[0m\n",
              "\u001b[32mpredictions.\\\\nProbabilistic models, unlike deterministic ones, focus on predicting the\\\\nprobability distribution \u001b[0m\n",
              "\u001b[32mof future variable states\\n\u001b[0m\u001b[32m[\u001b[0m\u001b[32mQuote from AI for Extreme Event Modeling and Understanding: Methodologies and \u001b[0m\n",
              "\u001b[32mChallenges\u001b[0m\u001b[32m]\u001b[0m\u001b[32m . We provide an overview of how AI can help identify and\\\\nexplain extreme events more effectively, \u001b[0m\n",
              "\u001b[32mimproving disaster response and\\\\ncommunication. We emphasize the need for collaboration across different\\\\nfields \u001b[0m\n",
              "\u001b[32mto create AI solutions that are practical, understandable, and trust-\\\\nworthy for analyzing and predicting extreme\u001b[0m\n",
              "\u001b[32mevents. Such collaborative\\\\nefforts aim to enhance disaster readiness and disaster risk reduction.\\\\nKeywords: \u001b[0m\n",
              "\u001b[32mArtificial intelligence, extreme events, droughts, heatwaves,\\\\nfloods, detection, forecasting, modeling, \u001b[0m\n",
              "\u001b[32munderstanding, attribution,\\\\nexplainable AI, causal inference, communication of \u001b[0m\n",
              "\u001b[32mrisk\\\\nContents\\\\n1\\\\nIntroduction\\\\n3\\\\n2\\\\nReview of AI methods\\\\n4\\\\n2.1\\\\nExtreme Event Modeling . . . . . . . \u001b[0m\n",
              "\u001b[32m. . . . . . . . . . . . . . .\\\\n4\\\\n2.1.1\\\\nDetection . . . . . . . . . . . . . . . . . . . . . . . . . \u001b[0m\n",
              "\u001b[32m.\\\\n5\\\\n2.1.2\\\\nPrediction . . . . . . . . . . . . . . . . . . . . . . . . . .\\\\n6\\\\n2.1.3\\\\nImpact Assessment . . \u001b[0m\n",
              "\u001b[32m. . . . . . . . . . . . . . . . . . .\\\\n6\\\\n2\\n\u001b[0m\u001b[32m[\u001b[0m\u001b[32mQuote from AI for Extreme Event Modeling and Understanding: \u001b[0m\n",
              "\u001b[32mMethodologies and Challenges\u001b[0m\u001b[32m]\u001b[0m\u001b[32m . 2 Components in an AI pipeline for extreme events. AI mainly exploits \u001b[0m\n",
              "\u001b[32mspatio-\\\\ntemporal Earth observation, reanalysis, and climate data to answer \\\\u201cwhat\\\\u2019-questions \u001b[0m\n",
              "\u001b[32m(\u001b[0m\u001b[32mtop\\\\nrow\u001b[0m\u001b[32m)\u001b[0m\u001b[32m: detection of events, prediction, and impact assessment. AI can also be used for under-\\\\nstanding \u001b[0m\n",
              "\u001b[32mevents and thus answer \\\\u201cwhat if,\\\\u201d \\\\u201cwhy,\\\\u201d and \\\\u201chow sure\\\\u201d questions \u001b[0m\u001b[32m(\u001b[0m\u001b[32mmiddle \u001b[0m\n",
              "\u001b[32mrow\u001b[0m\u001b[32m)\u001b[0m\u001b[32m\\\\nand makes use of explainable AI \u001b[0m\u001b[32m(\u001b[0m\u001b[32mXAI\u001b[0m\u001b[32m)\u001b[0m\u001b[32m to identify relevant drivers of events, causality to\\\\nunderstanding \u001b[0m\n",
              "\u001b[32mthe system, estimate causal effects and impacts, and imagine counterfac-\\\\ntual scenarios for attribution and \u001b[0m\n",
              "\u001b[32muncertainty estimation to quantify trust and robustness\\\\nfor decision-making. Communicating extreme events and \u001b[0m\n",
              "\u001b[32mtheir impacts can benefit from\\\\nstatistical/machine learning \u001b[0m\u001b[32m(\u001b[0m\u001b[32mbottom row\u001b[0m\u001b[32m)\u001b[0m\u001b[32m by improving operationalization, \u001b[0m\n",
              "\u001b[32mensuring fair\\\\nand equitable narratives, and integrating language models in situation rooms for \u001b[0m\n",
              "\u001b[32menhanced\\\\ndecision-making\\n\u001b[0m\u001b[32m[\u001b[0m\u001b[32mQuote from AI for Extreme Event Modeling and Understanding: Methodologies and \u001b[0m\n",
              "\u001b[32mChallenges\u001b[0m\u001b[32m]\u001b[0m\u001b[32m .\\\\nAlternative probabilistic \u001b[0m\u001b[32m(\u001b[0m\u001b[32mML\u001b[0m\u001b[32m)\u001b[0m\u001b[32m models have relied on surrogate meteorological\\\\nand hydrological \u001b[0m\n",
              "\u001b[32mseasonal re-forecasts \u001b[0m\u001b[32m[\u001b[0m\u001b[32m24\u001b[0m\u001b[32m]\u001b[0m\u001b[32m, Gaussian processes and nonlinear\\\\ndependence measures \u001b[0m\u001b[32m[\u001b[0m\u001b[32m25\u001b[0m\u001b[32m]\u001b[0m\u001b[32m and multivariate \u001b[0m\n",
              "\u001b[32mGaussianization \u001b[0m\u001b[32m[\u001b[0m\u001b[32m26\u001b[0m\u001b[32m]\u001b[0m\u001b[32m.\\\\n2.1.2 Prediction\\\\nDesigning predictive systems that accurately model extreme events is \u001b[0m\n",
              "\u001b[32messen-\\\\ntial to anticipating the effects of future extreme events and providing critical\\\\ninformation for \u001b[0m\n",
              "\u001b[32mdecision-makers to prevent damages. Spatial and temporal\\\\npredictions aim to provide a quantitative estimate of \u001b[0m\n",
              "\u001b[32mthe future value of the\\\\nEarth\\\\u2019s state \u001b[0m\u001b[32m(\u001b[0m\u001b[32mTable 1\u001b[0m\u001b[32m)\u001b[0m\u001b[32m.\\\\nMany ML algorithms have been proposed for deterministic \u001b[0m\n",
              "\u001b[32mextreme event\\\\nprediction, but most are only applied to small regions and specific use cases,\\\\nthough. Prediction\u001b[0m\n",
              "\u001b[32mcan be performed using climate variables alone \u001b[0m\u001b[32m[\u001b[0m\u001b[32m27\u001b[0m\u001b[32m]\u001b[0m\u001b[32m or\\\\nin combination with satellite imagery \u001b[0m\u001b[32m[\u001b[0m\u001b[32m28\u001b[0m\u001b[32m]\u001b[0m\u001b[32m\\n\\n\\n \u001b[0m\u001b[32m(\u001b[0m\u001b[32mAnswer \u001b[0m\n",
              "\u001b[32monly from retrieval. Only cite sources that are used. Make your response conversational.\u001b[0m\u001b[32m)\u001b[0m\u001b[32m'\u001b[0m\n",
              "\u001b[1;38;2;118;185;0m        \u001b[0m\u001b[1;38;2;118;185;0m)\u001b[0m\u001b[1;38;2;118;185;0m,\u001b[0m\n",
              "\u001b[1;38;2;118;185;0m        \u001b[0m\u001b[1;35mHumanMessage\u001b[0m\u001b[1;38;2;118;185;0m(\u001b[0m\u001b[1;33mcontent\u001b[0m\u001b[1;38;2;118;185;0m=\u001b[0m\u001b[32m'Tell me about events prediction!'\u001b[0m\u001b[1;38;2;118;185;0m)\u001b[0m\n",
              "\u001b[1;38;2;118;185;0m    \u001b[0m\u001b[1;38;2;118;185;0m]\u001b[0m\n",
              "\u001b[1;38;2;118;185;0m)\u001b[0m\n"
            ]
          },
          "metadata": {},
          "output_type": "display_data"
        },
        {
          "name": "stdout",
          "output_type": "stream",
          "text": [
            "Sure, I'd be happy to help you understand event prediction, particularly in the context of extreme events.\n",
            "\n",
            "Event prediction involves using various techniques to estimate the likelihood and potential impact of future events. In the context of extreme events, such as droughts, heatwaves, floods, and wildfires, event prediction is crucial for improving disaster response and communication.\n",
            "\n",
            "One approach to extreme event prediction is to model the event as a video prediction task, using satellite imagery and climate variables. For example, the vegetation response under extreme drought conditions can be modeled in this way [1]. Another common approach is to estimate an indicator that defines the extreme event, such as flood risk maps or drought indices [2]. The estimated variables can cover different lead times depending on the characteristics of the extreme event, ranging from short-term prediction to seasonal prediction [3].\n",
            "\n",
            "Recently, deep learning (DL)-based prediction techniques have gained popularity for their ability to process large data volumes, capture complex nonlinear relationships, and reduce manual feature engineering. These benefits have led to the creation of global models that generalize across various locations, as seen in flood and wildfire predictions [4][5].\n",
            "\n",
            "Alternative probabilistic models, such as surrogate meteorological and hydrological seasonal re-forecasts, Gaussian processes, and nonlinear dependence measures, have also been proposed for extreme event prediction [6]. These models focus on predicting the probability distribution of future variable states, rather than providing a single deterministic prediction.\n",
            "\n",
            "Overall, AI has the potential to significantly improve extreme event prediction and understanding, but collaboration across different fields is essential to create practical, understandable, and trustworthy AI solutions for analyzing and predicting extreme events.\n",
            "\n",
            "References:\n",
            "[1] AI for Extreme Event Modeling and Understanding: Methodologies and Challenges, page 4\n",
            "[2] AI for Extreme Event Modeling and Understanding: Methodologies and Challenges, page 4\n",
            "[3] AI for Extreme Event Modeling and Understanding: Methodologies and Challenges, page 4\n",
            "[4] AI for Extreme Event Modeling and Understanding: Methodologies and Challenges, page 5\n",
            "[5] AI for Extreme Event Modeling and Understanding: Methodologies and Challenges, page 5\n",
            "[6] AI for Extreme Event Modeling and Understanding: Methodologies and Challenges, page 6"
          ]
        }
      ],
      "source": [
        "from langchain.document_transformers import LongContextReorder\n",
        "from langchain_core.runnables import RunnableLambda\n",
        "from langchain_core.runnables.passthrough import RunnableAssign\n",
        "from langchain_nvidia_ai_endpoints import ChatNVIDIA, NVIDIAEmbeddings\n",
        "\n",
        "from langchain_core.prompts import ChatPromptTemplate\n",
        "from langchain_core.output_parsers import StrOutputParser\n",
        "\n",
        "import gradio as gr\n",
        "from functools import partial\n",
        "from operator import itemgetter\n",
        "\n",
        "# NVIDIAEmbeddings.get_available_models()\n",
        "embedder = NVIDIAEmbeddings(model=\"nvidia/nv-embed-v1\", truncate=\"END\")\n",
        "# ChatNVIDIA.get_available_models()\n",
        "instruct_llm = ChatNVIDIA(model=\"mistralai/mixtral-8x7b-instruct-v0.1\")\n",
        "# instruct_llm = ChatNVIDIA(model=\"meta/llama-3.1-8b-instruct\")\n",
        "\n",
        "convstore = default_FAISS()\n",
        "\n",
        "def save_memory_and_get_output(d, vstore):\n",
        "    \"\"\"Accepts 'input'/'output' dictionary and saves to convstore\"\"\"\n",
        "    vstore.add_texts([\n",
        "        f\"User previously responded with {d.get('input')}\",\n",
        "        f\"Agent previously responded with {d.get('output')}\"\n",
        "    ])\n",
        "    return d.get('output')\n",
        "\n",
        "initial_msg = (\n",
        "    \"Hello! I am a document chat agent here to help the user!\"\n",
        "    f\" I have access to the following documents: {doc_string}\\n\\nHow can I help you?\"\n",
        ")\n",
        "\n",
        "chat_prompt = ChatPromptTemplate.from_messages([(\"system\",\n",
        "    \"You are a document chatbot. Help the user as they ask questions about documents.\"\n",
        "    \" User messaged just asked: {input}\\n\\n\"\n",
        "    \" From this, we have retrieved the following potentially-useful info: \"\n",
        "    \" Conversation History Retrieval:\\n{history}\\n\\n\"\n",
        "    \" Document Retrieval:\\n{context}\\n\\n\"\n",
        "    \" (Answer only from retrieval. Only cite sources that are used. Make your response conversational.)\"\n",
        "), ('user', '{input}')])\n",
        "\n",
        "stream_chain = chat_prompt| RPrint() | instruct_llm | StrOutputParser()\n",
        "\n",
        "retrieval_chain = (\n",
        "    {'input' : (lambda x: x)}\n",
        "    ## TODO: Make sure to retrieve history & context from convstore & docstore, respectively.\n",
        "    ## HINT: Our solution uses RunnableAssign, itemgetter, long_reorder, and docs2str\n",
        "    | RunnableAssign({'history' : itemgetter('input') | convstore.as_retriever() | long_reorder | docs2str})\n",
        "    | RunnableAssign({'context' : itemgetter('input') | docstore.as_retriever()  | long_reorder | docs2str})\n",
        "    | RPrint()\n",
        ")\n",
        "\n",
        "def chat_gen(message, history=[], return_buffer=True):\n",
        "    buffer = \"\"\n",
        "    ## First perform the retrieval based on the input message\n",
        "    retrieval = retrieval_chain.invoke(message)\n",
        "    line_buffer = \"\"\n",
        "\n",
        "    ## Then, stream the results of the stream_chain\n",
        "    for token in stream_chain.stream(retrieval):\n",
        "        buffer += token\n",
        "        ## If you're using standard print, keep line from getting too long\n",
        "        yield buffer if return_buffer else token\n",
        "\n",
        "    ## Lastly, save the chat exchange to the conversation memory buffer\n",
        "    save_memory_and_get_output({'input':  message, 'output': buffer}, convstore)\n",
        "\n",
        "\n",
        "## Start of Agent Event Loop\n",
        "test_question = \"Tell me about events prediction!\"  ## <- modify as desired\n",
        "\n",
        "## Before you launch your gradio interface, make sure your thing works\n",
        "for response in chat_gen(test_question, return_buffer=False):\n",
        "    print(response, end='')"
      ]
    },
    {
      "cell_type": "markdown",
      "id": "9W7sC5Z6BfqM",
      "metadata": {
        "id": "9W7sC5Z6BfqM"
      },
      "source": [
        "### **Task 4:** Interact With Your Gradio Chatbot"
      ]
    },
    {
      "cell_type": "code",
      "execution_count": null,
      "id": "fMP3l7QL2JWT",
      "metadata": {
        "id": "fMP3l7QL2JWT",
        "outputId": "142afd59-f0de-48f8-9050-2d4fd568312f"
      },
      "outputs": [
        {
          "name": "stdout",
          "output_type": "stream",
          "text": [
            "Running on local URL:  http://127.0.0.1:7860\n",
            "Running on public URL: https://a791f72e9b06fff7a1.gradio.live\n",
            "\n",
            "This share link expires in 72 hours. For free permanent hosting and GPU upgrades, run `gradio deploy` from Terminal to deploy to Spaces (https://huggingface.co/spaces)\n"
          ]
        },
        {
          "data": {
            "text/html": [
              "<div><iframe src=\"https://a791f72e9b06fff7a1.gradio.live\" width=\"100%\" height=\"500\" allow=\"autoplay; camera; microphone; clipboard-read; clipboard-write;\" frameborder=\"0\" allowfullscreen></iframe></div>"
            ],
            "text/plain": [
              "<IPython.core.display.HTML object>"
            ]
          },
          "metadata": {},
          "output_type": "display_data"
        },
        {
          "data": {
            "text/html": [
              "<pre style=\"white-space:pre;overflow-x:auto;line-height:normal;font-family:Menlo,'DejaVu Sans Mono',consolas,'Courier New',monospace\"><span style=\"color: #76b900; text-decoration-color: #76b900; font-weight: bold\">{</span>\n",
              "<span style=\"color: #76b900; text-decoration-color: #76b900; font-weight: bold\">    </span><span style=\"color: #008000; text-decoration-color: #008000\">'input'</span><span style=\"color: #76b900; text-decoration-color: #76b900; font-weight: bold\">: </span><span style=\"color: #008000; text-decoration-color: #008000\">'tell me something about prediction'</span><span style=\"color: #76b900; text-decoration-color: #76b900; font-weight: bold\">,</span>\n",
              "<span style=\"color: #76b900; text-decoration-color: #76b900; font-weight: bold\">    </span><span style=\"color: #008000; text-decoration-color: #008000\">'history'</span><span style=\"color: #76b900; text-decoration-color: #76b900; font-weight: bold\">: </span><span style=\"color: #008000; text-decoration-color: #008000\">\"[Quote from Document] User previously responded with Tell me about events prediction!\\n[Quote from </span>\n",
              "<span style=\"color: #008000; text-decoration-color: #008000\">Document] Agent previously responded with Sure, I'd be happy to help you understand event prediction, particularly </span>\n",
              "<span style=\"color: #008000; text-decoration-color: #008000\">in the context of extreme events.\\n\\nEvent prediction involves using various techniques to estimate the likelihood </span>\n",
              "<span style=\"color: #008000; text-decoration-color: #008000\">and potential impact of future events. In the context of extreme events, such as droughts, heatwaves, floods, and </span>\n",
              "<span style=\"color: #008000; text-decoration-color: #008000\">wildfires, event prediction is crucial for improving disaster response and communication.\\n\\nOne approach to </span>\n",
              "<span style=\"color: #008000; text-decoration-color: #008000\">extreme event prediction is to model the event as a video prediction task, using satellite imagery and climate </span>\n",
              "<span style=\"color: #008000; text-decoration-color: #008000\">variables. For example, the vegetation response under extreme drought conditions can be modeled in this way [1]. </span>\n",
              "<span style=\"color: #008000; text-decoration-color: #008000\">Another common approach is to estimate an indicator that defines the extreme event, such as flood risk maps or </span>\n",
              "<span style=\"color: #008000; text-decoration-color: #008000\">drought indices [2]. The estimated variables can cover different lead times depending on the characteristics of the</span>\n",
              "<span style=\"color: #008000; text-decoration-color: #008000\">extreme event, ranging from short-term prediction to seasonal prediction [3].\\n\\nRecently, deep learning (DL)-based</span>\n",
              "<span style=\"color: #008000; text-decoration-color: #008000\">prediction techniques have gained popularity for their ability to process large data volumes, capture complex </span>\n",
              "<span style=\"color: #008000; text-decoration-color: #008000\">nonlinear relationships, and reduce manual feature engineering. These benefits have led to the creation of global </span>\n",
              "<span style=\"color: #008000; text-decoration-color: #008000\">models that generalize across various locations, as seen in flood and wildfire predictions [4][5].\\n\\nAlternative </span>\n",
              "<span style=\"color: #008000; text-decoration-color: #008000\">probabilistic models, such as surrogate meteorological and hydrological seasonal re-forecasts, Gaussian processes, </span>\n",
              "<span style=\"color: #008000; text-decoration-color: #008000\">and nonlinear dependence measures, have also been proposed for extreme event prediction [6]. These models focus on </span>\n",
              "<span style=\"color: #008000; text-decoration-color: #008000\">predicting the probability distribution of future variable states, rather than providing a single deterministic </span>\n",
              "<span style=\"color: #008000; text-decoration-color: #008000\">prediction.\\n\\nOverall, AI has the potential to significantly improve extreme event prediction and understanding, </span>\n",
              "<span style=\"color: #008000; text-decoration-color: #008000\">but collaboration across different fields is essential to create practical, understandable, and trustworthy AI </span>\n",
              "<span style=\"color: #008000; text-decoration-color: #008000\">solutions for analyzing and predicting extreme events.\\n\\nReferences:\\n[1] AI for Extreme Event Modeling and </span>\n",
              "<span style=\"color: #008000; text-decoration-color: #008000\">Understanding: Methodologies and Challenges, page 4\\n[2] AI for Extreme Event Modeling and Understanding: </span>\n",
              "<span style=\"color: #008000; text-decoration-color: #008000\">Methodologies and Challenges, page 4\\n[3] AI for Extreme Event Modeling and Understanding: Methodologies and </span>\n",
              "<span style=\"color: #008000; text-decoration-color: #008000\">Challenges, page 4\\n[4] AI for Extreme Event Modeling and Understanding: Methodologies and Challenges, page 5\\n[5] </span>\n",
              "<span style=\"color: #008000; text-decoration-color: #008000\">AI for Extreme Event Modeling and Understanding: Methodologies and Challenges, page 5\\n[6] AI for Extreme Event </span>\n",
              "<span style=\"color: #008000; text-decoration-color: #008000\">Modeling and Understanding: Methodologies and Challenges, page 6\\n\"</span><span style=\"color: #76b900; text-decoration-color: #76b900; font-weight: bold\">,</span>\n",
              "<span style=\"color: #76b900; text-decoration-color: #76b900; font-weight: bold\">    </span><span style=\"color: #008000; text-decoration-color: #008000\">'context'</span><span style=\"color: #76b900; text-decoration-color: #76b900; font-weight: bold\">: </span><span style=\"color: #008000; text-decoration-color: #008000\">'[Quote from Decision-Focused Learning to Predict Action Costs for Planning] . In this case, </span>\n",
              "<span style=\"color: #008000; text-decoration-color: #008000\">predicting the costs using ML methods is a natural choice. When the\\\\nground truth action costs are unknown, we </span>\n",
              "<span style=\"color: #008000; text-decoration-color: #008000\">employ a trained ML model M\\\\u03c9 to predict the action\\\\ncosts from features X. The trainable parameters, denoted</span>\n",
              "<span style=\"color: #008000; text-decoration-color: #008000\">as \\\\u03c9, are estimated using a set of past\\\\nobservations, used as a training dataset for the ML model. To </span>\n",
              "<span style=\"color: #008000; text-decoration-color: #008000\">obtain a feasible plan in this setting,\\\\nthe action costs are first predicted using ML, followed by the generation</span>\n",
              "<span style=\"color: #008000; text-decoration-color: #008000\">of a plan optimized with\\\\nrespect to the predicted costs. This pipeline is commonly referred to as the </span>\n",
              "<span style=\"color: #008000; text-decoration-color: #008000\">Predict-then-Optimize\\\\nproblem formulation in the literature [Elmachtoub and Grigas, 2022, Mandi et al., 2020]. We</span>\n",
              "<span style=\"color: #008000; text-decoration-color: #008000\">present a\\\\nschematic diagram illustrating Predict-then-Optimize in the context of planning problems in Figure </span>\n",
              "<span style=\"color: #008000; text-decoration-color: #008000\">1.\\\\nVector representation.\\\\nState-of-the-art ML architectures, including neural networks, represent the\\\\ndata in</span>\n",
              "<span style=\"color: #008000; text-decoration-color: #008000\">matrix and vector form\\n[Quote from AI for Extreme Event Modeling and Understanding: Methodologies and Challenges] </span>\n",
              "<span style=\"color: #008000; text-decoration-color: #008000\">. Here, for example, the vegetation\\\\nresponse under extreme drought conditions is modeled as a video </span>\n",
              "<span style=\"color: #008000; text-decoration-color: #008000\">predic-\\\\ntion task of the satellite imagery while conditioning on the climate variables.\\\\nAnother common approach</span>\n",
              "<span style=\"color: #008000; text-decoration-color: #008000\">is to directly estimate an indicator that defines\\\\nthe extreme event, e.g. flood risk maps [29] or drought indices</span>\n",
              "<span style=\"color: #008000; text-decoration-color: #008000\">[30]. The esti-\\\\nmated variables can cover different lead times depending on the characteristics\\\\nof the extreme,</span>\n",
              "<span style=\"color: #008000; text-decoration-color: #008000\">spanning from short-term prediction to seasonal prediction\\\\n[31]. Recently, DL-based prediction techniques have </span>\n",
              "<span style=\"color: #008000; text-decoration-color: #008000\">gained popularity for their\\\\nability to process large data volumes, capture complex nonlinear relationships,\\\\nand</span>\n",
              "<span style=\"color: #008000; text-decoration-color: #008000\">reduce manual feature engineering. These benefits have led to the creation\\\\nof global models that generalize </span>\n",
              "<span style=\"color: #008000; text-decoration-color: #008000\">across various locations, as seen in flood [32]\\\\nand wildfire [33] predictions.\\\\nProbabilistic models, unlike </span>\n",
              "<span style=\"color: #008000; text-decoration-color: #008000\">deterministic ones, focus on predicting the\\\\nprobability distribution of future variable states\\n[Quote from </span>\n",
              "<span style=\"color: #008000; text-decoration-color: #008000\">Causal machine learning for sustainable agroecosystems] .\\\\n\\\\u2022 Question. What is the effect of a crop rotation</span>\n",
              "<span style=\"color: #008000; text-decoration-color: #008000\">on the field\\\\u2019s soil health?\\\\n\\\\u2022 Predictive ML can detect correlations based on historical data and </span>\n",
              "<span style=\"color: #008000; text-decoration-color: #008000\">esti-\\\\nmate soil health from crop rotation data. However, it may mistakenly\\\\nattribute soil health changes to </span>\n",
              "<span style=\"color: #008000; text-decoration-color: #008000\">crop rotation.\\\\n\\\\u2022 ML for causality allows us to express the decisions as causal questions\\\\nand to use ML </span>\n",
              "<span style=\"color: #008000; text-decoration-color: #008000\">guided by causal reasoning to answer them, i.e. to quan-\\\\ntify to what extent the observed changes in soil health </span>\n",
              "<span style=\"color: #008000; text-decoration-color: #008000\">can be attributed\\\\nto crop rotations.\\\\nPredictive tasks: Use the patterns in a training dataset to </span>\n",
              "<span style=\"color: #008000; text-decoration-color: #008000\">model\\\\nassociative relationships to predict outcomes in a test dataset.\\\\n\\\\u2022 Task. Predict yield in Africa by</span>\n",
              "<span style=\"color: #008000; text-decoration-color: #008000\">exploiting the relationship between\\\\nyield and biomass observed in Europe.\\\\n\\\\u2022 Predictive ML. It exploits </span>\n",
              "<span style=\"color: #008000; text-decoration-color: #008000\">all patterns produced by associative rela-\\\\ntionships to obtain accurate models. However, it relies on training </span>\n",
              "<span style=\"color: #008000; text-decoration-color: #008000\">and\\\\ntest data being very similar\\n[Quote from AI for Extreme Event Modeling and Understanding: Methodologies and </span>\n",
              "<span style=\"color: #008000; text-decoration-color: #008000\">Challenges] .\\\\nAlternative probabilistic (ML) models have relied on surrogate meteorological\\\\nand hydrological </span>\n",
              "<span style=\"color: #008000; text-decoration-color: #008000\">seasonal re-forecasts [24], Gaussian processes and nonlinear\\\\ndependence measures [25] and multivariate </span>\n",
              "<span style=\"color: #008000; text-decoration-color: #008000\">Gaussianization [26].\\\\n2.1.2 Prediction\\\\nDesigning predictive systems that accurately model extreme events is </span>\n",
              "<span style=\"color: #008000; text-decoration-color: #008000\">essen-\\\\ntial to anticipating the effects of future extreme events and providing critical\\\\ninformation for </span>\n",
              "<span style=\"color: #008000; text-decoration-color: #008000\">decision-makers to prevent damages. Spatial and temporal\\\\npredictions aim to provide a quantitative estimate of </span>\n",
              "<span style=\"color: #008000; text-decoration-color: #008000\">the future value of the\\\\nEarth\\\\u2019s state (Table 1).\\\\nMany ML algorithms have been proposed for deterministic </span>\n",
              "<span style=\"color: #008000; text-decoration-color: #008000\">extreme event\\\\nprediction, but most are only applied to small regions and specific use cases,\\\\nthough. Prediction</span>\n",
              "<span style=\"color: #008000; text-decoration-color: #008000\">can be performed using climate variables alone [27] or\\\\nin combination with satellite imagery [28]\\n'</span>\n",
              "<span style=\"color: #76b900; text-decoration-color: #76b900; font-weight: bold\">}</span>\n",
              "</pre>\n"
            ],
            "text/plain": [
              "\u001b[1;38;2;118;185;0m{\u001b[0m\n",
              "\u001b[1;38;2;118;185;0m    \u001b[0m\u001b[32m'input'\u001b[0m\u001b[1;38;2;118;185;0m: \u001b[0m\u001b[32m'tell me something about prediction'\u001b[0m\u001b[1;38;2;118;185;0m,\u001b[0m\n",
              "\u001b[1;38;2;118;185;0m    \u001b[0m\u001b[32m'history'\u001b[0m\u001b[1;38;2;118;185;0m: \u001b[0m\u001b[32m\"\u001b[0m\u001b[32m[\u001b[0m\u001b[32mQuote from Document\u001b[0m\u001b[32m]\u001b[0m\u001b[32m User previously responded with Tell me about events prediction!\\n\u001b[0m\u001b[32m[\u001b[0m\u001b[32mQuote from \u001b[0m\n",
              "\u001b[32mDocument\u001b[0m\u001b[32m]\u001b[0m\u001b[32m Agent previously responded with Sure, I'd be happy to help you understand event prediction, particularly \u001b[0m\n",
              "\u001b[32min the context of extreme events.\\n\\nEvent prediction involves using various techniques to estimate the likelihood \u001b[0m\n",
              "\u001b[32mand potential impact of future events. In the context of extreme events, such as droughts, heatwaves, floods, and \u001b[0m\n",
              "\u001b[32mwildfires, event prediction is crucial for improving disaster response and communication.\\n\\nOne approach to \u001b[0m\n",
              "\u001b[32mextreme event prediction is to model the event as a video prediction task, using satellite imagery and climate \u001b[0m\n",
              "\u001b[32mvariables. For example, the vegetation response under extreme drought conditions can be modeled in this way \u001b[0m\u001b[32m[\u001b[0m\u001b[32m1\u001b[0m\u001b[32m]\u001b[0m\u001b[32m. \u001b[0m\n",
              "\u001b[32mAnother common approach is to estimate an indicator that defines the extreme event, such as flood risk maps or \u001b[0m\n",
              "\u001b[32mdrought indices \u001b[0m\u001b[32m[\u001b[0m\u001b[32m2\u001b[0m\u001b[32m]\u001b[0m\u001b[32m. The estimated variables can cover different lead times depending on the characteristics of the\u001b[0m\n",
              "\u001b[32mextreme event, ranging from short-term prediction to seasonal prediction \u001b[0m\u001b[32m[\u001b[0m\u001b[32m3\u001b[0m\u001b[32m]\u001b[0m\u001b[32m.\\n\\nRecently, deep learning \u001b[0m\u001b[32m(\u001b[0m\u001b[32mDL\u001b[0m\u001b[32m)\u001b[0m\u001b[32m-based\u001b[0m\n",
              "\u001b[32mprediction techniques have gained popularity for their ability to process large data volumes, capture complex \u001b[0m\n",
              "\u001b[32mnonlinear relationships, and reduce manual feature engineering. These benefits have led to the creation of global \u001b[0m\n",
              "\u001b[32mmodels that generalize across various locations, as seen in flood and wildfire predictions \u001b[0m\u001b[32m[\u001b[0m\u001b[32m4\u001b[0m\u001b[32m]\u001b[0m\u001b[32m[\u001b[0m\u001b[32m5\u001b[0m\u001b[32m]\u001b[0m\u001b[32m.\\n\\nAlternative \u001b[0m\n",
              "\u001b[32mprobabilistic models, such as surrogate meteorological and hydrological seasonal re-forecasts, Gaussian processes, \u001b[0m\n",
              "\u001b[32mand nonlinear dependence measures, have also been proposed for extreme event prediction \u001b[0m\u001b[32m[\u001b[0m\u001b[32m6\u001b[0m\u001b[32m]\u001b[0m\u001b[32m. These models focus on \u001b[0m\n",
              "\u001b[32mpredicting the probability distribution of future variable states, rather than providing a single deterministic \u001b[0m\n",
              "\u001b[32mprediction.\\n\\nOverall, AI has the potential to significantly improve extreme event prediction and understanding, \u001b[0m\n",
              "\u001b[32mbut collaboration across different fields is essential to create practical, understandable, and trustworthy AI \u001b[0m\n",
              "\u001b[32msolutions for analyzing and predicting extreme events.\\n\\nReferences:\\n\u001b[0m\u001b[32m[\u001b[0m\u001b[32m1\u001b[0m\u001b[32m]\u001b[0m\u001b[32m AI for Extreme Event Modeling and \u001b[0m\n",
              "\u001b[32mUnderstanding: Methodologies and Challenges, page 4\\n\u001b[0m\u001b[32m[\u001b[0m\u001b[32m2\u001b[0m\u001b[32m]\u001b[0m\u001b[32m AI for Extreme Event Modeling and Understanding: \u001b[0m\n",
              "\u001b[32mMethodologies and Challenges, page 4\\n\u001b[0m\u001b[32m[\u001b[0m\u001b[32m3\u001b[0m\u001b[32m]\u001b[0m\u001b[32m AI for Extreme Event Modeling and Understanding: Methodologies and \u001b[0m\n",
              "\u001b[32mChallenges, page 4\\n\u001b[0m\u001b[32m[\u001b[0m\u001b[32m4\u001b[0m\u001b[32m]\u001b[0m\u001b[32m AI for Extreme Event Modeling and Understanding: Methodologies and Challenges, page 5\\n\u001b[0m\u001b[32m[\u001b[0m\u001b[32m5\u001b[0m\u001b[32m]\u001b[0m\u001b[32m \u001b[0m\n",
              "\u001b[32mAI for Extreme Event Modeling and Understanding: Methodologies and Challenges, page 5\\n\u001b[0m\u001b[32m[\u001b[0m\u001b[32m6\u001b[0m\u001b[32m]\u001b[0m\u001b[32m AI for Extreme Event \u001b[0m\n",
              "\u001b[32mModeling and Understanding: Methodologies and Challenges, page 6\\n\"\u001b[0m\u001b[1;38;2;118;185;0m,\u001b[0m\n",
              "\u001b[1;38;2;118;185;0m    \u001b[0m\u001b[32m'context'\u001b[0m\u001b[1;38;2;118;185;0m: \u001b[0m\u001b[32m'\u001b[0m\u001b[32m[\u001b[0m\u001b[32mQuote from Decision-Focused Learning to Predict Action Costs for Planning\u001b[0m\u001b[32m]\u001b[0m\u001b[32m . In this case, \u001b[0m\n",
              "\u001b[32mpredicting the costs using ML methods is a natural choice. When the\\\\nground truth action costs are unknown, we \u001b[0m\n",
              "\u001b[32memploy a trained ML model M\\\\u03c9 to predict the action\\\\ncosts from features X. The trainable parameters, denoted\u001b[0m\n",
              "\u001b[32mas \\\\u03c9, are estimated using a set of past\\\\nobservations, used as a training dataset for the ML model. To \u001b[0m\n",
              "\u001b[32mobtain a feasible plan in this setting,\\\\nthe action costs are first predicted using ML, followed by the generation\u001b[0m\n",
              "\u001b[32mof a plan optimized with\\\\nrespect to the predicted costs. This pipeline is commonly referred to as the \u001b[0m\n",
              "\u001b[32mPredict-then-Optimize\\\\nproblem formulation in the literature \u001b[0m\u001b[32m[\u001b[0m\u001b[32mElmachtoub and Grigas, 2022, Mandi et al., 2020\u001b[0m\u001b[32m]\u001b[0m\u001b[32m. We\u001b[0m\n",
              "\u001b[32mpresent a\\\\nschematic diagram illustrating Predict-then-Optimize in the context of planning problems in Figure \u001b[0m\n",
              "\u001b[32m1.\\\\nVector representation.\\\\nState-of-the-art ML architectures, including neural networks, represent the\\\\ndata in\u001b[0m\n",
              "\u001b[32mmatrix and vector form\\n\u001b[0m\u001b[32m[\u001b[0m\u001b[32mQuote from AI for Extreme Event Modeling and Understanding: Methodologies and Challenges\u001b[0m\u001b[32m]\u001b[0m\u001b[32m \u001b[0m\n",
              "\u001b[32m. Here, for example, the vegetation\\\\nresponse under extreme drought conditions is modeled as a video \u001b[0m\n",
              "\u001b[32mpredic-\\\\ntion task of the satellite imagery while conditioning on the climate variables.\\\\nAnother common approach\u001b[0m\n",
              "\u001b[32mis to directly estimate an indicator that defines\\\\nthe extreme event, e.g. flood risk maps \u001b[0m\u001b[32m[\u001b[0m\u001b[32m29\u001b[0m\u001b[32m]\u001b[0m\u001b[32m or drought indices\u001b[0m\n",
              "\u001b[32m[\u001b[0m\u001b[32m30\u001b[0m\u001b[32m]\u001b[0m\u001b[32m. The esti-\\\\nmated variables can cover different lead times depending on the characteristics\\\\nof the extreme,\u001b[0m\n",
              "\u001b[32mspanning from short-term prediction to seasonal prediction\\\\n\u001b[0m\u001b[32m[\u001b[0m\u001b[32m31\u001b[0m\u001b[32m]\u001b[0m\u001b[32m. Recently, DL-based prediction techniques have \u001b[0m\n",
              "\u001b[32mgained popularity for their\\\\nability to process large data volumes, capture complex nonlinear relationships,\\\\nand\u001b[0m\n",
              "\u001b[32mreduce manual feature engineering. These benefits have led to the creation\\\\nof global models that generalize \u001b[0m\n",
              "\u001b[32macross various locations, as seen in flood \u001b[0m\u001b[32m[\u001b[0m\u001b[32m32\u001b[0m\u001b[32m]\u001b[0m\u001b[32m\\\\nand wildfire \u001b[0m\u001b[32m[\u001b[0m\u001b[32m33\u001b[0m\u001b[32m]\u001b[0m\u001b[32m predictions.\\\\nProbabilistic models, unlike \u001b[0m\n",
              "\u001b[32mdeterministic ones, focus on predicting the\\\\nprobability distribution of future variable states\\n\u001b[0m\u001b[32m[\u001b[0m\u001b[32mQuote from \u001b[0m\n",
              "\u001b[32mCausal machine learning for sustainable agroecosystems\u001b[0m\u001b[32m]\u001b[0m\u001b[32m .\\\\n\\\\u2022 Question. What is the effect of a crop rotation\u001b[0m\n",
              "\u001b[32mon the field\\\\u2019s soil health?\\\\n\\\\u2022 Predictive ML can detect correlations based on historical data and \u001b[0m\n",
              "\u001b[32mesti-\\\\nmate soil health from crop rotation data. However, it may mistakenly\\\\nattribute soil health changes to \u001b[0m\n",
              "\u001b[32mcrop rotation.\\\\n\\\\u2022 ML for causality allows us to express the decisions as causal questions\\\\nand to use ML \u001b[0m\n",
              "\u001b[32mguided by causal reasoning to answer them, i.e. to quan-\\\\ntify to what extent the observed changes in soil health \u001b[0m\n",
              "\u001b[32mcan be attributed\\\\nto crop rotations.\\\\nPredictive tasks: Use the patterns in a training dataset to \u001b[0m\n",
              "\u001b[32mmodel\\\\nassociative relationships to predict outcomes in a test dataset.\\\\n\\\\u2022 Task. Predict yield in Africa by\u001b[0m\n",
              "\u001b[32mexploiting the relationship between\\\\nyield and biomass observed in Europe.\\\\n\\\\u2022 Predictive ML. It exploits \u001b[0m\n",
              "\u001b[32mall patterns produced by associative rela-\\\\ntionships to obtain accurate models. However, it relies on training \u001b[0m\n",
              "\u001b[32mand\\\\ntest data being very similar\\n\u001b[0m\u001b[32m[\u001b[0m\u001b[32mQuote from AI for Extreme Event Modeling and Understanding: Methodologies and \u001b[0m\n",
              "\u001b[32mChallenges\u001b[0m\u001b[32m]\u001b[0m\u001b[32m .\\\\nAlternative probabilistic \u001b[0m\u001b[32m(\u001b[0m\u001b[32mML\u001b[0m\u001b[32m)\u001b[0m\u001b[32m models have relied on surrogate meteorological\\\\nand hydrological \u001b[0m\n",
              "\u001b[32mseasonal re-forecasts \u001b[0m\u001b[32m[\u001b[0m\u001b[32m24\u001b[0m\u001b[32m]\u001b[0m\u001b[32m, Gaussian processes and nonlinear\\\\ndependence measures \u001b[0m\u001b[32m[\u001b[0m\u001b[32m25\u001b[0m\u001b[32m]\u001b[0m\u001b[32m and multivariate \u001b[0m\n",
              "\u001b[32mGaussianization \u001b[0m\u001b[32m[\u001b[0m\u001b[32m26\u001b[0m\u001b[32m]\u001b[0m\u001b[32m.\\\\n2.1.2 Prediction\\\\nDesigning predictive systems that accurately model extreme events is \u001b[0m\n",
              "\u001b[32messen-\\\\ntial to anticipating the effects of future extreme events and providing critical\\\\ninformation for \u001b[0m\n",
              "\u001b[32mdecision-makers to prevent damages. Spatial and temporal\\\\npredictions aim to provide a quantitative estimate of \u001b[0m\n",
              "\u001b[32mthe future value of the\\\\nEarth\\\\u2019s state \u001b[0m\u001b[32m(\u001b[0m\u001b[32mTable 1\u001b[0m\u001b[32m)\u001b[0m\u001b[32m.\\\\nMany ML algorithms have been proposed for deterministic \u001b[0m\n",
              "\u001b[32mextreme event\\\\nprediction, but most are only applied to small regions and specific use cases,\\\\nthough. Prediction\u001b[0m\n",
              "\u001b[32mcan be performed using climate variables alone \u001b[0m\u001b[32m[\u001b[0m\u001b[32m27\u001b[0m\u001b[32m]\u001b[0m\u001b[32m or\\\\nin combination with satellite imagery \u001b[0m\u001b[32m[\u001b[0m\u001b[32m28\u001b[0m\u001b[32m]\u001b[0m\u001b[32m\\n'\u001b[0m\n",
              "\u001b[1;38;2;118;185;0m}\u001b[0m\n"
            ]
          },
          "metadata": {},
          "output_type": "display_data"
        },
        {
          "data": {
            "text/html": [
              "<pre style=\"white-space:pre;overflow-x:auto;line-height:normal;font-family:Menlo,'DejaVu Sans Mono',consolas,'Courier New',monospace\"><span style=\"color: #800080; text-decoration-color: #800080; font-weight: bold\">ChatPromptValue</span><span style=\"color: #76b900; text-decoration-color: #76b900; font-weight: bold\">(</span>\n",
              "<span style=\"color: #76b900; text-decoration-color: #76b900; font-weight: bold\">    </span><span style=\"color: #808000; text-decoration-color: #808000; font-weight: bold\">messages</span><span style=\"color: #76b900; text-decoration-color: #76b900; font-weight: bold\">=[</span>\n",
              "<span style=\"color: #76b900; text-decoration-color: #76b900; font-weight: bold\">        </span><span style=\"color: #800080; text-decoration-color: #800080; font-weight: bold\">SystemMessage</span><span style=\"color: #76b900; text-decoration-color: #76b900; font-weight: bold\">(</span>\n",
              "<span style=\"color: #76b900; text-decoration-color: #76b900; font-weight: bold\">            </span><span style=\"color: #808000; text-decoration-color: #808000; font-weight: bold\">content</span><span style=\"color: #76b900; text-decoration-color: #76b900; font-weight: bold\">=</span><span style=\"color: #008000; text-decoration-color: #008000\">\"You are a document chatbot. Help the user as they ask questions about documents. User messaged</span>\n",
              "<span style=\"color: #008000; text-decoration-color: #008000\">just asked: tell me something about prediction\\n\\n From this, we have retrieved the following potentially-useful </span>\n",
              "<span style=\"color: #008000; text-decoration-color: #008000\">info:  Conversation History Retrieval:\\n[Quote from Document] User previously responded with Tell me about events </span>\n",
              "<span style=\"color: #008000; text-decoration-color: #008000\">prediction!\\n[Quote from Document] Agent previously responded with Sure, I'd be happy to help you understand event </span>\n",
              "<span style=\"color: #008000; text-decoration-color: #008000\">prediction, particularly in the context of extreme events.\\n\\nEvent prediction involves using various techniques to</span>\n",
              "<span style=\"color: #008000; text-decoration-color: #008000\">estimate the likelihood and potential impact of future events. In the context of extreme events, such as droughts, </span>\n",
              "<span style=\"color: #008000; text-decoration-color: #008000\">heatwaves, floods, and wildfires, event prediction is crucial for improving disaster response and </span>\n",
              "<span style=\"color: #008000; text-decoration-color: #008000\">communication.\\n\\nOne approach to extreme event prediction is to model the event as a video prediction task, using </span>\n",
              "<span style=\"color: #008000; text-decoration-color: #008000\">satellite imagery and climate variables. For example, the vegetation response under extreme drought conditions can </span>\n",
              "<span style=\"color: #008000; text-decoration-color: #008000\">be modeled in this way [1]. Another common approach is to estimate an indicator that defines the extreme event, </span>\n",
              "<span style=\"color: #008000; text-decoration-color: #008000\">such as flood risk maps or drought indices [2]. The estimated variables can cover different lead times depending on</span>\n",
              "<span style=\"color: #008000; text-decoration-color: #008000\">the characteristics of the extreme event, ranging from short-term prediction to seasonal prediction </span>\n",
              "<span style=\"color: #008000; text-decoration-color: #008000\">[3].\\n\\nRecently, deep learning (DL)-based prediction techniques have gained popularity for their ability to </span>\n",
              "<span style=\"color: #008000; text-decoration-color: #008000\">process large data volumes, capture complex nonlinear relationships, and reduce manual feature engineering. These </span>\n",
              "<span style=\"color: #008000; text-decoration-color: #008000\">benefits have led to the creation of global models that generalize across various locations, as seen in flood and </span>\n",
              "<span style=\"color: #008000; text-decoration-color: #008000\">wildfire predictions [4][5].\\n\\nAlternative probabilistic models, such as surrogate meteorological and hydrological</span>\n",
              "<span style=\"color: #008000; text-decoration-color: #008000\">seasonal re-forecasts, Gaussian processes, and nonlinear dependence measures, have also been proposed for extreme </span>\n",
              "<span style=\"color: #008000; text-decoration-color: #008000\">event prediction [6]. These models focus on predicting the probability distribution of future variable states, </span>\n",
              "<span style=\"color: #008000; text-decoration-color: #008000\">rather than providing a single deterministic prediction.\\n\\nOverall, AI has the potential to significantly improve </span>\n",
              "<span style=\"color: #008000; text-decoration-color: #008000\">extreme event prediction and understanding, but collaboration across different fields is essential to create </span>\n",
              "<span style=\"color: #008000; text-decoration-color: #008000\">practical, understandable, and trustworthy AI solutions for analyzing and predicting extreme </span>\n",
              "<span style=\"color: #008000; text-decoration-color: #008000\">events.\\n\\nReferences:\\n[1] AI for Extreme Event Modeling and Understanding: Methodologies and Challenges, page </span>\n",
              "<span style=\"color: #008000; text-decoration-color: #008000\">4\\n[2] AI for Extreme Event Modeling and Understanding: Methodologies and Challenges, page 4\\n[3] AI for Extreme </span>\n",
              "<span style=\"color: #008000; text-decoration-color: #008000\">Event Modeling and Understanding: Methodologies and Challenges, page 4\\n[4] AI for Extreme Event Modeling and </span>\n",
              "<span style=\"color: #008000; text-decoration-color: #008000\">Understanding: Methodologies and Challenges, page 5\\n[5] AI for Extreme Event Modeling and Understanding: </span>\n",
              "<span style=\"color: #008000; text-decoration-color: #008000\">Methodologies and Challenges, page 5\\n[6] AI for Extreme Event Modeling and Understanding: Methodologies and </span>\n",
              "<span style=\"color: #008000; text-decoration-color: #008000\">Challenges, page 6\\n\\n\\n Document Retrieval:\\n[Quote from Decision-Focused Learning to Predict Action Costs for </span>\n",
              "<span style=\"color: #008000; text-decoration-color: #008000\">Planning] . In this case, predicting the costs using ML methods is a natural choice. When the\\\\nground truth action</span>\n",
              "<span style=\"color: #008000; text-decoration-color: #008000\">costs are unknown, we employ a trained ML model M\\\\u03c9 to predict the action\\\\ncosts from features X. The </span>\n",
              "<span style=\"color: #008000; text-decoration-color: #008000\">trainable parameters, denoted as \\\\u03c9, are estimated using a set of past\\\\nobservations, used as a training </span>\n",
              "<span style=\"color: #008000; text-decoration-color: #008000\">dataset for the ML model. To obtain a feasible plan in this setting,\\\\nthe action costs are first predicted using </span>\n",
              "<span style=\"color: #008000; text-decoration-color: #008000\">ML, followed by the generation of a plan optimized with\\\\nrespect to the predicted costs. This pipeline is commonly</span>\n",
              "<span style=\"color: #008000; text-decoration-color: #008000\">referred to as the Predict-then-Optimize\\\\nproblem formulation in the literature [Elmachtoub and Grigas, 2022, </span>\n",
              "<span style=\"color: #008000; text-decoration-color: #008000\">Mandi et al., 2020]. We present a\\\\nschematic diagram illustrating Predict-then-Optimize in the context of planning</span>\n",
              "<span style=\"color: #008000; text-decoration-color: #008000\">problems in Figure 1.\\\\nVector representation.\\\\nState-of-the-art ML architectures, including neural networks, </span>\n",
              "<span style=\"color: #008000; text-decoration-color: #008000\">represent the\\\\ndata in matrix and vector form\\n[Quote from AI for Extreme Event Modeling and Understanding: </span>\n",
              "<span style=\"color: #008000; text-decoration-color: #008000\">Methodologies and Challenges] . Here, for example, the vegetation\\\\nresponse under extreme drought conditions is </span>\n",
              "<span style=\"color: #008000; text-decoration-color: #008000\">modeled as a video predic-\\\\ntion task of the satellite imagery while conditioning on the climate </span>\n",
              "<span style=\"color: #008000; text-decoration-color: #008000\">variables.\\\\nAnother common approach is to directly estimate an indicator that defines\\\\nthe extreme event, e.g. </span>\n",
              "<span style=\"color: #008000; text-decoration-color: #008000\">flood risk maps [29] or drought indices [30]. The esti-\\\\nmated variables can cover different lead times depending </span>\n",
              "<span style=\"color: #008000; text-decoration-color: #008000\">on the characteristics\\\\nof the extreme, spanning from short-term prediction to seasonal prediction\\\\n[31]. </span>\n",
              "<span style=\"color: #008000; text-decoration-color: #008000\">Recently, DL-based prediction techniques have gained popularity for their\\\\nability to process large data volumes, </span>\n",
              "<span style=\"color: #008000; text-decoration-color: #008000\">capture complex nonlinear relationships,\\\\nand reduce manual feature engineering. These benefits have led to the </span>\n",
              "<span style=\"color: #008000; text-decoration-color: #008000\">creation\\\\nof global models that generalize across various locations, as seen in flood [32]\\\\nand wildfire [33] </span>\n",
              "<span style=\"color: #008000; text-decoration-color: #008000\">predictions.\\\\nProbabilistic models, unlike deterministic ones, focus on predicting the\\\\nprobability distribution </span>\n",
              "<span style=\"color: #008000; text-decoration-color: #008000\">of future variable states\\n[Quote from Causal machine learning for sustainable agroecosystems] .\\\\n\\\\u2022 </span>\n",
              "<span style=\"color: #008000; text-decoration-color: #008000\">Question. What is the effect of a crop rotation on the field\\\\u2019s soil health?\\\\n\\\\u2022 Predictive ML can </span>\n",
              "<span style=\"color: #008000; text-decoration-color: #008000\">detect correlations based on historical data and esti-\\\\nmate soil health from crop rotation data. However, it may </span>\n",
              "<span style=\"color: #008000; text-decoration-color: #008000\">mistakenly\\\\nattribute soil health changes to crop rotation.\\\\n\\\\u2022 ML for causality allows us to express the </span>\n",
              "<span style=\"color: #008000; text-decoration-color: #008000\">decisions as causal questions\\\\nand to use ML guided by causal reasoning to answer them, i.e. to quan-\\\\ntify to </span>\n",
              "<span style=\"color: #008000; text-decoration-color: #008000\">what extent the observed changes in soil health can be attributed\\\\nto crop rotations.\\\\nPredictive tasks: Use the </span>\n",
              "<span style=\"color: #008000; text-decoration-color: #008000\">patterns in a training dataset to model\\\\nassociative relationships to predict outcomes in a test </span>\n",
              "<span style=\"color: #008000; text-decoration-color: #008000\">dataset.\\\\n\\\\u2022 Task. Predict yield in Africa by exploiting the relationship between\\\\nyield and biomass </span>\n",
              "<span style=\"color: #008000; text-decoration-color: #008000\">observed in Europe.\\\\n\\\\u2022 Predictive ML. It exploits all patterns produced by associative rela-\\\\ntionships to </span>\n",
              "<span style=\"color: #008000; text-decoration-color: #008000\">obtain accurate models. However, it relies on training and\\\\ntest data being very similar\\n[Quote from AI for </span>\n",
              "<span style=\"color: #008000; text-decoration-color: #008000\">Extreme Event Modeling and Understanding: Methodologies and Challenges] .\\\\nAlternative probabilistic (ML) models </span>\n",
              "<span style=\"color: #008000; text-decoration-color: #008000\">have relied on surrogate meteorological\\\\nand hydrological seasonal re-forecasts [24], Gaussian processes and </span>\n",
              "<span style=\"color: #008000; text-decoration-color: #008000\">nonlinear\\\\ndependence measures [25] and multivariate Gaussianization [26].\\\\n2.1.2 Prediction\\\\nDesigning </span>\n",
              "<span style=\"color: #008000; text-decoration-color: #008000\">predictive systems that accurately model extreme events is essen-\\\\ntial to anticipating the effects of future </span>\n",
              "<span style=\"color: #008000; text-decoration-color: #008000\">extreme events and providing critical\\\\ninformation for decision-makers to prevent damages. Spatial and </span>\n",
              "<span style=\"color: #008000; text-decoration-color: #008000\">temporal\\\\npredictions aim to provide a quantitative estimate of the future value of the\\\\nEarth\\\\u2019s state </span>\n",
              "<span style=\"color: #008000; text-decoration-color: #008000\">(Table 1).\\\\nMany ML algorithms have been proposed for deterministic extreme event\\\\nprediction, but most are only </span>\n",
              "<span style=\"color: #008000; text-decoration-color: #008000\">applied to small regions and specific use cases,\\\\nthough. Prediction can be performed using climate variables </span>\n",
              "<span style=\"color: #008000; text-decoration-color: #008000\">alone [27] or\\\\nin combination with satellite imagery [28]\\n\\n\\n (Answer only from retrieval. Only cite sources </span>\n",
              "<span style=\"color: #008000; text-decoration-color: #008000\">that are used. Make your response conversational.)\"</span>\n",
              "<span style=\"color: #76b900; text-decoration-color: #76b900; font-weight: bold\">        ),</span>\n",
              "<span style=\"color: #76b900; text-decoration-color: #76b900; font-weight: bold\">        </span><span style=\"color: #800080; text-decoration-color: #800080; font-weight: bold\">HumanMessage</span><span style=\"color: #76b900; text-decoration-color: #76b900; font-weight: bold\">(</span><span style=\"color: #808000; text-decoration-color: #808000; font-weight: bold\">content</span><span style=\"color: #76b900; text-decoration-color: #76b900; font-weight: bold\">=</span><span style=\"color: #008000; text-decoration-color: #008000\">'tell me something about prediction'</span><span style=\"color: #76b900; text-decoration-color: #76b900; font-weight: bold\">)</span>\n",
              "<span style=\"color: #76b900; text-decoration-color: #76b900; font-weight: bold\">    ]</span>\n",
              "<span style=\"color: #76b900; text-decoration-color: #76b900; font-weight: bold\">)</span>\n",
              "</pre>\n"
            ],
            "text/plain": [
              "\u001b[1;35mChatPromptValue\u001b[0m\u001b[1;38;2;118;185;0m(\u001b[0m\n",
              "\u001b[1;38;2;118;185;0m    \u001b[0m\u001b[1;33mmessages\u001b[0m\u001b[1;38;2;118;185;0m=\u001b[0m\u001b[1;38;2;118;185;0m[\u001b[0m\n",
              "\u001b[1;38;2;118;185;0m        \u001b[0m\u001b[1;35mSystemMessage\u001b[0m\u001b[1;38;2;118;185;0m(\u001b[0m\n",
              "\u001b[1;38;2;118;185;0m            \u001b[0m\u001b[1;33mcontent\u001b[0m\u001b[1;38;2;118;185;0m=\u001b[0m\u001b[32m\"You\u001b[0m\u001b[32m are a document chatbot. Help the user as they ask questions about documents. User messaged\u001b[0m\n",
              "\u001b[32mjust asked: tell me something about prediction\\n\\n From this, we have retrieved the following potentially-useful \u001b[0m\n",
              "\u001b[32minfo:  Conversation History Retrieval:\\n\u001b[0m\u001b[32m[\u001b[0m\u001b[32mQuote from Document\u001b[0m\u001b[32m]\u001b[0m\u001b[32m User previously responded with Tell me about events \u001b[0m\n",
              "\u001b[32mprediction!\\n\u001b[0m\u001b[32m[\u001b[0m\u001b[32mQuote from Document\u001b[0m\u001b[32m]\u001b[0m\u001b[32m Agent previously responded with Sure, I'd be happy to help you understand event \u001b[0m\n",
              "\u001b[32mprediction, particularly in the context of extreme events.\\n\\nEvent prediction involves using various techniques to\u001b[0m\n",
              "\u001b[32mestimate the likelihood and potential impact of future events. In the context of extreme events, such as droughts, \u001b[0m\n",
              "\u001b[32mheatwaves, floods, and wildfires, event prediction is crucial for improving disaster response and \u001b[0m\n",
              "\u001b[32mcommunication.\\n\\nOne approach to extreme event prediction is to model the event as a video prediction task, using \u001b[0m\n",
              "\u001b[32msatellite imagery and climate variables. For example, the vegetation response under extreme drought conditions can \u001b[0m\n",
              "\u001b[32mbe modeled in this way \u001b[0m\u001b[32m[\u001b[0m\u001b[32m1\u001b[0m\u001b[32m]\u001b[0m\u001b[32m. Another common approach is to estimate an indicator that defines the extreme event, \u001b[0m\n",
              "\u001b[32msuch as flood risk maps or drought indices \u001b[0m\u001b[32m[\u001b[0m\u001b[32m2\u001b[0m\u001b[32m]\u001b[0m\u001b[32m. The estimated variables can cover different lead times depending on\u001b[0m\n",
              "\u001b[32mthe characteristics of the extreme event, ranging from short-term prediction to seasonal prediction \u001b[0m\n",
              "\u001b[32m[\u001b[0m\u001b[32m3\u001b[0m\u001b[32m]\u001b[0m\u001b[32m.\\n\\nRecently, deep learning \u001b[0m\u001b[32m(\u001b[0m\u001b[32mDL\u001b[0m\u001b[32m)\u001b[0m\u001b[32m-based prediction techniques have gained popularity for their ability to \u001b[0m\n",
              "\u001b[32mprocess large data volumes, capture complex nonlinear relationships, and reduce manual feature engineering. These \u001b[0m\n",
              "\u001b[32mbenefits have led to the creation of global models that generalize across various locations, as seen in flood and \u001b[0m\n",
              "\u001b[32mwildfire predictions \u001b[0m\u001b[32m[\u001b[0m\u001b[32m4\u001b[0m\u001b[32m]\u001b[0m\u001b[32m[\u001b[0m\u001b[32m5\u001b[0m\u001b[32m]\u001b[0m\u001b[32m.\\n\\nAlternative probabilistic models, such as surrogate meteorological and hydrological\u001b[0m\n",
              "\u001b[32mseasonal re-forecasts, Gaussian processes, and nonlinear dependence measures, have also been proposed for extreme \u001b[0m\n",
              "\u001b[32mevent prediction \u001b[0m\u001b[32m[\u001b[0m\u001b[32m6\u001b[0m\u001b[32m]\u001b[0m\u001b[32m. These models focus on predicting the probability distribution of future variable states, \u001b[0m\n",
              "\u001b[32mrather than providing a single deterministic prediction.\\n\\nOverall, AI has the potential to significantly improve \u001b[0m\n",
              "\u001b[32mextreme event prediction and understanding, but collaboration across different fields is essential to create \u001b[0m\n",
              "\u001b[32mpractical, understandable, and trustworthy AI solutions for analyzing and predicting extreme \u001b[0m\n",
              "\u001b[32mevents.\\n\\nReferences:\\n\u001b[0m\u001b[32m[\u001b[0m\u001b[32m1\u001b[0m\u001b[32m]\u001b[0m\u001b[32m AI for Extreme Event Modeling and Understanding: Methodologies and Challenges, page \u001b[0m\n",
              "\u001b[32m4\\n\u001b[0m\u001b[32m[\u001b[0m\u001b[32m2\u001b[0m\u001b[32m]\u001b[0m\u001b[32m AI for Extreme Event Modeling and Understanding: Methodologies and Challenges, page 4\\n\u001b[0m\u001b[32m[\u001b[0m\u001b[32m3\u001b[0m\u001b[32m]\u001b[0m\u001b[32m AI for Extreme \u001b[0m\n",
              "\u001b[32mEvent Modeling and Understanding: Methodologies and Challenges, page 4\\n\u001b[0m\u001b[32m[\u001b[0m\u001b[32m4\u001b[0m\u001b[32m]\u001b[0m\u001b[32m AI for Extreme Event Modeling and \u001b[0m\n",
              "\u001b[32mUnderstanding: Methodologies and Challenges, page 5\\n\u001b[0m\u001b[32m[\u001b[0m\u001b[32m5\u001b[0m\u001b[32m]\u001b[0m\u001b[32m AI for Extreme Event Modeling and Understanding: \u001b[0m\n",
              "\u001b[32mMethodologies and Challenges, page 5\\n\u001b[0m\u001b[32m[\u001b[0m\u001b[32m6\u001b[0m\u001b[32m]\u001b[0m\u001b[32m AI for Extreme Event Modeling and Understanding: Methodologies and \u001b[0m\n",
              "\u001b[32mChallenges, page 6\\n\\n\\n Document Retrieval:\\n\u001b[0m\u001b[32m[\u001b[0m\u001b[32mQuote from Decision-Focused Learning to Predict Action Costs for \u001b[0m\n",
              "\u001b[32mPlanning\u001b[0m\u001b[32m]\u001b[0m\u001b[32m . In this case, predicting the costs using ML methods is a natural choice. When the\\\\nground truth action\u001b[0m\n",
              "\u001b[32mcosts are unknown, we employ a trained ML model M\\\\u03c9 to predict the action\\\\ncosts from features X. The \u001b[0m\n",
              "\u001b[32mtrainable parameters, denoted as \\\\u03c9, are estimated using a set of past\\\\nobservations, used as a training \u001b[0m\n",
              "\u001b[32mdataset for the ML model. To obtain a feasible plan in this setting,\\\\nthe action costs are first predicted using \u001b[0m\n",
              "\u001b[32mML, followed by the generation of a plan optimized with\\\\nrespect to the predicted costs. This pipeline is commonly\u001b[0m\n",
              "\u001b[32mreferred to as the Predict-then-Optimize\\\\nproblem formulation in the literature \u001b[0m\u001b[32m[\u001b[0m\u001b[32mElmachtoub and Grigas, 2022, \u001b[0m\n",
              "\u001b[32mMandi et al., 2020\u001b[0m\u001b[32m]\u001b[0m\u001b[32m. We present a\\\\nschematic diagram illustrating Predict-then-Optimize in the context of planning\u001b[0m\n",
              "\u001b[32mproblems in Figure 1.\\\\nVector representation.\\\\nState-of-the-art ML architectures, including neural networks, \u001b[0m\n",
              "\u001b[32mrepresent the\\\\ndata in matrix and vector form\\n\u001b[0m\u001b[32m[\u001b[0m\u001b[32mQuote from AI for Extreme Event Modeling and Understanding: \u001b[0m\n",
              "\u001b[32mMethodologies and Challenges\u001b[0m\u001b[32m]\u001b[0m\u001b[32m . Here, for example, the vegetation\\\\nresponse under extreme drought conditions is \u001b[0m\n",
              "\u001b[32mmodeled as a video predic-\\\\ntion task of the satellite imagery while conditioning on the climate \u001b[0m\n",
              "\u001b[32mvariables.\\\\nAnother common approach is to directly estimate an indicator that defines\\\\nthe extreme event, e.g. \u001b[0m\n",
              "\u001b[32mflood risk maps \u001b[0m\u001b[32m[\u001b[0m\u001b[32m29\u001b[0m\u001b[32m]\u001b[0m\u001b[32m or drought indices \u001b[0m\u001b[32m[\u001b[0m\u001b[32m30\u001b[0m\u001b[32m]\u001b[0m\u001b[32m. The esti-\\\\nmated variables can cover different lead times depending \u001b[0m\n",
              "\u001b[32mon the characteristics\\\\nof the extreme, spanning from short-term prediction to seasonal prediction\\\\n\u001b[0m\u001b[32m[\u001b[0m\u001b[32m31\u001b[0m\u001b[32m]\u001b[0m\u001b[32m. \u001b[0m\n",
              "\u001b[32mRecently, DL-based prediction techniques have gained popularity for their\\\\nability to process large data volumes, \u001b[0m\n",
              "\u001b[32mcapture complex nonlinear relationships,\\\\nand reduce manual feature engineering. These benefits have led to the \u001b[0m\n",
              "\u001b[32mcreation\\\\nof global models that generalize across various locations, as seen in flood \u001b[0m\u001b[32m[\u001b[0m\u001b[32m32\u001b[0m\u001b[32m]\u001b[0m\u001b[32m\\\\nand wildfire \u001b[0m\u001b[32m[\u001b[0m\u001b[32m33\u001b[0m\u001b[32m]\u001b[0m\u001b[32m \u001b[0m\n",
              "\u001b[32mpredictions.\\\\nProbabilistic models, unlike deterministic ones, focus on predicting the\\\\nprobability distribution \u001b[0m\n",
              "\u001b[32mof future variable states\\n\u001b[0m\u001b[32m[\u001b[0m\u001b[32mQuote from Causal machine learning for sustainable agroecosystems\u001b[0m\u001b[32m]\u001b[0m\u001b[32m .\\\\n\\\\u2022 \u001b[0m\n",
              "\u001b[32mQuestion. What is the effect of a crop rotation on the field\\\\u2019s soil health?\\\\n\\\\u2022 Predictive ML can \u001b[0m\n",
              "\u001b[32mdetect correlations based on historical data and esti-\\\\nmate soil health from crop rotation data. However, it may \u001b[0m\n",
              "\u001b[32mmistakenly\\\\nattribute soil health changes to crop rotation.\\\\n\\\\u2022 ML for causality allows us to express the \u001b[0m\n",
              "\u001b[32mdecisions as causal questions\\\\nand to use ML guided by causal reasoning to answer them, i.e. to quan-\\\\ntify to \u001b[0m\n",
              "\u001b[32mwhat extent the observed changes in soil health can be attributed\\\\nto crop rotations.\\\\nPredictive tasks: Use the \u001b[0m\n",
              "\u001b[32mpatterns in a training dataset to model\\\\nassociative relationships to predict outcomes in a test \u001b[0m\n",
              "\u001b[32mdataset.\\\\n\\\\u2022 Task. Predict yield in Africa by exploiting the relationship between\\\\nyield and biomass \u001b[0m\n",
              "\u001b[32mobserved in Europe.\\\\n\\\\u2022 Predictive ML. It exploits all patterns produced by associative rela-\\\\ntionships to \u001b[0m\n",
              "\u001b[32mobtain accurate models. However, it relies on training and\\\\ntest data being very similar\\n\u001b[0m\u001b[32m[\u001b[0m\u001b[32mQuote from AI for \u001b[0m\n",
              "\u001b[32mExtreme Event Modeling and Understanding: Methodologies and Challenges\u001b[0m\u001b[32m]\u001b[0m\u001b[32m .\\\\nAlternative probabilistic \u001b[0m\u001b[32m(\u001b[0m\u001b[32mML\u001b[0m\u001b[32m)\u001b[0m\u001b[32m models \u001b[0m\n",
              "\u001b[32mhave relied on surrogate meteorological\\\\nand hydrological seasonal re-forecasts \u001b[0m\u001b[32m[\u001b[0m\u001b[32m24\u001b[0m\u001b[32m]\u001b[0m\u001b[32m, Gaussian processes and \u001b[0m\n",
              "\u001b[32mnonlinear\\\\ndependence measures \u001b[0m\u001b[32m[\u001b[0m\u001b[32m25\u001b[0m\u001b[32m]\u001b[0m\u001b[32m and multivariate Gaussianization \u001b[0m\u001b[32m[\u001b[0m\u001b[32m26\u001b[0m\u001b[32m]\u001b[0m\u001b[32m.\\\\n2.1.2 Prediction\\\\nDesigning \u001b[0m\n",
              "\u001b[32mpredictive systems that accurately model extreme events is essen-\\\\ntial to anticipating the effects of future \u001b[0m\n",
              "\u001b[32mextreme events and providing critical\\\\ninformation for decision-makers to prevent damages. Spatial and \u001b[0m\n",
              "\u001b[32mtemporal\\\\npredictions aim to provide a quantitative estimate of the future value of the\\\\nEarth\\\\u2019s state \u001b[0m\n",
              "\u001b[32m(\u001b[0m\u001b[32mTable 1\u001b[0m\u001b[32m)\u001b[0m\u001b[32m.\\\\nMany ML algorithms have been proposed for deterministic extreme event\\\\nprediction, but most are only \u001b[0m\n",
              "\u001b[32mapplied to small regions and specific use cases,\\\\nthough. Prediction can be performed using climate variables \u001b[0m\n",
              "\u001b[32malone \u001b[0m\u001b[32m[\u001b[0m\u001b[32m27\u001b[0m\u001b[32m]\u001b[0m\u001b[32m or\\\\nin combination with satellite imagery \u001b[0m\u001b[32m[\u001b[0m\u001b[32m28\u001b[0m\u001b[32m]\u001b[0m\u001b[32m\\n\\n\\n \u001b[0m\u001b[32m(\u001b[0m\u001b[32mAnswer only from retrieval. Only cite sources \u001b[0m\n",
              "\u001b[32mthat are used. Make your response conversational.\u001b[0m\u001b[32m)\u001b[0m\u001b[32m\"\u001b[0m\n",
              "\u001b[1;38;2;118;185;0m        \u001b[0m\u001b[1;38;2;118;185;0m)\u001b[0m\u001b[1;38;2;118;185;0m,\u001b[0m\n",
              "\u001b[1;38;2;118;185;0m        \u001b[0m\u001b[1;35mHumanMessage\u001b[0m\u001b[1;38;2;118;185;0m(\u001b[0m\u001b[1;33mcontent\u001b[0m\u001b[1;38;2;118;185;0m=\u001b[0m\u001b[32m'tell me something about prediction'\u001b[0m\u001b[1;38;2;118;185;0m)\u001b[0m\n",
              "\u001b[1;38;2;118;185;0m    \u001b[0m\u001b[1;38;2;118;185;0m]\u001b[0m\n",
              "\u001b[1;38;2;118;185;0m)\u001b[0m\n"
            ]
          },
          "metadata": {},
          "output_type": "display_data"
        },
        {
          "data": {
            "text/html": [
              "<pre style=\"white-space:pre;overflow-x:auto;line-height:normal;font-family:Menlo,'DejaVu Sans Mono',consolas,'Courier New',monospace\"><span style=\"color: #76b900; text-decoration-color: #76b900; font-weight: bold\">{</span>\n",
              "<span style=\"color: #76b900; text-decoration-color: #76b900; font-weight: bold\">    </span><span style=\"color: #008000; text-decoration-color: #008000\">'input'</span><span style=\"color: #76b900; text-decoration-color: #76b900; font-weight: bold\">: </span><span style=\"color: #008000; text-decoration-color: #008000\">'which are is not still being studied to have a great weather forecasting'</span><span style=\"color: #76b900; text-decoration-color: #76b900; font-weight: bold\">,</span>\n",
              "<span style=\"color: #76b900; text-decoration-color: #76b900; font-weight: bold\">    </span><span style=\"color: #008000; text-decoration-color: #008000\">'history'</span><span style=\"color: #76b900; text-decoration-color: #76b900; font-weight: bold\">: </span><span style=\"color: #008000; text-decoration-color: #008000\">\"[Quote from Document] Agent previously responded with Sure, I'd be happy to help you understand </span>\n",
              "<span style=\"color: #008000; text-decoration-color: #008000\">event prediction, particularly in the context of extreme events.\\n\\nEvent prediction involves using various </span>\n",
              "<span style=\"color: #008000; text-decoration-color: #008000\">techniques to estimate the likelihood and potential impact of future events. In the context of extreme events, such</span>\n",
              "<span style=\"color: #008000; text-decoration-color: #008000\">as droughts, heatwaves, floods, and wildfires, event prediction is crucial for improving disaster response and </span>\n",
              "<span style=\"color: #008000; text-decoration-color: #008000\">communication.\\n\\nOne approach to extreme event prediction is to model the event as a video prediction task, using </span>\n",
              "<span style=\"color: #008000; text-decoration-color: #008000\">satellite imagery and climate variables. For example, the vegetation response under extreme drought conditions can </span>\n",
              "<span style=\"color: #008000; text-decoration-color: #008000\">be modeled in this way [1]. Another common approach is to estimate an indicator that defines the extreme event, </span>\n",
              "<span style=\"color: #008000; text-decoration-color: #008000\">such as flood risk maps or drought indices [2]. The estimated variables can cover different lead times depending on</span>\n",
              "<span style=\"color: #008000; text-decoration-color: #008000\">the characteristics of the extreme event, ranging from short-term prediction to seasonal prediction </span>\n",
              "<span style=\"color: #008000; text-decoration-color: #008000\">[3].\\n\\nRecently, deep learning (DL)-based prediction techniques have gained popularity for their ability to </span>\n",
              "<span style=\"color: #008000; text-decoration-color: #008000\">process large data volumes, capture complex nonlinear relationships, and reduce manual feature engineering. These </span>\n",
              "<span style=\"color: #008000; text-decoration-color: #008000\">benefits have led to the creation of global models that generalize across various locations, as seen in flood and </span>\n",
              "<span style=\"color: #008000; text-decoration-color: #008000\">wildfire predictions [4][5].\\n\\nAlternative probabilistic models, such as surrogate meteorological and hydrological</span>\n",
              "<span style=\"color: #008000; text-decoration-color: #008000\">seasonal re-forecasts, Gaussian processes, and nonlinear dependence measures, have also been proposed for extreme </span>\n",
              "<span style=\"color: #008000; text-decoration-color: #008000\">event prediction [6]. These models focus on predicting the probability distribution of future variable states, </span>\n",
              "<span style=\"color: #008000; text-decoration-color: #008000\">rather than providing a single deterministic prediction.\\n\\nOverall, AI has the potential to significantly improve </span>\n",
              "<span style=\"color: #008000; text-decoration-color: #008000\">extreme event prediction and understanding, but collaboration across different fields is essential to create </span>\n",
              "<span style=\"color: #008000; text-decoration-color: #008000\">practical, understandable, and trustworthy AI solutions for analyzing and predicting extreme </span>\n",
              "<span style=\"color: #008000; text-decoration-color: #008000\">events.\\n\\nReferences:\\n[1] AI for Extreme Event Modeling and Understanding: Methodologies and Challenges, page </span>\n",
              "<span style=\"color: #008000; text-decoration-color: #008000\">4\\n[2] AI for Extreme Event Modeling and Understanding: Methodologies and Challenges, page 4\\n[3] AI for Extreme </span>\n",
              "<span style=\"color: #008000; text-decoration-color: #008000\">Event Modeling and Understanding: Methodologies and Challenges, page 4\\n[4] AI for Extreme Event Modeling and </span>\n",
              "<span style=\"color: #008000; text-decoration-color: #008000\">Understanding: Methodologies and Challenges, page 5\\n[5] AI for Extreme Event Modeling and Understanding: </span>\n",
              "<span style=\"color: #008000; text-decoration-color: #008000\">Methodologies and Challenges, page 5\\n[6] AI for Extreme Event Modeling and Understanding: Methodologies and </span>\n",
              "<span style=\"color: #008000; text-decoration-color: #008000\">Challenges, page 6\\n[Quote from Document] User previously responded with tell me something about prediction\\n[Quote</span>\n",
              "<span style=\"color: #008000; text-decoration-color: #008000\">from Document] User previously responded with Tell me about events prediction!\\n[Quote from Document] Agent </span>\n",
              "<span style=\"color: #008000; text-decoration-color: #008000\">previously responded with Prediction is the process of estimating the likelihood or outcome of future events using </span>\n",
              "<span style=\"color: #008000; text-decoration-color: #008000\">various techniques and models. In the context of extreme events, such as droughts, heatwaves, floods, and </span>\n",
              "<span style=\"color: #008000; text-decoration-color: #008000\">wildfires, prediction is crucial for improving disaster response and communication.\\n\\nThere are different </span>\n",
              "<span style=\"color: #008000; text-decoration-color: #008000\">approaches to extreme event prediction. One approach is to model the event as a video prediction task using </span>\n",
              "<span style=\"color: #008000; text-decoration-color: #008000\">satellite imagery and climate variables. For instance, the vegetation response under extreme drought conditions can</span>\n",
              "<span style=\"color: #008000; text-decoration-color: #008000\">be modeled in this way (AI for Extreme Event Modeling and Understanding: Methodologies and Challenges, page 4). </span>\n",
              "<span style=\"color: #008000; text-decoration-color: #008000\">Another common approach is to estimate an indicator that defines the extreme event, such as flood risk maps or </span>\n",
              "<span style=\"color: #008000; text-decoration-color: #008000\">drought indices (AI for Extreme Event Modeling and Understanding: Methodologies and Challenges, page </span>\n",
              "<span style=\"color: #008000; text-decoration-color: #008000\">4).\\n\\nRecently, deep learning (DL)-based prediction techniques have gained popularity for their ability to process</span>\n",
              "<span style=\"color: #008000; text-decoration-color: #008000\">large data volumes, capture complex nonlinear relationships, and reduce manual feature engineering (AI for Extreme </span>\n",
              "<span style=\"color: #008000; text-decoration-color: #008000\">Event Modeling and Understanding: Methodologies and Challenges, page 5). These benefits have led to the creation of</span>\n",
              "<span style=\"color: #008000; text-decoration-color: #008000\">global models that generalize across various locations, as seen in flood and wildfire predictions (AI for Extreme </span>\n",
              "<span style=\"color: #008000; text-decoration-color: #008000\">Event Modeling and Understanding: Methodologies and Challenges, page 5).\\n\\nAlternative probabilistic models, such </span>\n",
              "<span style=\"color: #008000; text-decoration-color: #008000\">as surrogate meteorological and hydrological seasonal re-forecasts, Gaussian processes, and nonlinear dependence </span>\n",
              "<span style=\"color: #008000; text-decoration-color: #008000\">measures, have also been proposed for extreme event prediction (AI for Extreme Event Modeling and Understanding: </span>\n",
              "<span style=\"color: #008000; text-decoration-color: #008000\">Methodologies and Challenges, page 6). These models focus on predicting the probability distribution of future </span>\n",
              "<span style=\"color: #008000; text-decoration-color: #008000\">variable states, rather than providing a single deterministic prediction.\\n\\nIn summary, prediction is a key </span>\n",
              "<span style=\"color: #008000; text-decoration-color: #008000\">component in understanding and preparing for future extreme events. By using various techniques and models, such as</span>\n",
              "<span style=\"color: #008000; text-decoration-color: #008000\">DL-based prediction and probabilistic models, we can estimate the likelihood and potential impact of extreme events</span>\n",
              "<span style=\"color: #008000; text-decoration-color: #008000\">and improve disaster response and communication.\\n\"</span><span style=\"color: #76b900; text-decoration-color: #76b900; font-weight: bold\">,</span>\n",
              "<span style=\"color: #76b900; text-decoration-color: #76b900; font-weight: bold\">    </span><span style=\"color: #008000; text-decoration-color: #008000\">'context'</span><span style=\"color: #76b900; text-decoration-color: #76b900; font-weight: bold\">: </span><span style=\"color: #008000; text-decoration-color: #008000\">'[Quote from Kilometer-Scale Convection Allowing Model Emulation using Generative Diffusion </span>\n",
              "<span style=\"color: #008000; text-decoration-color: #008000\">Modeling] .\\\\nTaken together, these results imply strong potential for generative autoregressive ML as a valid </span>\n",
              "<span style=\"color: #008000; text-decoration-color: #008000\">alternative to traditional\\\\nkm-scale numerical prediction \\\\u2013 enabling new applications in weather forecasting</span>\n",
              "<span style=\"color: #008000; text-decoration-color: #008000\">and climate downscaling alike.\\\\nWe readily admit several limitations of our model worthy of future work. StormCast</span>\n",
              "<span style=\"color: #008000; text-decoration-color: #008000\">was trained on a relatively small\\\\namount of data from 3.5 years of HRRR analysis. Increasing the volume of </span>\n",
              "<span style=\"color: #008000; text-decoration-color: #008000\">training data could improve the forecast\\\\naccuracy of future models. Similarly, increasing the domain size of </span>\n",
              "<span style=\"color: #008000; text-decoration-color: #008000\">training could expose the model to a more diverse set\\\\nof severe weather phenomena to learn from. Reanalysis </span>\n",
              "<span style=\"color: #008000; text-decoration-color: #008000\">datasets such as CONUS404 [69] offer much longer historical\\\\nrecords and could be leveraged for training to </span>\n",
              "<span style=\"color: #008000; text-decoration-color: #008000\">improve model performance. We inadvertently trained on forecast state\\\\ndata lagged one hour from the HRRR data </span>\n",
              "<span style=\"color: #008000; text-decoration-color: #008000\">assimilation cycle; training directly on data assimilated state data could\\\\nproduce complementary skill\\n[Quote </span>\n",
              "<span style=\"color: #008000; text-decoration-color: #008000\">from Kilometer-Scale Convection Allowing Model Emulation using Generative Diffusion Modeling] .While\\\\nnot bound by</span>\n",
              "<span style=\"color: #008000; text-decoration-color: #008000\">constraints like the Courant-Friedrichs-Lewy (CFL) condition, deterministic ML models will predict\\\\nthe ensemble </span>\n",
              "<span style=\"color: #008000; text-decoration-color: #008000\">mean and filter-out any spatial scales not predictable at that lead time producing unrealistically </span>\n",
              "<span style=\"color: #008000; text-decoration-color: #008000\">smooth\\\\nforecasts. Unfortunately, the most readily available and quality-controlled regional high-resolution and </span>\n",
              "<span style=\"color: #008000; text-decoration-color: #008000\">global low-\\\\nresolution weather datasets are available at a one-hour sampling interval. At this time-scale only </span>\n",
              "<span style=\"color: #008000; text-decoration-color: #008000\">spatial scales larger than\\\\n10-20km are predictable [24, 25] so deterministic models trained with such data will </span>\n",
              "<span style=\"color: #008000; text-decoration-color: #008000\">not produce realistic variability at\\\\nthe km-scale. Therefore the available data for regional convective-scale ML </span>\n",
              "<span style=\"color: #008000; text-decoration-color: #008000\">training is under-sampled in time compared\\\\nto global reanalyses such as ERA5 [26]. Consistent with this view, </span>\n",
              "<span style=\"color: #008000; text-decoration-color: #008000\">Ref\\n[Quote from Kilometer-Scale Convection Allowing Model Emulation using Generative Diffusion Modeling] . Further</span>\n",
              "<span style=\"color: #008000; text-decoration-color: #008000\">improving ensemble calibration could\\\\nunlock the path to very large operational ML ensemble forecasts at the </span>\n",
              "<span style=\"color: #008000; text-decoration-color: #008000\">km-scale that would otherwise incur prohibitive\\\\ncomputational costs with current numerical models.\\\\nFurther work</span>\n",
              "<span style=\"color: #008000; text-decoration-color: #008000\">is needed to evaluate the physical consistency and statistical skill of mesoscale ML prediction models\\\\nsuch as </span>\n",
              "<span style=\"color: #008000; text-decoration-color: #008000\">StormCast. This requires a community effort in designing appropriate forecast baselines and metrics. </span>\n",
              "<span style=\"color: #008000; text-decoration-color: #008000\">The\\\\nperformance of ML models in accurately forecasting severe weather must be rigorously tested before such </span>\n",
              "<span style=\"color: #008000; text-decoration-color: #008000\">models\\\\ncan be used in an operational setting. The role of meteorologists and atmospheric scientists will be </span>\n",
              "<span style=\"color: #008000; text-decoration-color: #008000\">prominent in\\\\ndesigning benchmarks for mesoscale weather forecasts, particularly in assessing forecast skill on </span>\n",
              "<span style=\"color: #008000; text-decoration-color: #008000\">severe weather\\n[Quote from Kilometer-Scale Convection Allowing Model Emulation using Generative Diffusion </span>\n",
              "<span style=\"color: #008000; text-decoration-color: #008000\">Modeling] .\\\\nLeading Numerical Weather Forecast centers such as the European Center for Medium Range Weather </span>\n",
              "<span style=\"color: #008000; text-decoration-color: #008000\">Forecasting\\\\n(ECMWF) and the US National Oceanic and Atmospheric Administration (NOAA) have played a role both as </span>\n",
              "<span style=\"color: #008000; text-decoration-color: #008000\">creators\\\\nof state-of-the-art ML models [17] as well as the trustworthy arbiters of the forecast quality of novel </span>\n",
              "<span style=\"color: #008000; text-decoration-color: #008000\">experimental\\\\nML forecast paradigms emerging from academia, industry and operational centers. To achieve its full </span>\n",
              "<span style=\"color: #008000; text-decoration-color: #008000\">potential, new\\\\nsimulation datasets at various length and time scales will need to be created tailored to ML model</span>\n",
              "<span style=\"color: #008000; text-decoration-color: #008000\">training. We hope\\\\nthat the results presented in our work inspire the development of regional analysis, </span>\n",
              "<span style=\"color: #008000; text-decoration-color: #008000\">re-analysis and re-forecast datasets\\\\nover different parts of the globe for training ML models such as </span>\n",
              "<span style=\"color: #008000; text-decoration-color: #008000\">StormCast.\\\\nOur current work focuses on model emulation alone\\n'</span>\n",
              "<span style=\"color: #76b900; text-decoration-color: #76b900; font-weight: bold\">}</span>\n",
              "</pre>\n"
            ],
            "text/plain": [
              "\u001b[1;38;2;118;185;0m{\u001b[0m\n",
              "\u001b[1;38;2;118;185;0m    \u001b[0m\u001b[32m'input'\u001b[0m\u001b[1;38;2;118;185;0m: \u001b[0m\u001b[32m'which are is not still being studied to have a great weather forecasting'\u001b[0m\u001b[1;38;2;118;185;0m,\u001b[0m\n",
              "\u001b[1;38;2;118;185;0m    \u001b[0m\u001b[32m'history'\u001b[0m\u001b[1;38;2;118;185;0m: \u001b[0m\u001b[32m\"\u001b[0m\u001b[32m[\u001b[0m\u001b[32mQuote from Document\u001b[0m\u001b[32m]\u001b[0m\u001b[32m Agent previously responded with Sure, I'd be happy to help you understand \u001b[0m\n",
              "\u001b[32mevent prediction, particularly in the context of extreme events.\\n\\nEvent prediction involves using various \u001b[0m\n",
              "\u001b[32mtechniques to estimate the likelihood and potential impact of future events. In the context of extreme events, such\u001b[0m\n",
              "\u001b[32mas droughts, heatwaves, floods, and wildfires, event prediction is crucial for improving disaster response and \u001b[0m\n",
              "\u001b[32mcommunication.\\n\\nOne approach to extreme event prediction is to model the event as a video prediction task, using \u001b[0m\n",
              "\u001b[32msatellite imagery and climate variables. For example, the vegetation response under extreme drought conditions can \u001b[0m\n",
              "\u001b[32mbe modeled in this way \u001b[0m\u001b[32m[\u001b[0m\u001b[32m1\u001b[0m\u001b[32m]\u001b[0m\u001b[32m. Another common approach is to estimate an indicator that defines the extreme event, \u001b[0m\n",
              "\u001b[32msuch as flood risk maps or drought indices \u001b[0m\u001b[32m[\u001b[0m\u001b[32m2\u001b[0m\u001b[32m]\u001b[0m\u001b[32m. The estimated variables can cover different lead times depending on\u001b[0m\n",
              "\u001b[32mthe characteristics of the extreme event, ranging from short-term prediction to seasonal prediction \u001b[0m\n",
              "\u001b[32m[\u001b[0m\u001b[32m3\u001b[0m\u001b[32m]\u001b[0m\u001b[32m.\\n\\nRecently, deep learning \u001b[0m\u001b[32m(\u001b[0m\u001b[32mDL\u001b[0m\u001b[32m)\u001b[0m\u001b[32m-based prediction techniques have gained popularity for their ability to \u001b[0m\n",
              "\u001b[32mprocess large data volumes, capture complex nonlinear relationships, and reduce manual feature engineering. These \u001b[0m\n",
              "\u001b[32mbenefits have led to the creation of global models that generalize across various locations, as seen in flood and \u001b[0m\n",
              "\u001b[32mwildfire predictions \u001b[0m\u001b[32m[\u001b[0m\u001b[32m4\u001b[0m\u001b[32m]\u001b[0m\u001b[32m[\u001b[0m\u001b[32m5\u001b[0m\u001b[32m]\u001b[0m\u001b[32m.\\n\\nAlternative probabilistic models, such as surrogate meteorological and hydrological\u001b[0m\n",
              "\u001b[32mseasonal re-forecasts, Gaussian processes, and nonlinear dependence measures, have also been proposed for extreme \u001b[0m\n",
              "\u001b[32mevent prediction \u001b[0m\u001b[32m[\u001b[0m\u001b[32m6\u001b[0m\u001b[32m]\u001b[0m\u001b[32m. These models focus on predicting the probability distribution of future variable states, \u001b[0m\n",
              "\u001b[32mrather than providing a single deterministic prediction.\\n\\nOverall, AI has the potential to significantly improve \u001b[0m\n",
              "\u001b[32mextreme event prediction and understanding, but collaboration across different fields is essential to create \u001b[0m\n",
              "\u001b[32mpractical, understandable, and trustworthy AI solutions for analyzing and predicting extreme \u001b[0m\n",
              "\u001b[32mevents.\\n\\nReferences:\\n\u001b[0m\u001b[32m[\u001b[0m\u001b[32m1\u001b[0m\u001b[32m]\u001b[0m\u001b[32m AI for Extreme Event Modeling and Understanding: Methodologies and Challenges, page \u001b[0m\n",
              "\u001b[32m4\\n\u001b[0m\u001b[32m[\u001b[0m\u001b[32m2\u001b[0m\u001b[32m]\u001b[0m\u001b[32m AI for Extreme Event Modeling and Understanding: Methodologies and Challenges, page 4\\n\u001b[0m\u001b[32m[\u001b[0m\u001b[32m3\u001b[0m\u001b[32m]\u001b[0m\u001b[32m AI for Extreme \u001b[0m\n",
              "\u001b[32mEvent Modeling and Understanding: Methodologies and Challenges, page 4\\n\u001b[0m\u001b[32m[\u001b[0m\u001b[32m4\u001b[0m\u001b[32m]\u001b[0m\u001b[32m AI for Extreme Event Modeling and \u001b[0m\n",
              "\u001b[32mUnderstanding: Methodologies and Challenges, page 5\\n\u001b[0m\u001b[32m[\u001b[0m\u001b[32m5\u001b[0m\u001b[32m]\u001b[0m\u001b[32m AI for Extreme Event Modeling and Understanding: \u001b[0m\n",
              "\u001b[32mMethodologies and Challenges, page 5\\n\u001b[0m\u001b[32m[\u001b[0m\u001b[32m6\u001b[0m\u001b[32m]\u001b[0m\u001b[32m AI for Extreme Event Modeling and Understanding: Methodologies and \u001b[0m\n",
              "\u001b[32mChallenges, page 6\\n\u001b[0m\u001b[32m[\u001b[0m\u001b[32mQuote from Document\u001b[0m\u001b[32m]\u001b[0m\u001b[32m User previously responded with tell me something about prediction\\n\u001b[0m\u001b[32m[\u001b[0m\u001b[32mQuote\u001b[0m\n",
              "\u001b[32mfrom Document\u001b[0m\u001b[32m]\u001b[0m\u001b[32m User previously responded with Tell me about events prediction!\\n\u001b[0m\u001b[32m[\u001b[0m\u001b[32mQuote from Document\u001b[0m\u001b[32m]\u001b[0m\u001b[32m Agent \u001b[0m\n",
              "\u001b[32mpreviously responded with Prediction is the process of estimating the likelihood or outcome of future events using \u001b[0m\n",
              "\u001b[32mvarious techniques and models. In the context of extreme events, such as droughts, heatwaves, floods, and \u001b[0m\n",
              "\u001b[32mwildfires, prediction is crucial for improving disaster response and communication.\\n\\nThere are different \u001b[0m\n",
              "\u001b[32mapproaches to extreme event prediction. One approach is to model the event as a video prediction task using \u001b[0m\n",
              "\u001b[32msatellite imagery and climate variables. For instance, the vegetation response under extreme drought conditions can\u001b[0m\n",
              "\u001b[32mbe modeled in this way \u001b[0m\u001b[32m(\u001b[0m\u001b[32mAI for Extreme Event Modeling and Understanding: Methodologies and Challenges, page 4\u001b[0m\u001b[32m)\u001b[0m\u001b[32m. \u001b[0m\n",
              "\u001b[32mAnother common approach is to estimate an indicator that defines the extreme event, such as flood risk maps or \u001b[0m\n",
              "\u001b[32mdrought indices \u001b[0m\u001b[32m(\u001b[0m\u001b[32mAI for Extreme Event Modeling and Understanding: Methodologies and Challenges, page \u001b[0m\n",
              "\u001b[32m4\u001b[0m\u001b[32m)\u001b[0m\u001b[32m.\\n\\nRecently, deep learning \u001b[0m\u001b[32m(\u001b[0m\u001b[32mDL\u001b[0m\u001b[32m)\u001b[0m\u001b[32m-based prediction techniques have gained popularity for their ability to process\u001b[0m\n",
              "\u001b[32mlarge data volumes, capture complex nonlinear relationships, and reduce manual feature engineering \u001b[0m\u001b[32m(\u001b[0m\u001b[32mAI for Extreme \u001b[0m\n",
              "\u001b[32mEvent Modeling and Understanding: Methodologies and Challenges, page 5\u001b[0m\u001b[32m)\u001b[0m\u001b[32m. These benefits have led to the creation of\u001b[0m\n",
              "\u001b[32mglobal models that generalize across various locations, as seen in flood and wildfire predictions \u001b[0m\u001b[32m(\u001b[0m\u001b[32mAI for Extreme \u001b[0m\n",
              "\u001b[32mEvent Modeling and Understanding: Methodologies and Challenges, page 5\u001b[0m\u001b[32m)\u001b[0m\u001b[32m.\\n\\nAlternative probabilistic models, such \u001b[0m\n",
              "\u001b[32mas surrogate meteorological and hydrological seasonal re-forecasts, Gaussian processes, and nonlinear dependence \u001b[0m\n",
              "\u001b[32mmeasures, have also been proposed for extreme event prediction \u001b[0m\u001b[32m(\u001b[0m\u001b[32mAI for Extreme Event Modeling and Understanding: \u001b[0m\n",
              "\u001b[32mMethodologies and Challenges, page 6\u001b[0m\u001b[32m)\u001b[0m\u001b[32m. These models focus on predicting the probability distribution of future \u001b[0m\n",
              "\u001b[32mvariable states, rather than providing a single deterministic prediction.\\n\\nIn summary, prediction is a key \u001b[0m\n",
              "\u001b[32mcomponent in understanding and preparing for future extreme events. By using various techniques and models, such as\u001b[0m\n",
              "\u001b[32mDL-based prediction and probabilistic models, we can estimate the likelihood and potential impact of extreme events\u001b[0m\n",
              "\u001b[32mand improve disaster response and communication.\\n\"\u001b[0m\u001b[1;38;2;118;185;0m,\u001b[0m\n",
              "\u001b[1;38;2;118;185;0m    \u001b[0m\u001b[32m'context'\u001b[0m\u001b[1;38;2;118;185;0m: \u001b[0m\u001b[32m'\u001b[0m\u001b[32m[\u001b[0m\u001b[32mQuote from Kilometer-Scale Convection Allowing Model Emulation using Generative Diffusion \u001b[0m\n",
              "\u001b[32mModeling\u001b[0m\u001b[32m]\u001b[0m\u001b[32m .\\\\nTaken together, these results imply strong potential for generative autoregressive ML as a valid \u001b[0m\n",
              "\u001b[32malternative to traditional\\\\nkm-scale numerical prediction \\\\u2013 enabling new applications in weather forecasting\u001b[0m\n",
              "\u001b[32mand climate downscaling alike.\\\\nWe readily admit several limitations of our model worthy of future work. StormCast\u001b[0m\n",
              "\u001b[32mwas trained on a relatively small\\\\namount of data from 3.5 years of HRRR analysis. Increasing the volume of \u001b[0m\n",
              "\u001b[32mtraining data could improve the forecast\\\\naccuracy of future models. Similarly, increasing the domain size of \u001b[0m\n",
              "\u001b[32mtraining could expose the model to a more diverse set\\\\nof severe weather phenomena to learn from. Reanalysis \u001b[0m\n",
              "\u001b[32mdatasets such as CONUS404 \u001b[0m\u001b[32m[\u001b[0m\u001b[32m69\u001b[0m\u001b[32m]\u001b[0m\u001b[32m offer much longer historical\\\\nrecords and could be leveraged for training to \u001b[0m\n",
              "\u001b[32mimprove model performance. We inadvertently trained on forecast state\\\\ndata lagged one hour from the HRRR data \u001b[0m\n",
              "\u001b[32massimilation cycle; training directly on data assimilated state data could\\\\nproduce complementary skill\\n\u001b[0m\u001b[32m[\u001b[0m\u001b[32mQuote \u001b[0m\n",
              "\u001b[32mfrom Kilometer-Scale Convection Allowing Model Emulation using Generative Diffusion Modeling\u001b[0m\u001b[32m]\u001b[0m\u001b[32m .While\\\\nnot bound by\u001b[0m\n",
              "\u001b[32mconstraints like the Courant-Friedrichs-Lewy \u001b[0m\u001b[32m(\u001b[0m\u001b[32mCFL\u001b[0m\u001b[32m)\u001b[0m\u001b[32m condition, deterministic ML models will predict\\\\nthe ensemble \u001b[0m\n",
              "\u001b[32mmean and filter-out any spatial scales not predictable at that lead time producing unrealistically \u001b[0m\n",
              "\u001b[32msmooth\\\\nforecasts. Unfortunately, the most readily available and quality-controlled regional high-resolution and \u001b[0m\n",
              "\u001b[32mglobal low-\\\\nresolution weather datasets are available at a one-hour sampling interval. At this time-scale only \u001b[0m\n",
              "\u001b[32mspatial scales larger than\\\\n10-20km are predictable \u001b[0m\u001b[32m[\u001b[0m\u001b[32m24, 25\u001b[0m\u001b[32m]\u001b[0m\u001b[32m so deterministic models trained with such data will \u001b[0m\n",
              "\u001b[32mnot produce realistic variability at\\\\nthe km-scale. Therefore the available data for regional convective-scale ML \u001b[0m\n",
              "\u001b[32mtraining is under-sampled in time compared\\\\nto global reanalyses such as ERA5 \u001b[0m\u001b[32m[\u001b[0m\u001b[32m26\u001b[0m\u001b[32m]\u001b[0m\u001b[32m. Consistent with this view, \u001b[0m\n",
              "\u001b[32mRef\\n\u001b[0m\u001b[32m[\u001b[0m\u001b[32mQuote from Kilometer-Scale Convection Allowing Model Emulation using Generative Diffusion Modeling\u001b[0m\u001b[32m]\u001b[0m\u001b[32m . Further\u001b[0m\n",
              "\u001b[32mimproving ensemble calibration could\\\\nunlock the path to very large operational ML ensemble forecasts at the \u001b[0m\n",
              "\u001b[32mkm-scale that would otherwise incur prohibitive\\\\ncomputational costs with current numerical models.\\\\nFurther work\u001b[0m\n",
              "\u001b[32mis needed to evaluate the physical consistency and statistical skill of mesoscale ML prediction models\\\\nsuch as \u001b[0m\n",
              "\u001b[32mStormCast. This requires a community effort in designing appropriate forecast baselines and metrics. \u001b[0m\n",
              "\u001b[32mThe\\\\nperformance of ML models in accurately forecasting severe weather must be rigorously tested before such \u001b[0m\n",
              "\u001b[32mmodels\\\\ncan be used in an operational setting. The role of meteorologists and atmospheric scientists will be \u001b[0m\n",
              "\u001b[32mprominent in\\\\ndesigning benchmarks for mesoscale weather forecasts, particularly in assessing forecast skill on \u001b[0m\n",
              "\u001b[32msevere weather\\n\u001b[0m\u001b[32m[\u001b[0m\u001b[32mQuote from Kilometer-Scale Convection Allowing Model Emulation using Generative Diffusion \u001b[0m\n",
              "\u001b[32mModeling\u001b[0m\u001b[32m]\u001b[0m\u001b[32m .\\\\nLeading Numerical Weather Forecast centers such as the European Center for Medium Range Weather \u001b[0m\n",
              "\u001b[32mForecasting\\\\n\u001b[0m\u001b[32m(\u001b[0m\u001b[32mECMWF\u001b[0m\u001b[32m)\u001b[0m\u001b[32m and the US National Oceanic and Atmospheric Administration \u001b[0m\u001b[32m(\u001b[0m\u001b[32mNOAA\u001b[0m\u001b[32m)\u001b[0m\u001b[32m have played a role both as \u001b[0m\n",
              "\u001b[32mcreators\\\\nof state-of-the-art ML models \u001b[0m\u001b[32m[\u001b[0m\u001b[32m17\u001b[0m\u001b[32m]\u001b[0m\u001b[32m as well as the trustworthy arbiters of the forecast quality of novel \u001b[0m\n",
              "\u001b[32mexperimental\\\\nML forecast paradigms emerging from academia, industry and operational centers. To achieve its full \u001b[0m\n",
              "\u001b[32mpotential, new\\\\nsimulation datasets at various length and time scales will need to be created tailored to ML model\u001b[0m\n",
              "\u001b[32mtraining. We hope\\\\nthat the results presented in our work inspire the development of regional analysis, \u001b[0m\n",
              "\u001b[32mre-analysis and re-forecast datasets\\\\nover different parts of the globe for training ML models such as \u001b[0m\n",
              "\u001b[32mStormCast.\\\\nOur current work focuses on model emulation alone\\n'\u001b[0m\n",
              "\u001b[1;38;2;118;185;0m}\u001b[0m\n"
            ]
          },
          "metadata": {},
          "output_type": "display_data"
        },
        {
          "data": {
            "text/html": [
              "<pre style=\"white-space:pre;overflow-x:auto;line-height:normal;font-family:Menlo,'DejaVu Sans Mono',consolas,'Courier New',monospace\"><span style=\"color: #800080; text-decoration-color: #800080; font-weight: bold\">ChatPromptValue</span><span style=\"color: #76b900; text-decoration-color: #76b900; font-weight: bold\">(</span>\n",
              "<span style=\"color: #76b900; text-decoration-color: #76b900; font-weight: bold\">    </span><span style=\"color: #808000; text-decoration-color: #808000; font-weight: bold\">messages</span><span style=\"color: #76b900; text-decoration-color: #76b900; font-weight: bold\">=[</span>\n",
              "<span style=\"color: #76b900; text-decoration-color: #76b900; font-weight: bold\">        </span><span style=\"color: #800080; text-decoration-color: #800080; font-weight: bold\">SystemMessage</span><span style=\"color: #76b900; text-decoration-color: #76b900; font-weight: bold\">(</span>\n",
              "<span style=\"color: #76b900; text-decoration-color: #76b900; font-weight: bold\">            </span><span style=\"color: #808000; text-decoration-color: #808000; font-weight: bold\">content</span><span style=\"color: #76b900; text-decoration-color: #76b900; font-weight: bold\">=</span><span style=\"color: #008000; text-decoration-color: #008000\">\"You are a document chatbot. Help the user as they ask questions about documents. User messaged</span>\n",
              "<span style=\"color: #008000; text-decoration-color: #008000\">just asked: which are is not still being studied to have a great weather forecasting\\n\\n From this, we have </span>\n",
              "<span style=\"color: #008000; text-decoration-color: #008000\">retrieved the following potentially-useful info:  Conversation History Retrieval:\\n[Quote from Document] Agent </span>\n",
              "<span style=\"color: #008000; text-decoration-color: #008000\">previously responded with Sure, I'd be happy to help you understand event prediction, particularly in the context </span>\n",
              "<span style=\"color: #008000; text-decoration-color: #008000\">of extreme events.\\n\\nEvent prediction involves using various techniques to estimate the likelihood and potential </span>\n",
              "<span style=\"color: #008000; text-decoration-color: #008000\">impact of future events. In the context of extreme events, such as droughts, heatwaves, floods, and wildfires, </span>\n",
              "<span style=\"color: #008000; text-decoration-color: #008000\">event prediction is crucial for improving disaster response and communication.\\n\\nOne approach to extreme event </span>\n",
              "<span style=\"color: #008000; text-decoration-color: #008000\">prediction is to model the event as a video prediction task, using satellite imagery and climate variables. For </span>\n",
              "<span style=\"color: #008000; text-decoration-color: #008000\">example, the vegetation response under extreme drought conditions can be modeled in this way [1]. Another common </span>\n",
              "<span style=\"color: #008000; text-decoration-color: #008000\">approach is to estimate an indicator that defines the extreme event, such as flood risk maps or drought indices </span>\n",
              "<span style=\"color: #008000; text-decoration-color: #008000\">[2]. The estimated variables can cover different lead times depending on the characteristics of the extreme event, </span>\n",
              "<span style=\"color: #008000; text-decoration-color: #008000\">ranging from short-term prediction to seasonal prediction [3].\\n\\nRecently, deep learning (DL)-based prediction </span>\n",
              "<span style=\"color: #008000; text-decoration-color: #008000\">techniques have gained popularity for their ability to process large data volumes, capture complex nonlinear </span>\n",
              "<span style=\"color: #008000; text-decoration-color: #008000\">relationships, and reduce manual feature engineering. These benefits have led to the creation of global models that</span>\n",
              "<span style=\"color: #008000; text-decoration-color: #008000\">generalize across various locations, as seen in flood and wildfire predictions [4][5].\\n\\nAlternative probabilistic</span>\n",
              "<span style=\"color: #008000; text-decoration-color: #008000\">models, such as surrogate meteorological and hydrological seasonal re-forecasts, Gaussian processes, and nonlinear </span>\n",
              "<span style=\"color: #008000; text-decoration-color: #008000\">dependence measures, have also been proposed for extreme event prediction [6]. These models focus on predicting the</span>\n",
              "<span style=\"color: #008000; text-decoration-color: #008000\">probability distribution of future variable states, rather than providing a single deterministic </span>\n",
              "<span style=\"color: #008000; text-decoration-color: #008000\">prediction.\\n\\nOverall, AI has the potential to significantly improve extreme event prediction and understanding, </span>\n",
              "<span style=\"color: #008000; text-decoration-color: #008000\">but collaboration across different fields is essential to create practical, understandable, and trustworthy AI </span>\n",
              "<span style=\"color: #008000; text-decoration-color: #008000\">solutions for analyzing and predicting extreme events.\\n\\nReferences:\\n[1] AI for Extreme Event Modeling and </span>\n",
              "<span style=\"color: #008000; text-decoration-color: #008000\">Understanding: Methodologies and Challenges, page 4\\n[2] AI for Extreme Event Modeling and Understanding: </span>\n",
              "<span style=\"color: #008000; text-decoration-color: #008000\">Methodologies and Challenges, page 4\\n[3] AI for Extreme Event Modeling and Understanding: Methodologies and </span>\n",
              "<span style=\"color: #008000; text-decoration-color: #008000\">Challenges, page 4\\n[4] AI for Extreme Event Modeling and Understanding: Methodologies and Challenges, page 5\\n[5] </span>\n",
              "<span style=\"color: #008000; text-decoration-color: #008000\">AI for Extreme Event Modeling and Understanding: Methodologies and Challenges, page 5\\n[6] AI for Extreme Event </span>\n",
              "<span style=\"color: #008000; text-decoration-color: #008000\">Modeling and Understanding: Methodologies and Challenges, page 6\\n[Quote from Document] User previously responded </span>\n",
              "<span style=\"color: #008000; text-decoration-color: #008000\">with tell me something about prediction\\n[Quote from Document] User previously responded with Tell me about events </span>\n",
              "<span style=\"color: #008000; text-decoration-color: #008000\">prediction!\\n[Quote from Document] Agent previously responded with Prediction is the process of estimating the </span>\n",
              "<span style=\"color: #008000; text-decoration-color: #008000\">likelihood or outcome of future events using various techniques and models. In the context of extreme events, such </span>\n",
              "<span style=\"color: #008000; text-decoration-color: #008000\">as droughts, heatwaves, floods, and wildfires, prediction is crucial for improving disaster response and </span>\n",
              "<span style=\"color: #008000; text-decoration-color: #008000\">communication.\\n\\nThere are different approaches to extreme event prediction. One approach is to model the event as</span>\n",
              "<span style=\"color: #008000; text-decoration-color: #008000\">a video prediction task using satellite imagery and climate variables. For instance, the vegetation response under </span>\n",
              "<span style=\"color: #008000; text-decoration-color: #008000\">extreme drought conditions can be modeled in this way (AI for Extreme Event Modeling and Understanding: </span>\n",
              "<span style=\"color: #008000; text-decoration-color: #008000\">Methodologies and Challenges, page 4). Another common approach is to estimate an indicator that defines the extreme</span>\n",
              "<span style=\"color: #008000; text-decoration-color: #008000\">event, such as flood risk maps or drought indices (AI for Extreme Event Modeling and Understanding: Methodologies </span>\n",
              "<span style=\"color: #008000; text-decoration-color: #008000\">and Challenges, page 4).\\n\\nRecently, deep learning (DL)-based prediction techniques have gained popularity for </span>\n",
              "<span style=\"color: #008000; text-decoration-color: #008000\">their ability to process large data volumes, capture complex nonlinear relationships, and reduce manual feature </span>\n",
              "<span style=\"color: #008000; text-decoration-color: #008000\">engineering (AI for Extreme Event Modeling and Understanding: Methodologies and Challenges, page 5). These benefits</span>\n",
              "<span style=\"color: #008000; text-decoration-color: #008000\">have led to the creation of global models that generalize across various locations, as seen in flood and wildfire </span>\n",
              "<span style=\"color: #008000; text-decoration-color: #008000\">predictions (AI for Extreme Event Modeling and Understanding: Methodologies and Challenges, page 5).\\n\\nAlternative</span>\n",
              "<span style=\"color: #008000; text-decoration-color: #008000\">probabilistic models, such as surrogate meteorological and hydrological seasonal re-forecasts, Gaussian processes, </span>\n",
              "<span style=\"color: #008000; text-decoration-color: #008000\">and nonlinear dependence measures, have also been proposed for extreme event prediction (AI for Extreme Event </span>\n",
              "<span style=\"color: #008000; text-decoration-color: #008000\">Modeling and Understanding: Methodologies and Challenges, page 6). These models focus on predicting the probability</span>\n",
              "<span style=\"color: #008000; text-decoration-color: #008000\">distribution of future variable states, rather than providing a single deterministic prediction.\\n\\nIn summary, </span>\n",
              "<span style=\"color: #008000; text-decoration-color: #008000\">prediction is a key component in understanding and preparing for future extreme events. By using various techniques</span>\n",
              "<span style=\"color: #008000; text-decoration-color: #008000\">and models, such as DL-based prediction and probabilistic models, we can estimate the likelihood and potential </span>\n",
              "<span style=\"color: #008000; text-decoration-color: #008000\">impact of extreme events and improve disaster response and communication.\\n\\n\\n Document Retrieval:\\n[Quote from </span>\n",
              "<span style=\"color: #008000; text-decoration-color: #008000\">Kilometer-Scale Convection Allowing Model Emulation using Generative Diffusion Modeling] .\\\\nTaken together, these </span>\n",
              "<span style=\"color: #008000; text-decoration-color: #008000\">results imply strong potential for generative autoregressive ML as a valid alternative to traditional\\\\nkm-scale </span>\n",
              "<span style=\"color: #008000; text-decoration-color: #008000\">numerical prediction \\\\u2013 enabling new applications in weather forecasting and climate downscaling alike.\\\\nWe </span>\n",
              "<span style=\"color: #008000; text-decoration-color: #008000\">readily admit several limitations of our model worthy of future work. StormCast was trained on a relatively </span>\n",
              "<span style=\"color: #008000; text-decoration-color: #008000\">small\\\\namount of data from 3.5 years of HRRR analysis. Increasing the volume of training data could improve the </span>\n",
              "<span style=\"color: #008000; text-decoration-color: #008000\">forecast\\\\naccuracy of future models. Similarly, increasing the domain size of training could expose the model to a</span>\n",
              "<span style=\"color: #008000; text-decoration-color: #008000\">more diverse set\\\\nof severe weather phenomena to learn from. Reanalysis datasets such as CONUS404 [69] offer much </span>\n",
              "<span style=\"color: #008000; text-decoration-color: #008000\">longer historical\\\\nrecords and could be leveraged for training to improve model performance. We inadvertently </span>\n",
              "<span style=\"color: #008000; text-decoration-color: #008000\">trained on forecast state\\\\ndata lagged one hour from the HRRR data assimilation cycle; training directly on data </span>\n",
              "<span style=\"color: #008000; text-decoration-color: #008000\">assimilated state data could\\\\nproduce complementary skill\\n[Quote from Kilometer-Scale Convection Allowing Model </span>\n",
              "<span style=\"color: #008000; text-decoration-color: #008000\">Emulation using Generative Diffusion Modeling] .While\\\\nnot bound by constraints like the Courant-Friedrichs-Lewy </span>\n",
              "<span style=\"color: #008000; text-decoration-color: #008000\">(CFL) condition, deterministic ML models will predict\\\\nthe ensemble mean and filter-out any spatial scales not </span>\n",
              "<span style=\"color: #008000; text-decoration-color: #008000\">predictable at that lead time producing unrealistically smooth\\\\nforecasts. Unfortunately, the most readily </span>\n",
              "<span style=\"color: #008000; text-decoration-color: #008000\">available and quality-controlled regional high-resolution and global low-\\\\nresolution weather datasets are </span>\n",
              "<span style=\"color: #008000; text-decoration-color: #008000\">available at a one-hour sampling interval. At this time-scale only spatial scales larger than\\\\n10-20km are </span>\n",
              "<span style=\"color: #008000; text-decoration-color: #008000\">predictable [24, 25] so deterministic models trained with such data will not produce realistic variability at\\\\nthe</span>\n",
              "<span style=\"color: #008000; text-decoration-color: #008000\">km-scale. Therefore the available data for regional convective-scale ML training is under-sampled in time </span>\n",
              "<span style=\"color: #008000; text-decoration-color: #008000\">compared\\\\nto global reanalyses such as ERA5 [26]. Consistent with this view, Ref\\n[Quote from Kilometer-Scale </span>\n",
              "<span style=\"color: #008000; text-decoration-color: #008000\">Convection Allowing Model Emulation using Generative Diffusion Modeling] . Further improving ensemble calibration </span>\n",
              "<span style=\"color: #008000; text-decoration-color: #008000\">could\\\\nunlock the path to very large operational ML ensemble forecasts at the km-scale that would otherwise incur </span>\n",
              "<span style=\"color: #008000; text-decoration-color: #008000\">prohibitive\\\\ncomputational costs with current numerical models.\\\\nFurther work is needed to evaluate the physical </span>\n",
              "<span style=\"color: #008000; text-decoration-color: #008000\">consistency and statistical skill of mesoscale ML prediction models\\\\nsuch as StormCast. This requires a community </span>\n",
              "<span style=\"color: #008000; text-decoration-color: #008000\">effort in designing appropriate forecast baselines and metrics. The\\\\nperformance of ML models in accurately </span>\n",
              "<span style=\"color: #008000; text-decoration-color: #008000\">forecasting severe weather must be rigorously tested before such models\\\\ncan be used in an operational setting. </span>\n",
              "<span style=\"color: #008000; text-decoration-color: #008000\">The role of meteorologists and atmospheric scientists will be prominent in\\\\ndesigning benchmarks for mesoscale </span>\n",
              "<span style=\"color: #008000; text-decoration-color: #008000\">weather forecasts, particularly in assessing forecast skill on severe weather\\n[Quote from Kilometer-Scale </span>\n",
              "<span style=\"color: #008000; text-decoration-color: #008000\">Convection Allowing Model Emulation using Generative Diffusion Modeling] .\\\\nLeading Numerical Weather Forecast </span>\n",
              "<span style=\"color: #008000; text-decoration-color: #008000\">centers such as the European Center for Medium Range Weather Forecasting\\\\n(ECMWF) and the US National Oceanic and </span>\n",
              "<span style=\"color: #008000; text-decoration-color: #008000\">Atmospheric Administration (NOAA) have played a role both as creators\\\\nof state-of-the-art ML models [17] as well </span>\n",
              "<span style=\"color: #008000; text-decoration-color: #008000\">as the trustworthy arbiters of the forecast quality of novel experimental\\\\nML forecast paradigms emerging from </span>\n",
              "<span style=\"color: #008000; text-decoration-color: #008000\">academia, industry and operational centers. To achieve its full potential, new\\\\nsimulation datasets at various </span>\n",
              "<span style=\"color: #008000; text-decoration-color: #008000\">length and time scales will need to be created tailored to ML model training. We hope\\\\nthat the results presented </span>\n",
              "<span style=\"color: #008000; text-decoration-color: #008000\">in our work inspire the development of regional analysis, re-analysis and re-forecast datasets\\\\nover different </span>\n",
              "<span style=\"color: #008000; text-decoration-color: #008000\">parts of the globe for training ML models such as StormCast.\\\\nOur current work focuses on model emulation </span>\n",
              "<span style=\"color: #008000; text-decoration-color: #008000\">alone\\n\\n\\n (Answer only from retrieval. Only cite sources that are used. Make your response conversational.)\"</span>\n",
              "<span style=\"color: #76b900; text-decoration-color: #76b900; font-weight: bold\">        ),</span>\n",
              "<span style=\"color: #76b900; text-decoration-color: #76b900; font-weight: bold\">        </span><span style=\"color: #800080; text-decoration-color: #800080; font-weight: bold\">HumanMessage</span><span style=\"color: #76b900; text-decoration-color: #76b900; font-weight: bold\">(</span><span style=\"color: #808000; text-decoration-color: #808000; font-weight: bold\">content</span><span style=\"color: #76b900; text-decoration-color: #76b900; font-weight: bold\">=</span><span style=\"color: #008000; text-decoration-color: #008000\">'which are is not still being studied to have a great weather forecasting'</span><span style=\"color: #76b900; text-decoration-color: #76b900; font-weight: bold\">)</span>\n",
              "<span style=\"color: #76b900; text-decoration-color: #76b900; font-weight: bold\">    ]</span>\n",
              "<span style=\"color: #76b900; text-decoration-color: #76b900; font-weight: bold\">)</span>\n",
              "</pre>\n"
            ],
            "text/plain": [
              "\u001b[1;35mChatPromptValue\u001b[0m\u001b[1;38;2;118;185;0m(\u001b[0m\n",
              "\u001b[1;38;2;118;185;0m    \u001b[0m\u001b[1;33mmessages\u001b[0m\u001b[1;38;2;118;185;0m=\u001b[0m\u001b[1;38;2;118;185;0m[\u001b[0m\n",
              "\u001b[1;38;2;118;185;0m        \u001b[0m\u001b[1;35mSystemMessage\u001b[0m\u001b[1;38;2;118;185;0m(\u001b[0m\n",
              "\u001b[1;38;2;118;185;0m            \u001b[0m\u001b[1;33mcontent\u001b[0m\u001b[1;38;2;118;185;0m=\u001b[0m\u001b[32m\"You\u001b[0m\u001b[32m are a document chatbot. Help the user as they ask questions about documents. User messaged\u001b[0m\n",
              "\u001b[32mjust asked: which are is not still being studied to have a great weather forecasting\\n\\n From this, we have \u001b[0m\n",
              "\u001b[32mretrieved the following potentially-useful info:  Conversation History Retrieval:\\n\u001b[0m\u001b[32m[\u001b[0m\u001b[32mQuote from Document\u001b[0m\u001b[32m]\u001b[0m\u001b[32m Agent \u001b[0m\n",
              "\u001b[32mpreviously responded with Sure, I'd be happy to help you understand event prediction, particularly in the context \u001b[0m\n",
              "\u001b[32mof extreme events.\\n\\nEvent prediction involves using various techniques to estimate the likelihood and potential \u001b[0m\n",
              "\u001b[32mimpact of future events. In the context of extreme events, such as droughts, heatwaves, floods, and wildfires, \u001b[0m\n",
              "\u001b[32mevent prediction is crucial for improving disaster response and communication.\\n\\nOne approach to extreme event \u001b[0m\n",
              "\u001b[32mprediction is to model the event as a video prediction task, using satellite imagery and climate variables. For \u001b[0m\n",
              "\u001b[32mexample, the vegetation response under extreme drought conditions can be modeled in this way \u001b[0m\u001b[32m[\u001b[0m\u001b[32m1\u001b[0m\u001b[32m]\u001b[0m\u001b[32m. Another common \u001b[0m\n",
              "\u001b[32mapproach is to estimate an indicator that defines the extreme event, such as flood risk maps or drought indices \u001b[0m\n",
              "\u001b[32m[\u001b[0m\u001b[32m2\u001b[0m\u001b[32m]\u001b[0m\u001b[32m. The estimated variables can cover different lead times depending on the characteristics of the extreme event, \u001b[0m\n",
              "\u001b[32mranging from short-term prediction to seasonal prediction \u001b[0m\u001b[32m[\u001b[0m\u001b[32m3\u001b[0m\u001b[32m]\u001b[0m\u001b[32m.\\n\\nRecently, deep learning \u001b[0m\u001b[32m(\u001b[0m\u001b[32mDL\u001b[0m\u001b[32m)\u001b[0m\u001b[32m-based prediction \u001b[0m\n",
              "\u001b[32mtechniques have gained popularity for their ability to process large data volumes, capture complex nonlinear \u001b[0m\n",
              "\u001b[32mrelationships, and reduce manual feature engineering. These benefits have led to the creation of global models that\u001b[0m\n",
              "\u001b[32mgeneralize across various locations, as seen in flood and wildfire predictions \u001b[0m\u001b[32m[\u001b[0m\u001b[32m4\u001b[0m\u001b[32m]\u001b[0m\u001b[32m[\u001b[0m\u001b[32m5\u001b[0m\u001b[32m]\u001b[0m\u001b[32m.\\n\\nAlternative probabilistic\u001b[0m\n",
              "\u001b[32mmodels, such as surrogate meteorological and hydrological seasonal re-forecasts, Gaussian processes, and nonlinear \u001b[0m\n",
              "\u001b[32mdependence measures, have also been proposed for extreme event prediction \u001b[0m\u001b[32m[\u001b[0m\u001b[32m6\u001b[0m\u001b[32m]\u001b[0m\u001b[32m. These models focus on predicting the\u001b[0m\n",
              "\u001b[32mprobability distribution of future variable states, rather than providing a single deterministic \u001b[0m\n",
              "\u001b[32mprediction.\\n\\nOverall, AI has the potential to significantly improve extreme event prediction and understanding, \u001b[0m\n",
              "\u001b[32mbut collaboration across different fields is essential to create practical, understandable, and trustworthy AI \u001b[0m\n",
              "\u001b[32msolutions for analyzing and predicting extreme events.\\n\\nReferences:\\n\u001b[0m\u001b[32m[\u001b[0m\u001b[32m1\u001b[0m\u001b[32m]\u001b[0m\u001b[32m AI for Extreme Event Modeling and \u001b[0m\n",
              "\u001b[32mUnderstanding: Methodologies and Challenges, page 4\\n\u001b[0m\u001b[32m[\u001b[0m\u001b[32m2\u001b[0m\u001b[32m]\u001b[0m\u001b[32m AI for Extreme Event Modeling and Understanding: \u001b[0m\n",
              "\u001b[32mMethodologies and Challenges, page 4\\n\u001b[0m\u001b[32m[\u001b[0m\u001b[32m3\u001b[0m\u001b[32m]\u001b[0m\u001b[32m AI for Extreme Event Modeling and Understanding: Methodologies and \u001b[0m\n",
              "\u001b[32mChallenges, page 4\\n\u001b[0m\u001b[32m[\u001b[0m\u001b[32m4\u001b[0m\u001b[32m]\u001b[0m\u001b[32m AI for Extreme Event Modeling and Understanding: Methodologies and Challenges, page 5\\n\u001b[0m\u001b[32m[\u001b[0m\u001b[32m5\u001b[0m\u001b[32m]\u001b[0m\u001b[32m \u001b[0m\n",
              "\u001b[32mAI for Extreme Event Modeling and Understanding: Methodologies and Challenges, page 5\\n\u001b[0m\u001b[32m[\u001b[0m\u001b[32m6\u001b[0m\u001b[32m]\u001b[0m\u001b[32m AI for Extreme Event \u001b[0m\n",
              "\u001b[32mModeling and Understanding: Methodologies and Challenges, page 6\\n\u001b[0m\u001b[32m[\u001b[0m\u001b[32mQuote from Document\u001b[0m\u001b[32m]\u001b[0m\u001b[32m User previously responded \u001b[0m\n",
              "\u001b[32mwith tell me something about prediction\\n\u001b[0m\u001b[32m[\u001b[0m\u001b[32mQuote from Document\u001b[0m\u001b[32m]\u001b[0m\u001b[32m User previously responded with Tell me about events \u001b[0m\n",
              "\u001b[32mprediction!\\n\u001b[0m\u001b[32m[\u001b[0m\u001b[32mQuote from Document\u001b[0m\u001b[32m]\u001b[0m\u001b[32m Agent previously responded with Prediction is the process of estimating the \u001b[0m\n",
              "\u001b[32mlikelihood or outcome of future events using various techniques and models. In the context of extreme events, such \u001b[0m\n",
              "\u001b[32mas droughts, heatwaves, floods, and wildfires, prediction is crucial for improving disaster response and \u001b[0m\n",
              "\u001b[32mcommunication.\\n\\nThere are different approaches to extreme event prediction. One approach is to model the event as\u001b[0m\n",
              "\u001b[32ma video prediction task using satellite imagery and climate variables. For instance, the vegetation response under \u001b[0m\n",
              "\u001b[32mextreme drought conditions can be modeled in this way \u001b[0m\u001b[32m(\u001b[0m\u001b[32mAI for Extreme Event Modeling and Understanding: \u001b[0m\n",
              "\u001b[32mMethodologies and Challenges, page 4\u001b[0m\u001b[32m)\u001b[0m\u001b[32m. Another common approach is to estimate an indicator that defines the extreme\u001b[0m\n",
              "\u001b[32mevent, such as flood risk maps or drought indices \u001b[0m\u001b[32m(\u001b[0m\u001b[32mAI for Extreme Event Modeling and Understanding: Methodologies \u001b[0m\n",
              "\u001b[32mand Challenges, page 4\u001b[0m\u001b[32m)\u001b[0m\u001b[32m.\\n\\nRecently, deep learning \u001b[0m\u001b[32m(\u001b[0m\u001b[32mDL\u001b[0m\u001b[32m)\u001b[0m\u001b[32m-based prediction techniques have gained popularity for \u001b[0m\n",
              "\u001b[32mtheir ability to process large data volumes, capture complex nonlinear relationships, and reduce manual feature \u001b[0m\n",
              "\u001b[32mengineering \u001b[0m\u001b[32m(\u001b[0m\u001b[32mAI for Extreme Event Modeling and Understanding: Methodologies and Challenges, page 5\u001b[0m\u001b[32m)\u001b[0m\u001b[32m. These benefits\u001b[0m\n",
              "\u001b[32mhave led to the creation of global models that generalize across various locations, as seen in flood and wildfire \u001b[0m\n",
              "\u001b[32mpredictions \u001b[0m\u001b[32m(\u001b[0m\u001b[32mAI for Extreme Event Modeling and Understanding: Methodologies and Challenges, page 5\u001b[0m\u001b[32m)\u001b[0m\u001b[32m.\\n\\nAlternative\u001b[0m\n",
              "\u001b[32mprobabilistic models, such as surrogate meteorological and hydrological seasonal re-forecasts, Gaussian processes, \u001b[0m\n",
              "\u001b[32mand nonlinear dependence measures, have also been proposed for extreme event prediction \u001b[0m\u001b[32m(\u001b[0m\u001b[32mAI for Extreme Event \u001b[0m\n",
              "\u001b[32mModeling and Understanding: Methodologies and Challenges, page 6\u001b[0m\u001b[32m)\u001b[0m\u001b[32m. These models focus on predicting the probability\u001b[0m\n",
              "\u001b[32mdistribution of future variable states, rather than providing a single deterministic prediction.\\n\\nIn summary, \u001b[0m\n",
              "\u001b[32mprediction is a key component in understanding and preparing for future extreme events. By using various techniques\u001b[0m\n",
              "\u001b[32mand models, such as DL-based prediction and probabilistic models, we can estimate the likelihood and potential \u001b[0m\n",
              "\u001b[32mimpact of extreme events and improve disaster response and communication.\\n\\n\\n Document Retrieval:\\n\u001b[0m\u001b[32m[\u001b[0m\u001b[32mQuote from \u001b[0m\n",
              "\u001b[32mKilometer-Scale Convection Allowing Model Emulation using Generative Diffusion Modeling\u001b[0m\u001b[32m]\u001b[0m\u001b[32m .\\\\nTaken together, these \u001b[0m\n",
              "\u001b[32mresults imply strong potential for generative autoregressive ML as a valid alternative to traditional\\\\nkm-scale \u001b[0m\n",
              "\u001b[32mnumerical prediction \\\\u2013 enabling new applications in weather forecasting and climate downscaling alike.\\\\nWe \u001b[0m\n",
              "\u001b[32mreadily admit several limitations of our model worthy of future work. StormCast was trained on a relatively \u001b[0m\n",
              "\u001b[32msmall\\\\namount of data from 3.5 years of HRRR analysis. Increasing the volume of training data could improve the \u001b[0m\n",
              "\u001b[32mforecast\\\\naccuracy of future models. Similarly, increasing the domain size of training could expose the model to a\u001b[0m\n",
              "\u001b[32mmore diverse set\\\\nof severe weather phenomena to learn from. Reanalysis datasets such as CONUS404 \u001b[0m\u001b[32m[\u001b[0m\u001b[32m69\u001b[0m\u001b[32m]\u001b[0m\u001b[32m offer much \u001b[0m\n",
              "\u001b[32mlonger historical\\\\nrecords and could be leveraged for training to improve model performance. We inadvertently \u001b[0m\n",
              "\u001b[32mtrained on forecast state\\\\ndata lagged one hour from the HRRR data assimilation cycle; training directly on data \u001b[0m\n",
              "\u001b[32massimilated state data could\\\\nproduce complementary skill\\n\u001b[0m\u001b[32m[\u001b[0m\u001b[32mQuote from Kilometer-Scale Convection Allowing Model \u001b[0m\n",
              "\u001b[32mEmulation using Generative Diffusion Modeling\u001b[0m\u001b[32m]\u001b[0m\u001b[32m .While\\\\nnot bound by constraints like the Courant-Friedrichs-Lewy \u001b[0m\n",
              "\u001b[32m(\u001b[0m\u001b[32mCFL\u001b[0m\u001b[32m)\u001b[0m\u001b[32m condition, deterministic ML models will predict\\\\nthe ensemble mean and filter-out any spatial scales not \u001b[0m\n",
              "\u001b[32mpredictable at that lead time producing unrealistically smooth\\\\nforecasts. Unfortunately, the most readily \u001b[0m\n",
              "\u001b[32mavailable and quality-controlled regional high-resolution and global low-\\\\nresolution weather datasets are \u001b[0m\n",
              "\u001b[32mavailable at a one-hour sampling interval. At this time-scale only spatial scales larger than\\\\n10-20km are \u001b[0m\n",
              "\u001b[32mpredictable \u001b[0m\u001b[32m[\u001b[0m\u001b[32m24, 25\u001b[0m\u001b[32m]\u001b[0m\u001b[32m so deterministic models trained with such data will not produce realistic variability at\\\\nthe\u001b[0m\n",
              "\u001b[32mkm-scale. Therefore the available data for regional convective-scale ML training is under-sampled in time \u001b[0m\n",
              "\u001b[32mcompared\\\\nto global reanalyses such as ERA5 \u001b[0m\u001b[32m[\u001b[0m\u001b[32m26\u001b[0m\u001b[32m]\u001b[0m\u001b[32m. Consistent with this view, Ref\\n\u001b[0m\u001b[32m[\u001b[0m\u001b[32mQuote from Kilometer-Scale \u001b[0m\n",
              "\u001b[32mConvection Allowing Model Emulation using Generative Diffusion Modeling\u001b[0m\u001b[32m]\u001b[0m\u001b[32m . Further improving ensemble calibration \u001b[0m\n",
              "\u001b[32mcould\\\\nunlock the path to very large operational ML ensemble forecasts at the km-scale that would otherwise incur \u001b[0m\n",
              "\u001b[32mprohibitive\\\\ncomputational costs with current numerical models.\\\\nFurther work is needed to evaluate the physical \u001b[0m\n",
              "\u001b[32mconsistency and statistical skill of mesoscale ML prediction models\\\\nsuch as StormCast. This requires a community \u001b[0m\n",
              "\u001b[32meffort in designing appropriate forecast baselines and metrics. The\\\\nperformance of ML models in accurately \u001b[0m\n",
              "\u001b[32mforecasting severe weather must be rigorously tested before such models\\\\ncan be used in an operational setting. \u001b[0m\n",
              "\u001b[32mThe role of meteorologists and atmospheric scientists will be prominent in\\\\ndesigning benchmarks for mesoscale \u001b[0m\n",
              "\u001b[32mweather forecasts, particularly in assessing forecast skill on severe weather\\n\u001b[0m\u001b[32m[\u001b[0m\u001b[32mQuote from Kilometer-Scale \u001b[0m\n",
              "\u001b[32mConvection Allowing Model Emulation using Generative Diffusion Modeling\u001b[0m\u001b[32m]\u001b[0m\u001b[32m .\\\\nLeading Numerical Weather Forecast \u001b[0m\n",
              "\u001b[32mcenters such as the European Center for Medium Range Weather Forecasting\\\\n\u001b[0m\u001b[32m(\u001b[0m\u001b[32mECMWF\u001b[0m\u001b[32m)\u001b[0m\u001b[32m and the US National Oceanic and \u001b[0m\n",
              "\u001b[32mAtmospheric Administration \u001b[0m\u001b[32m(\u001b[0m\u001b[32mNOAA\u001b[0m\u001b[32m)\u001b[0m\u001b[32m have played a role both as creators\\\\nof state-of-the-art ML models \u001b[0m\u001b[32m[\u001b[0m\u001b[32m17\u001b[0m\u001b[32m]\u001b[0m\u001b[32m as well \u001b[0m\n",
              "\u001b[32mas the trustworthy arbiters of the forecast quality of novel experimental\\\\nML forecast paradigms emerging from \u001b[0m\n",
              "\u001b[32macademia, industry and operational centers. To achieve its full potential, new\\\\nsimulation datasets at various \u001b[0m\n",
              "\u001b[32mlength and time scales will need to be created tailored to ML model training. We hope\\\\nthat the results presented \u001b[0m\n",
              "\u001b[32min our work inspire the development of regional analysis, re-analysis and re-forecast datasets\\\\nover different \u001b[0m\n",
              "\u001b[32mparts of the globe for training ML models such as StormCast.\\\\nOur current work focuses on model emulation \u001b[0m\n",
              "\u001b[32malone\\n\\n\\n \u001b[0m\u001b[32m(\u001b[0m\u001b[32mAnswer only from retrieval. Only cite sources that are used. Make your response conversational.\u001b[0m\u001b[32m)\u001b[0m\u001b[32m\"\u001b[0m\n",
              "\u001b[1;38;2;118;185;0m        \u001b[0m\u001b[1;38;2;118;185;0m)\u001b[0m\u001b[1;38;2;118;185;0m,\u001b[0m\n",
              "\u001b[1;38;2;118;185;0m        \u001b[0m\u001b[1;35mHumanMessage\u001b[0m\u001b[1;38;2;118;185;0m(\u001b[0m\u001b[1;33mcontent\u001b[0m\u001b[1;38;2;118;185;0m=\u001b[0m\u001b[32m'which are is not still being studied to have a great weather forecasting'\u001b[0m\u001b[1;38;2;118;185;0m)\u001b[0m\n",
              "\u001b[1;38;2;118;185;0m    \u001b[0m\u001b[1;38;2;118;185;0m]\u001b[0m\n",
              "\u001b[1;38;2;118;185;0m)\u001b[0m\n"
            ]
          },
          "metadata": {},
          "output_type": "display_data"
        },
        {
          "name": "stdout",
          "output_type": "stream",
          "text": [
            "Keyboard interruption in main thread... closing server.\n",
            "Killing tunnel 127.0.0.1:7860 <> https://a791f72e9b06fff7a1.gradio.live\n",
            "Closing server running on port: 7860\n"
          ]
        }
      ],
      "source": [
        "chatbot = gr.Chatbot(value = [[None, initial_msg]])\n",
        "demo = gr.ChatInterface(chat_gen, chatbot=chatbot).queue()\n",
        "\n",
        "try:\n",
        "     demo.launch(debug=True, share=True, show_api=False)\n",
        "     demo.close()\n",
        "except Exception as e:\n",
        "     demo.close()\n",
        "     print(e)\n",
        "     raise e"
      ]
    },
    {
      "cell_type": "markdown",
      "id": "yCb3RVVfbmQ0",
      "metadata": {
        "id": "yCb3RVVfbmQ0"
      },
      "source": [
        "<br>\n",
        "\n",
        "----\n",
        "\n",
        "<br>\n",
        "\n",
        "## Saving Your Index For Evaluation\n"
      ]
    },
    {
      "cell_type": "code",
      "execution_count": null,
      "id": "Y4se5wQ4Afda",
      "metadata": {
        "id": "Y4se5wQ4Afda",
        "outputId": "e06bfe78-abcf-48d1-d7ab-7d8ebfd25625"
      },
      "outputs": [
        {
          "name": "stdout",
          "output_type": "stream",
          "text": [
            "docstore_index/\n",
            "docstore_index/index.pkl\n",
            "docstore_index/index.faiss\n"
          ]
        }
      ],
      "source": [
        "## Save and compress your index\n",
        "docstore.save_local(\"docstore_index\")\n",
        "!tar czvf docstore_index.tgz docstore_index\n",
        "\n",
        "!rm -rf docstore_index"
      ]
    },
    {
      "cell_type": "markdown",
      "id": "LsI7NivbIgFw",
      "metadata": {
        "id": "LsI7NivbIgFw"
      },
      "source": [
        "If everything was properly saved, the following line can be invoked to pull the index from the compressed `tgz` file (assuming the pip requirements are installed)."
      ]
    },
    {
      "cell_type": "code",
      "execution_count": null,
      "id": "Qs8820ucIu1t",
      "metadata": {
        "id": "Qs8820ucIu1t",
        "outputId": "cebb1921-af53-4ccd-db4d-ef8ada467682"
      },
      "outputs": [
        {
          "name": "stdout",
          "output_type": "stream",
          "text": [
            "docstore_index/\n",
            "docstore_index/index.pkl\n",
            "docstore_index/index.faiss\n",
            ". To demonstrate, we build an index using the DrQA [5]\\nWikipedia dump from December 2016 and compare outputs from RAG using this index to the newer\\nindex from our main results (December 2018). We prepare a list of 82 world leaders who had changed\\n7\\nTable 4: Human assessments for the Jeopardy\\nQuestion Generation Task.\\nFactuality\\nSpeci\\ufb01city\\nBART better\\n7.1%\\n16.8%\\nRAG better\\n42.7%\\n37.4%\\nBoth good\\n11.7%\\n11.8%\\nBoth poor\\n17.7%\\n6.9%\\nNo majority\\n20.8%\\n20.1%\\nTable 5: Ratio of distinct to total tri-grams for\\ngeneration tasks.\\nMSMARCO\\nJeopardy QGen\\nGold\\n89.6%\\n90.0%\\nBART\\n70.7%\\n32.4%\\nRAG-Token\\n77.8%\\n46.8%\\nRAG-Seq.\\n83.5%\\n53.8%\\nTable 6: Ablations on the dev set. As FEVER is a classi\\ufb01cation task, both RAG models are equivalent.\\nModel\\nNQ\\nTQA\\nWQ\\nCT\\nJeopardy-QGen\\nMSMarco\\nFVR-3\\nFVR-2\\nExact Match\\nB-1\\nQB-1\\nR-L\\nB-1\\nLabel Accuracy\\nRAG-Token-BM25\\n29.7\\n41.5\\n32.1\\n33.1\\n17.5\\n22.3\\n55.5\\n48.4\\n75.1\\n91.6\\nRAG-Sequence-BM25\\n31.8\\n44.1\\n36.6\\n33\n"
          ]
        }
      ],
      "source": [
        "from langchain_nvidia_ai_endpoints import NVIDIAEmbeddings\n",
        "from langchain_community.vectorstores import FAISS\n",
        "\n",
        "# embedder = NVIDIAEmbeddings(model=\"nvidia/nv-embed-v1\", truncate=\"END\")\n",
        "!tar xzvf docstore_index.tgz\n",
        "new_db = FAISS.load_local(\"docstore_index\", embedder, allow_dangerous_deserialization=True)\n",
        "docs = new_db.similarity_search(\"Testing the index\")\n",
        "print(docs[0].page_content[:1000])"
      ]
    }
  ],
  "metadata": {
    "colab": {
      "provenance": [],
      "toc_visible": true
    },
    "kernelspec": {
      "display_name": "Python 3 (ipykernel)",
      "language": "python",
      "name": "python3"
    },
    "language_info": {
      "codemirror_mode": {
        "name": "ipython",
        "version": 3
      },
      "file_extension": ".py",
      "mimetype": "text/x-python",
      "name": "python",
      "nbconvert_exporter": "python",
      "pygments_lexer": "ipython3",
      "version": "3.11.9"
    }
  },
  "nbformat": 4,
  "nbformat_minor": 5
}